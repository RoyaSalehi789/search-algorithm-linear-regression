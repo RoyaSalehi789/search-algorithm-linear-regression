{
 "cells": [
  {
   "cell_type": "code",
   "execution_count": 230,
   "id": "bf75df3a-98e7-4902-991a-f029fa5fe6b1",
   "metadata": {},
   "outputs": [],
   "source": [
    "import pandas as pd\n",
    "from sklearn.model_selection import train_test_split\n",
    "from sklearn.preprocessing import LabelEncoder\n",
    "import numpy as np"
   ]
  },
  {
   "cell_type": "code",
   "execution_count": 231,
   "id": "6659a17f-c124-4d4e-9ef2-7629668ae692",
   "metadata": {},
   "outputs": [],
   "source": [
    "X = pd.read_csv('Flight_Price_Dataset_Q2.csv')"
   ]
  },
  {
   "cell_type": "code",
   "execution_count": 232,
   "id": "b15fc791-6319-4223-b24b-cc0ebc184bc4",
   "metadata": {},
   "outputs": [],
   "source": [
    "label_encoder = LabelEncoder()\n",
    "\n",
    "X['departure_time'] = label_encoder.fit_transform(X['departure_time'])\n",
    "X['stops'] = label_encoder.fit_transform(X['stops'])\n",
    "X['arrival_time'] = label_encoder.fit_transform(X['arrival_time'])\n",
    "X['class'] = label_encoder.fit_transform(X['class'])\n"
   ]
  },
  {
   "cell_type": "code",
   "execution_count": 233,
   "id": "2b5f2ef5-9063-4031-923a-1554eedb4521",
   "metadata": {
    "scrolled": true
   },
   "outputs": [
    {
     "data": {
      "text/html": [
       "<div>\n",
       "<style scoped>\n",
       "    .dataframe tbody tr th:only-of-type {\n",
       "        vertical-align: middle;\n",
       "    }\n",
       "\n",
       "    .dataframe tbody tr th {\n",
       "        vertical-align: top;\n",
       "    }\n",
       "\n",
       "    .dataframe thead th {\n",
       "        text-align: right;\n",
       "    }\n",
       "</style>\n",
       "<table border=\"1\" class=\"dataframe\">\n",
       "  <thead>\n",
       "    <tr style=\"text-align: right;\">\n",
       "      <th></th>\n",
       "      <th>departure_time</th>\n",
       "      <th>stops</th>\n",
       "      <th>arrival_time</th>\n",
       "      <th>class</th>\n",
       "      <th>duration</th>\n",
       "      <th>days_left</th>\n",
       "      <th>price</th>\n",
       "    </tr>\n",
       "  </thead>\n",
       "  <tbody>\n",
       "    <tr>\n",
       "      <th>0</th>\n",
       "      <td>2</td>\n",
       "      <td>2</td>\n",
       "      <td>5</td>\n",
       "      <td>1</td>\n",
       "      <td>2.17</td>\n",
       "      <td>1</td>\n",
       "      <td>5953</td>\n",
       "    </tr>\n",
       "    <tr>\n",
       "      <th>1</th>\n",
       "      <td>1</td>\n",
       "      <td>2</td>\n",
       "      <td>4</td>\n",
       "      <td>1</td>\n",
       "      <td>2.33</td>\n",
       "      <td>1</td>\n",
       "      <td>5953</td>\n",
       "    </tr>\n",
       "    <tr>\n",
       "      <th>2</th>\n",
       "      <td>1</td>\n",
       "      <td>2</td>\n",
       "      <td>1</td>\n",
       "      <td>1</td>\n",
       "      <td>2.17</td>\n",
       "      <td>1</td>\n",
       "      <td>5956</td>\n",
       "    </tr>\n",
       "    <tr>\n",
       "      <th>3</th>\n",
       "      <td>4</td>\n",
       "      <td>2</td>\n",
       "      <td>0</td>\n",
       "      <td>1</td>\n",
       "      <td>2.25</td>\n",
       "      <td>1</td>\n",
       "      <td>5955</td>\n",
       "    </tr>\n",
       "    <tr>\n",
       "      <th>4</th>\n",
       "      <td>4</td>\n",
       "      <td>2</td>\n",
       "      <td>4</td>\n",
       "      <td>1</td>\n",
       "      <td>2.33</td>\n",
       "      <td>1</td>\n",
       "      <td>5955</td>\n",
       "    </tr>\n",
       "    <tr>\n",
       "      <th>...</th>\n",
       "      <td>...</td>\n",
       "      <td>...</td>\n",
       "      <td>...</td>\n",
       "      <td>...</td>\n",
       "      <td>...</td>\n",
       "      <td>...</td>\n",
       "      <td>...</td>\n",
       "    </tr>\n",
       "    <tr>\n",
       "      <th>270133</th>\n",
       "      <td>1</td>\n",
       "      <td>0</td>\n",
       "      <td>5</td>\n",
       "      <td>0</td>\n",
       "      <td>17.25</td>\n",
       "      <td>49</td>\n",
       "      <td>68739</td>\n",
       "    </tr>\n",
       "    <tr>\n",
       "      <th>270134</th>\n",
       "      <td>4</td>\n",
       "      <td>0</td>\n",
       "      <td>2</td>\n",
       "      <td>0</td>\n",
       "      <td>10.08</td>\n",
       "      <td>49</td>\n",
       "      <td>69265</td>\n",
       "    </tr>\n",
       "    <tr>\n",
       "      <th>270135</th>\n",
       "      <td>0</td>\n",
       "      <td>0</td>\n",
       "      <td>5</td>\n",
       "      <td>0</td>\n",
       "      <td>10.42</td>\n",
       "      <td>49</td>\n",
       "      <td>77105</td>\n",
       "    </tr>\n",
       "    <tr>\n",
       "      <th>270136</th>\n",
       "      <td>1</td>\n",
       "      <td>0</td>\n",
       "      <td>2</td>\n",
       "      <td>0</td>\n",
       "      <td>10.00</td>\n",
       "      <td>49</td>\n",
       "      <td>81585</td>\n",
       "    </tr>\n",
       "    <tr>\n",
       "      <th>270137</th>\n",
       "      <td>4</td>\n",
       "      <td>0</td>\n",
       "      <td>2</td>\n",
       "      <td>0</td>\n",
       "      <td>10.08</td>\n",
       "      <td>49</td>\n",
       "      <td>81585</td>\n",
       "    </tr>\n",
       "  </tbody>\n",
       "</table>\n",
       "<p>270138 rows × 7 columns</p>\n",
       "</div>"
      ],
      "text/plain": [
       "        departure_time  stops  arrival_time  class  duration  days_left  price\n",
       "0                    2      2             5      1      2.17          1   5953\n",
       "1                    1      2             4      1      2.33          1   5953\n",
       "2                    1      2             1      1      2.17          1   5956\n",
       "3                    4      2             0      1      2.25          1   5955\n",
       "4                    4      2             4      1      2.33          1   5955\n",
       "...                ...    ...           ...    ...       ...        ...    ...\n",
       "270133               1      0             5      0     17.25         49  68739\n",
       "270134               4      0             2      0     10.08         49  69265\n",
       "270135               0      0             5      0     10.42         49  77105\n",
       "270136               1      0             2      0     10.00         49  81585\n",
       "270137               4      0             2      0     10.08         49  81585\n",
       "\n",
       "[270138 rows x 7 columns]"
      ]
     },
     "execution_count": 233,
     "metadata": {},
     "output_type": "execute_result"
    }
   ],
   "source": [
    "X"
   ]
  },
  {
   "cell_type": "code",
   "execution_count": 234,
   "id": "87a70678-7d32-46dc-b33b-28c41a6591cc",
   "metadata": {},
   "outputs": [],
   "source": [
    "Y = X['price']"
   ]
  },
  {
   "cell_type": "code",
   "execution_count": 235,
   "id": "42ea4cc4-416b-4cb6-a459-6a5190984a9f",
   "metadata": {},
   "outputs": [],
   "source": [
    "X = X.drop('price', axis=1)"
   ]
  },
  {
   "cell_type": "code",
   "execution_count": 236,
   "id": "338d7638-baba-4585-95b9-695635c36423",
   "metadata": {},
   "outputs": [
    {
     "data": {
      "text/html": [
       "<div>\n",
       "<style scoped>\n",
       "    .dataframe tbody tr th:only-of-type {\n",
       "        vertical-align: middle;\n",
       "    }\n",
       "\n",
       "    .dataframe tbody tr th {\n",
       "        vertical-align: top;\n",
       "    }\n",
       "\n",
       "    .dataframe thead th {\n",
       "        text-align: right;\n",
       "    }\n",
       "</style>\n",
       "<table border=\"1\" class=\"dataframe\">\n",
       "  <thead>\n",
       "    <tr style=\"text-align: right;\">\n",
       "      <th></th>\n",
       "      <th>departure_time</th>\n",
       "      <th>stops</th>\n",
       "      <th>arrival_time</th>\n",
       "      <th>class</th>\n",
       "      <th>duration</th>\n",
       "      <th>days_left</th>\n",
       "    </tr>\n",
       "  </thead>\n",
       "  <tbody>\n",
       "    <tr>\n",
       "      <th>0</th>\n",
       "      <td>2</td>\n",
       "      <td>2</td>\n",
       "      <td>5</td>\n",
       "      <td>1</td>\n",
       "      <td>2.17</td>\n",
       "      <td>1</td>\n",
       "    </tr>\n",
       "    <tr>\n",
       "      <th>1</th>\n",
       "      <td>1</td>\n",
       "      <td>2</td>\n",
       "      <td>4</td>\n",
       "      <td>1</td>\n",
       "      <td>2.33</td>\n",
       "      <td>1</td>\n",
       "    </tr>\n",
       "    <tr>\n",
       "      <th>2</th>\n",
       "      <td>1</td>\n",
       "      <td>2</td>\n",
       "      <td>1</td>\n",
       "      <td>1</td>\n",
       "      <td>2.17</td>\n",
       "      <td>1</td>\n",
       "    </tr>\n",
       "    <tr>\n",
       "      <th>3</th>\n",
       "      <td>4</td>\n",
       "      <td>2</td>\n",
       "      <td>0</td>\n",
       "      <td>1</td>\n",
       "      <td>2.25</td>\n",
       "      <td>1</td>\n",
       "    </tr>\n",
       "    <tr>\n",
       "      <th>4</th>\n",
       "      <td>4</td>\n",
       "      <td>2</td>\n",
       "      <td>4</td>\n",
       "      <td>1</td>\n",
       "      <td>2.33</td>\n",
       "      <td>1</td>\n",
       "    </tr>\n",
       "    <tr>\n",
       "      <th>...</th>\n",
       "      <td>...</td>\n",
       "      <td>...</td>\n",
       "      <td>...</td>\n",
       "      <td>...</td>\n",
       "      <td>...</td>\n",
       "      <td>...</td>\n",
       "    </tr>\n",
       "    <tr>\n",
       "      <th>270133</th>\n",
       "      <td>1</td>\n",
       "      <td>0</td>\n",
       "      <td>5</td>\n",
       "      <td>0</td>\n",
       "      <td>17.25</td>\n",
       "      <td>49</td>\n",
       "    </tr>\n",
       "    <tr>\n",
       "      <th>270134</th>\n",
       "      <td>4</td>\n",
       "      <td>0</td>\n",
       "      <td>2</td>\n",
       "      <td>0</td>\n",
       "      <td>10.08</td>\n",
       "      <td>49</td>\n",
       "    </tr>\n",
       "    <tr>\n",
       "      <th>270135</th>\n",
       "      <td>0</td>\n",
       "      <td>0</td>\n",
       "      <td>5</td>\n",
       "      <td>0</td>\n",
       "      <td>10.42</td>\n",
       "      <td>49</td>\n",
       "    </tr>\n",
       "    <tr>\n",
       "      <th>270136</th>\n",
       "      <td>1</td>\n",
       "      <td>0</td>\n",
       "      <td>2</td>\n",
       "      <td>0</td>\n",
       "      <td>10.00</td>\n",
       "      <td>49</td>\n",
       "    </tr>\n",
       "    <tr>\n",
       "      <th>270137</th>\n",
       "      <td>4</td>\n",
       "      <td>0</td>\n",
       "      <td>2</td>\n",
       "      <td>0</td>\n",
       "      <td>10.08</td>\n",
       "      <td>49</td>\n",
       "    </tr>\n",
       "  </tbody>\n",
       "</table>\n",
       "<p>270138 rows × 6 columns</p>\n",
       "</div>"
      ],
      "text/plain": [
       "        departure_time  stops  arrival_time  class  duration  days_left\n",
       "0                    2      2             5      1      2.17          1\n",
       "1                    1      2             4      1      2.33          1\n",
       "2                    1      2             1      1      2.17          1\n",
       "3                    4      2             0      1      2.25          1\n",
       "4                    4      2             4      1      2.33          1\n",
       "...                ...    ...           ...    ...       ...        ...\n",
       "270133               1      0             5      0     17.25         49\n",
       "270134               4      0             2      0     10.08         49\n",
       "270135               0      0             5      0     10.42         49\n",
       "270136               1      0             2      0     10.00         49\n",
       "270137               4      0             2      0     10.08         49\n",
       "\n",
       "[270138 rows x 6 columns]"
      ]
     },
     "execution_count": 236,
     "metadata": {},
     "output_type": "execute_result"
    }
   ],
   "source": [
    "X"
   ]
  },
  {
   "cell_type": "code",
   "execution_count": 237,
   "id": "37f54409-604e-4e91-b3b0-051cbf86a3ab",
   "metadata": {},
   "outputs": [],
   "source": [
    "X_train, X_test, Y_train, Y_test = train_test_split(X, Y, test_size=0.2)"
   ]
  },
  {
   "cell_type": "code",
   "execution_count": 238,
   "id": "c590bb77-ed2f-4173-8855-99e846f5b114",
   "metadata": {},
   "outputs": [
    {
     "data": {
      "text/html": [
       "<div>\n",
       "<style scoped>\n",
       "    .dataframe tbody tr th:only-of-type {\n",
       "        vertical-align: middle;\n",
       "    }\n",
       "\n",
       "    .dataframe tbody tr th {\n",
       "        vertical-align: top;\n",
       "    }\n",
       "\n",
       "    .dataframe thead th {\n",
       "        text-align: right;\n",
       "    }\n",
       "</style>\n",
       "<table border=\"1\" class=\"dataframe\">\n",
       "  <thead>\n",
       "    <tr style=\"text-align: right;\">\n",
       "      <th></th>\n",
       "      <th>departure_time</th>\n",
       "      <th>stops</th>\n",
       "      <th>arrival_time</th>\n",
       "      <th>class</th>\n",
       "      <th>duration</th>\n",
       "      <th>days_left</th>\n",
       "    </tr>\n",
       "  </thead>\n",
       "  <tbody>\n",
       "    <tr>\n",
       "      <th>62583</th>\n",
       "      <td>2</td>\n",
       "      <td>0</td>\n",
       "      <td>2</td>\n",
       "      <td>1</td>\n",
       "      <td>23.58</td>\n",
       "      <td>45</td>\n",
       "    </tr>\n",
       "    <tr>\n",
       "      <th>132164</th>\n",
       "      <td>1</td>\n",
       "      <td>0</td>\n",
       "      <td>0</td>\n",
       "      <td>1</td>\n",
       "      <td>9.67</td>\n",
       "      <td>38</td>\n",
       "    </tr>\n",
       "    <tr>\n",
       "      <th>1634</th>\n",
       "      <td>1</td>\n",
       "      <td>0</td>\n",
       "      <td>5</td>\n",
       "      <td>1</td>\n",
       "      <td>14.92</td>\n",
       "      <td>11</td>\n",
       "    </tr>\n",
       "    <tr>\n",
       "      <th>214990</th>\n",
       "      <td>5</td>\n",
       "      <td>0</td>\n",
       "      <td>2</td>\n",
       "      <td>0</td>\n",
       "      <td>19.08</td>\n",
       "      <td>14</td>\n",
       "    </tr>\n",
       "    <tr>\n",
       "      <th>115671</th>\n",
       "      <td>5</td>\n",
       "      <td>0</td>\n",
       "      <td>4</td>\n",
       "      <td>1</td>\n",
       "      <td>10.67</td>\n",
       "      <td>9</td>\n",
       "    </tr>\n",
       "    <tr>\n",
       "      <th>...</th>\n",
       "      <td>...</td>\n",
       "      <td>...</td>\n",
       "      <td>...</td>\n",
       "      <td>...</td>\n",
       "      <td>...</td>\n",
       "      <td>...</td>\n",
       "    </tr>\n",
       "    <tr>\n",
       "      <th>238885</th>\n",
       "      <td>1</td>\n",
       "      <td>0</td>\n",
       "      <td>2</td>\n",
       "      <td>0</td>\n",
       "      <td>10.50</td>\n",
       "      <td>22</td>\n",
       "    </tr>\n",
       "    <tr>\n",
       "      <th>118225</th>\n",
       "      <td>1</td>\n",
       "      <td>0</td>\n",
       "      <td>0</td>\n",
       "      <td>1</td>\n",
       "      <td>9.58</td>\n",
       "      <td>25</td>\n",
       "    </tr>\n",
       "    <tr>\n",
       "      <th>156554</th>\n",
       "      <td>0</td>\n",
       "      <td>0</td>\n",
       "      <td>5</td>\n",
       "      <td>1</td>\n",
       "      <td>9.83</td>\n",
       "      <td>29</td>\n",
       "    </tr>\n",
       "    <tr>\n",
       "      <th>183004</th>\n",
       "      <td>0</td>\n",
       "      <td>0</td>\n",
       "      <td>5</td>\n",
       "      <td>1</td>\n",
       "      <td>8.42</td>\n",
       "      <td>10</td>\n",
       "    </tr>\n",
       "    <tr>\n",
       "      <th>248974</th>\n",
       "      <td>1</td>\n",
       "      <td>0</td>\n",
       "      <td>2</td>\n",
       "      <td>0</td>\n",
       "      <td>12.00</td>\n",
       "      <td>38</td>\n",
       "    </tr>\n",
       "  </tbody>\n",
       "</table>\n",
       "<p>216110 rows × 6 columns</p>\n",
       "</div>"
      ],
      "text/plain": [
       "        departure_time  stops  arrival_time  class  duration  days_left\n",
       "62583                2      0             2      1     23.58         45\n",
       "132164               1      0             0      1      9.67         38\n",
       "1634                 1      0             5      1     14.92         11\n",
       "214990               5      0             2      0     19.08         14\n",
       "115671               5      0             4      1     10.67          9\n",
       "...                ...    ...           ...    ...       ...        ...\n",
       "238885               1      0             2      0     10.50         22\n",
       "118225               1      0             0      1      9.58         25\n",
       "156554               0      0             5      1      9.83         29\n",
       "183004               0      0             5      1      8.42         10\n",
       "248974               1      0             2      0     12.00         38\n",
       "\n",
       "[216110 rows x 6 columns]"
      ]
     },
     "execution_count": 238,
     "metadata": {},
     "output_type": "execute_result"
    }
   ],
   "source": [
    "X_train"
   ]
  },
  {
   "cell_type": "code",
   "execution_count": 239,
   "id": "be15ef8d-e231-43e2-9cc0-84c65c3c8ecd",
   "metadata": {},
   "outputs": [],
   "source": [
    "min_items_list = list(X.min())"
   ]
  },
  {
   "cell_type": "code",
   "execution_count": 240,
   "id": "d7a17e78-45a7-4b3b-83ed-6b86d98e96ef",
   "metadata": {},
   "outputs": [],
   "source": [
    "max_items_list = list(X.max())"
   ]
  },
  {
   "cell_type": "code",
   "execution_count": 241,
   "id": "d8e4e7d8-bede-44fe-8b35-524d83e5c505",
   "metadata": {},
   "outputs": [],
   "source": [
    "departure_time_normalization = np.array([])\n",
    "stops_normalization = np.array([])\n",
    "arrival_time_normalization = np.array([])\n",
    "class_normalization = np.array([])\n",
    "duration_normalization = np.array([])\n",
    "days_left_normalization = np.array([])"
   ]
  },
  {
   "cell_type": "code",
   "execution_count": 242,
   "id": "29b488a4-2e93-4094-806d-df65d600a93d",
   "metadata": {},
   "outputs": [],
   "source": [
    "departure_time_normalization = X_train['departure_time'].to_numpy()\n",
    "stops_normalization = X_train['stops'].to_numpy()\n",
    "arrival_time_normalization = X_train['arrival_time'].to_numpy()\n",
    "class_normalization = X_train['class'].to_numpy()\n",
    "duration_normalization = X_train['duration'].to_numpy()\n",
    "days_left_normalization = X_train['days_left'].to_numpy()"
   ]
  },
  {
   "cell_type": "code",
   "execution_count": 243,
   "id": "d8213264-0be6-4af6-b61a-f47515f7752f",
   "metadata": {},
   "outputs": [
    {
     "data": {
      "text/plain": [
       "array([0, 0, 0, ..., 0, 0, 0])"
      ]
     },
     "execution_count": 243,
     "metadata": {},
     "output_type": "execute_result"
    }
   ],
   "source": [
    "stops_normalization"
   ]
  },
  {
   "cell_type": "code",
   "execution_count": 244,
   "id": "5704a0f3-59a5-47e2-b093-dcb2ac32c40c",
   "metadata": {},
   "outputs": [],
   "source": [
    "for i in range(len(X_train.index)):\n",
    "    np.put(departure_time_normalization, [i], (departure_time_normalization[i] - min_items_list[0])/ (max_items_list[0] - min_items_list[0]))\n",
    "\n",
    "    np.put(stops_normalization, [i], (stops_normalization[i] - min_items_list[1])/ (max_items_list[1] - min_items_list[1]))\n",
    "\n",
    "    np.put(arrival_time_normalization, [i], (arrival_time_normalization[i] - min_items_list[2])/ (max_items_list[2] - min_items_list[2]))\n",
    "\n",
    "    np.put(class_normalization, [i], (class_normalization[i] - min_items_list[3])/ (max_items_list[3] - min_items_list[3]))\n",
    "\n",
    "    np.put(duration_normalization, [i], (duration_normalization[i] - min_items_list[4])/ (max_items_list[4] - min_items_list[4]))\n",
    "\n",
    "    np.put(days_left_normalization, [i], (days_left_normalization[i] - min_items_list[5])/ (max_items_list[5] - min_items_list[5]))\n",
    "    "
   ]
  },
  {
   "cell_type": "code",
   "execution_count": 245,
   "id": "16acf1ac-6f48-4297-87c3-0962e98629b2",
   "metadata": {},
   "outputs": [
    {
     "data": {
      "text/plain": [
       "departure_time    0.00\n",
       "stops             0.00\n",
       "arrival_time      0.00\n",
       "class             0.00\n",
       "duration          0.83\n",
       "days_left         1.00\n",
       "dtype: float64"
      ]
     },
     "execution_count": 245,
     "metadata": {},
     "output_type": "execute_result"
    }
   ],
   "source": [
    "X.min()"
   ]
  },
  {
   "cell_type": "code",
   "execution_count": 246,
   "id": "fa8d4b6e-ebfa-4604-8ebf-6c32ee256519",
   "metadata": {},
   "outputs": [
    {
     "data": {
      "text/plain": [
       "departure_time     5.00\n",
       "stops              2.00\n",
       "arrival_time       5.00\n",
       "class              1.00\n",
       "duration          49.83\n",
       "days_left         49.00\n",
       "dtype: float64"
      ]
     },
     "execution_count": 246,
     "metadata": {},
     "output_type": "execute_result"
    }
   ],
   "source": [
    "X.max()"
   ]
  },
  {
   "cell_type": "code",
   "execution_count": 247,
   "id": "bdc29e9a-c97d-4081-9bb0-f537b9de48be",
   "metadata": {},
   "outputs": [
    {
     "data": {
      "text/plain": [
       "-0.5424489795918367"
      ]
     },
     "execution_count": 247,
     "metadata": {},
     "output_type": "execute_result"
    }
   ],
   "source": [
    "(duration_normalization[2] - min_items_list[4])"
   ]
  },
  {
   "cell_type": "code",
   "execution_count": 248,
   "id": "40186f03-fff7-40f0-89a1-6e88b8bf000c",
   "metadata": {},
   "outputs": [
    {
     "data": {
      "text/plain": [
       "0.28755102040816327"
      ]
     },
     "execution_count": 248,
     "metadata": {},
     "output_type": "execute_result"
    }
   ],
   "source": [
    "duration_normalization[2]"
   ]
  },
  {
   "cell_type": "code",
   "execution_count": null,
   "id": "cc174fec-d2ba-4fd2-967a-f4e7c9cc98d8",
   "metadata": {},
   "outputs": [],
   "source": []
  }
 ],
 "metadata": {
  "kernelspec": {
   "display_name": "Python 3 (ipykernel)",
   "language": "python",
   "name": "python3"
  },
  "language_info": {
   "codemirror_mode": {
    "name": "ipython",
    "version": 3
   },
   "file_extension": ".py",
   "mimetype": "text/x-python",
   "name": "python",
   "nbconvert_exporter": "python",
   "pygments_lexer": "ipython3",
   "version": "3.11.5"
  }
 },
 "nbformat": 4,
 "nbformat_minor": 5
}
