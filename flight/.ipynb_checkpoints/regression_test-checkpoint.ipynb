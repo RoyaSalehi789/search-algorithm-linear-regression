{
 "cells": [
  {
   "cell_type": "code",
   "execution_count": 161,
   "id": "bf75df3a-98e7-4902-991a-f029fa5fe6b1",
   "metadata": {
    "pycharm": {
     "name": "#%%\n"
    }
   },
   "outputs": [],
   "source": [
    "import pandas as pd\n",
    "from sklearn.model_selection import train_test_split\n",
    "from sklearn.preprocessing import LabelEncoder\n",
    "import numpy as np"
   ]
  },
  {
   "cell_type": "code",
   "execution_count": 162,
   "id": "6659a17f-c124-4d4e-9ef2-7629668ae692",
   "metadata": {
    "pycharm": {
     "name": "#%%\n"
    }
   },
   "outputs": [],
   "source": [
    "X = pd.read_csv('Flight_Price_Dataset_Q2.csv')"
   ]
  },
  {
   "cell_type": "code",
   "execution_count": 163,
   "id": "b360f341",
   "metadata": {
    "collapsed": false,
    "jupyter": {
     "outputs_hidden": false
    },
    "pycharm": {
     "name": "#%%\n"
    }
   },
   "outputs": [],
   "source": [
    "label_encoder = LabelEncoder()\n",
    "\n",
    "X['departure_time'] =label_encoder.fit_transform(X['departure_time'])\n",
    "X['stops'] = label_encoder.fit_transform(X['stops'])\n",
    "X['arrival_time'] = label_encoder.fit_transform(X['arrival_time'])\n",
    "X['class'] = label_encoder.fit_transform(X['class'])\n"
   ]
  },
  {
   "cell_type": "code",
   "execution_count": 164,
   "id": "dcb3a234",
   "metadata": {
    "collapsed": false,
    "jupyter": {
     "outputs_hidden": false
    },
    "pycharm": {
     "name": "#%%\n"
    }
   },
   "outputs": [
    {
     "data": {
      "text/html": [
       "<div>\n",
       "<style scoped>\n",
       "    .dataframe tbody tr th:only-of-type {\n",
       "        vertical-align: middle;\n",
       "    }\n",
       "\n",
       "    .dataframe tbody tr th {\n",
       "        vertical-align: top;\n",
       "    }\n",
       "\n",
       "    .dataframe thead th {\n",
       "        text-align: right;\n",
       "    }\n",
       "</style>\n",
       "<table border=\"1\" class=\"dataframe\">\n",
       "  <thead>\n",
       "    <tr style=\"text-align: right;\">\n",
       "      <th></th>\n",
       "      <th>departure_time</th>\n",
       "      <th>stops</th>\n",
       "      <th>arrival_time</th>\n",
       "      <th>class</th>\n",
       "      <th>duration</th>\n",
       "      <th>days_left</th>\n",
       "      <th>price</th>\n",
       "    </tr>\n",
       "  </thead>\n",
       "  <tbody>\n",
       "    <tr>\n",
       "      <th>0</th>\n",
       "      <td>2</td>\n",
       "      <td>2</td>\n",
       "      <td>5</td>\n",
       "      <td>1</td>\n",
       "      <td>2.17</td>\n",
       "      <td>1</td>\n",
       "      <td>5953</td>\n",
       "    </tr>\n",
       "    <tr>\n",
       "      <th>1</th>\n",
       "      <td>1</td>\n",
       "      <td>2</td>\n",
       "      <td>4</td>\n",
       "      <td>1</td>\n",
       "      <td>2.33</td>\n",
       "      <td>1</td>\n",
       "      <td>5953</td>\n",
       "    </tr>\n",
       "    <tr>\n",
       "      <th>2</th>\n",
       "      <td>1</td>\n",
       "      <td>2</td>\n",
       "      <td>1</td>\n",
       "      <td>1</td>\n",
       "      <td>2.17</td>\n",
       "      <td>1</td>\n",
       "      <td>5956</td>\n",
       "    </tr>\n",
       "    <tr>\n",
       "      <th>3</th>\n",
       "      <td>4</td>\n",
       "      <td>2</td>\n",
       "      <td>0</td>\n",
       "      <td>1</td>\n",
       "      <td>2.25</td>\n",
       "      <td>1</td>\n",
       "      <td>5955</td>\n",
       "    </tr>\n",
       "    <tr>\n",
       "      <th>4</th>\n",
       "      <td>4</td>\n",
       "      <td>2</td>\n",
       "      <td>4</td>\n",
       "      <td>1</td>\n",
       "      <td>2.33</td>\n",
       "      <td>1</td>\n",
       "      <td>5955</td>\n",
       "    </tr>\n",
       "    <tr>\n",
       "      <th>...</th>\n",
       "      <td>...</td>\n",
       "      <td>...</td>\n",
       "      <td>...</td>\n",
       "      <td>...</td>\n",
       "      <td>...</td>\n",
       "      <td>...</td>\n",
       "      <td>...</td>\n",
       "    </tr>\n",
       "    <tr>\n",
       "      <th>270133</th>\n",
       "      <td>1</td>\n",
       "      <td>0</td>\n",
       "      <td>5</td>\n",
       "      <td>0</td>\n",
       "      <td>17.25</td>\n",
       "      <td>49</td>\n",
       "      <td>68739</td>\n",
       "    </tr>\n",
       "    <tr>\n",
       "      <th>270134</th>\n",
       "      <td>4</td>\n",
       "      <td>0</td>\n",
       "      <td>2</td>\n",
       "      <td>0</td>\n",
       "      <td>10.08</td>\n",
       "      <td>49</td>\n",
       "      <td>69265</td>\n",
       "    </tr>\n",
       "    <tr>\n",
       "      <th>270135</th>\n",
       "      <td>0</td>\n",
       "      <td>0</td>\n",
       "      <td>5</td>\n",
       "      <td>0</td>\n",
       "      <td>10.42</td>\n",
       "      <td>49</td>\n",
       "      <td>77105</td>\n",
       "    </tr>\n",
       "    <tr>\n",
       "      <th>270136</th>\n",
       "      <td>1</td>\n",
       "      <td>0</td>\n",
       "      <td>2</td>\n",
       "      <td>0</td>\n",
       "      <td>10.00</td>\n",
       "      <td>49</td>\n",
       "      <td>81585</td>\n",
       "    </tr>\n",
       "    <tr>\n",
       "      <th>270137</th>\n",
       "      <td>4</td>\n",
       "      <td>0</td>\n",
       "      <td>2</td>\n",
       "      <td>0</td>\n",
       "      <td>10.08</td>\n",
       "      <td>49</td>\n",
       "      <td>81585</td>\n",
       "    </tr>\n",
       "  </tbody>\n",
       "</table>\n",
       "<p>270138 rows × 7 columns</p>\n",
       "</div>"
      ],
      "text/plain": [
       "        departure_time  stops  arrival_time  class  duration  days_left  price\n",
       "0                    2      2             5      1      2.17          1   5953\n",
       "1                    1      2             4      1      2.33          1   5953\n",
       "2                    1      2             1      1      2.17          1   5956\n",
       "3                    4      2             0      1      2.25          1   5955\n",
       "4                    4      2             4      1      2.33          1   5955\n",
       "...                ...    ...           ...    ...       ...        ...    ...\n",
       "270133               1      0             5      0     17.25         49  68739\n",
       "270134               4      0             2      0     10.08         49  69265\n",
       "270135               0      0             5      0     10.42         49  77105\n",
       "270136               1      0             2      0     10.00         49  81585\n",
       "270137               4      0             2      0     10.08         49  81585\n",
       "\n",
       "[270138 rows x 7 columns]"
      ]
     },
     "execution_count": 164,
     "metadata": {},
     "output_type": "execute_result"
    }
   ],
   "source": [
    "X"
   ]
  },
  {
   "cell_type": "code",
   "execution_count": 165,
   "id": "9acd9e41",
   "metadata": {
    "collapsed": false,
    "jupyter": {
     "outputs_hidden": false
    },
    "pycharm": {
     "name": "#%%\n"
    }
   },
   "outputs": [],
   "source": [
    "Y = list(X['price'])"
   ]
  },
  {
   "cell_type": "code",
   "execution_count": 166,
   "id": "5b121feb",
   "metadata": {
    "collapsed": false,
    "jupyter": {
     "outputs_hidden": false
    },
    "pycharm": {
     "name": "#%%\n"
    }
   },
   "outputs": [],
   "source": [
    "Y = {'price' : Y}\n",
    "Y = pd.DataFrame(Y)"
   ]
  },
  {
   "cell_type": "code",
   "execution_count": 167,
   "id": "a13fa9f5",
   "metadata": {
    "collapsed": false,
    "jupyter": {
     "outputs_hidden": false
    },
    "pycharm": {
     "name": "#%%\n"
    }
   },
   "outputs": [
    {
     "data": {
      "text/html": [
       "<div>\n",
       "<style scoped>\n",
       "    .dataframe tbody tr th:only-of-type {\n",
       "        vertical-align: middle;\n",
       "    }\n",
       "\n",
       "    .dataframe tbody tr th {\n",
       "        vertical-align: top;\n",
       "    }\n",
       "\n",
       "    .dataframe thead th {\n",
       "        text-align: right;\n",
       "    }\n",
       "</style>\n",
       "<table border=\"1\" class=\"dataframe\">\n",
       "  <thead>\n",
       "    <tr style=\"text-align: right;\">\n",
       "      <th></th>\n",
       "      <th>price</th>\n",
       "    </tr>\n",
       "  </thead>\n",
       "  <tbody>\n",
       "    <tr>\n",
       "      <th>0</th>\n",
       "      <td>5953</td>\n",
       "    </tr>\n",
       "    <tr>\n",
       "      <th>1</th>\n",
       "      <td>5953</td>\n",
       "    </tr>\n",
       "    <tr>\n",
       "      <th>2</th>\n",
       "      <td>5956</td>\n",
       "    </tr>\n",
       "    <tr>\n",
       "      <th>3</th>\n",
       "      <td>5955</td>\n",
       "    </tr>\n",
       "    <tr>\n",
       "      <th>4</th>\n",
       "      <td>5955</td>\n",
       "    </tr>\n",
       "    <tr>\n",
       "      <th>...</th>\n",
       "      <td>...</td>\n",
       "    </tr>\n",
       "    <tr>\n",
       "      <th>270133</th>\n",
       "      <td>68739</td>\n",
       "    </tr>\n",
       "    <tr>\n",
       "      <th>270134</th>\n",
       "      <td>69265</td>\n",
       "    </tr>\n",
       "    <tr>\n",
       "      <th>270135</th>\n",
       "      <td>77105</td>\n",
       "    </tr>\n",
       "    <tr>\n",
       "      <th>270136</th>\n",
       "      <td>81585</td>\n",
       "    </tr>\n",
       "    <tr>\n",
       "      <th>270137</th>\n",
       "      <td>81585</td>\n",
       "    </tr>\n",
       "  </tbody>\n",
       "</table>\n",
       "<p>270138 rows × 1 columns</p>\n",
       "</div>"
      ],
      "text/plain": [
       "        price\n",
       "0        5953\n",
       "1        5953\n",
       "2        5956\n",
       "3        5955\n",
       "4        5955\n",
       "...       ...\n",
       "270133  68739\n",
       "270134  69265\n",
       "270135  77105\n",
       "270136  81585\n",
       "270137  81585\n",
       "\n",
       "[270138 rows x 1 columns]"
      ]
     },
     "execution_count": 167,
     "metadata": {},
     "output_type": "execute_result"
    }
   ],
   "source": [
    "Y"
   ]
  },
  {
   "cell_type": "code",
   "execution_count": 168,
   "id": "93aa0e17",
   "metadata": {
    "collapsed": false,
    "jupyter": {
     "outputs_hidden": false
    },
    "pycharm": {
     "name": "#%%\n"
    }
   },
   "outputs": [],
   "source": [
    "X['departure_time'] = X['departure_time'].astype(float)\n",
    "X['stops'] = X['stops'].astype(float)\n",
    "X['arrival_time'] = X['arrival_time'].astype(float)\n",
    "X['class'] = X['class'].astype(float)\n",
    "X['days_left'] = X['days_left'].astype(float)\n",
    "\n",
    "Y['price'] = Y['price'].astype(float)"
   ]
  },
  {
   "cell_type": "code",
   "execution_count": 169,
   "id": "b0c29f81",
   "metadata": {
    "collapsed": false,
    "jupyter": {
     "outputs_hidden": false
    },
    "pycharm": {
     "name": "#%%\n"
    }
   },
   "outputs": [],
   "source": [
    "X = X.drop('price', axis=1)"
   ]
  },
  {
   "cell_type": "code",
   "execution_count": 170,
   "id": "ef111db2",
   "metadata": {
    "collapsed": false,
    "jupyter": {
     "outputs_hidden": false
    },
    "pycharm": {
     "name": "#%%\n"
    }
   },
   "outputs": [
    {
     "data": {
      "text/html": [
       "<div>\n",
       "<style scoped>\n",
       "    .dataframe tbody tr th:only-of-type {\n",
       "        vertical-align: middle;\n",
       "    }\n",
       "\n",
       "    .dataframe tbody tr th {\n",
       "        vertical-align: top;\n",
       "    }\n",
       "\n",
       "    .dataframe thead th {\n",
       "        text-align: right;\n",
       "    }\n",
       "</style>\n",
       "<table border=\"1\" class=\"dataframe\">\n",
       "  <thead>\n",
       "    <tr style=\"text-align: right;\">\n",
       "      <th></th>\n",
       "      <th>departure_time</th>\n",
       "      <th>stops</th>\n",
       "      <th>arrival_time</th>\n",
       "      <th>class</th>\n",
       "      <th>duration</th>\n",
       "      <th>days_left</th>\n",
       "    </tr>\n",
       "  </thead>\n",
       "  <tbody>\n",
       "    <tr>\n",
       "      <th>0</th>\n",
       "      <td>2.0</td>\n",
       "      <td>2.0</td>\n",
       "      <td>5.0</td>\n",
       "      <td>1.0</td>\n",
       "      <td>2.17</td>\n",
       "      <td>1.0</td>\n",
       "    </tr>\n",
       "    <tr>\n",
       "      <th>1</th>\n",
       "      <td>1.0</td>\n",
       "      <td>2.0</td>\n",
       "      <td>4.0</td>\n",
       "      <td>1.0</td>\n",
       "      <td>2.33</td>\n",
       "      <td>1.0</td>\n",
       "    </tr>\n",
       "    <tr>\n",
       "      <th>2</th>\n",
       "      <td>1.0</td>\n",
       "      <td>2.0</td>\n",
       "      <td>1.0</td>\n",
       "      <td>1.0</td>\n",
       "      <td>2.17</td>\n",
       "      <td>1.0</td>\n",
       "    </tr>\n",
       "    <tr>\n",
       "      <th>3</th>\n",
       "      <td>4.0</td>\n",
       "      <td>2.0</td>\n",
       "      <td>0.0</td>\n",
       "      <td>1.0</td>\n",
       "      <td>2.25</td>\n",
       "      <td>1.0</td>\n",
       "    </tr>\n",
       "    <tr>\n",
       "      <th>4</th>\n",
       "      <td>4.0</td>\n",
       "      <td>2.0</td>\n",
       "      <td>4.0</td>\n",
       "      <td>1.0</td>\n",
       "      <td>2.33</td>\n",
       "      <td>1.0</td>\n",
       "    </tr>\n",
       "    <tr>\n",
       "      <th>...</th>\n",
       "      <td>...</td>\n",
       "      <td>...</td>\n",
       "      <td>...</td>\n",
       "      <td>...</td>\n",
       "      <td>...</td>\n",
       "      <td>...</td>\n",
       "    </tr>\n",
       "    <tr>\n",
       "      <th>270133</th>\n",
       "      <td>1.0</td>\n",
       "      <td>0.0</td>\n",
       "      <td>5.0</td>\n",
       "      <td>0.0</td>\n",
       "      <td>17.25</td>\n",
       "      <td>49.0</td>\n",
       "    </tr>\n",
       "    <tr>\n",
       "      <th>270134</th>\n",
       "      <td>4.0</td>\n",
       "      <td>0.0</td>\n",
       "      <td>2.0</td>\n",
       "      <td>0.0</td>\n",
       "      <td>10.08</td>\n",
       "      <td>49.0</td>\n",
       "    </tr>\n",
       "    <tr>\n",
       "      <th>270135</th>\n",
       "      <td>0.0</td>\n",
       "      <td>0.0</td>\n",
       "      <td>5.0</td>\n",
       "      <td>0.0</td>\n",
       "      <td>10.42</td>\n",
       "      <td>49.0</td>\n",
       "    </tr>\n",
       "    <tr>\n",
       "      <th>270136</th>\n",
       "      <td>1.0</td>\n",
       "      <td>0.0</td>\n",
       "      <td>2.0</td>\n",
       "      <td>0.0</td>\n",
       "      <td>10.00</td>\n",
       "      <td>49.0</td>\n",
       "    </tr>\n",
       "    <tr>\n",
       "      <th>270137</th>\n",
       "      <td>4.0</td>\n",
       "      <td>0.0</td>\n",
       "      <td>2.0</td>\n",
       "      <td>0.0</td>\n",
       "      <td>10.08</td>\n",
       "      <td>49.0</td>\n",
       "    </tr>\n",
       "  </tbody>\n",
       "</table>\n",
       "<p>270138 rows × 6 columns</p>\n",
       "</div>"
      ],
      "text/plain": [
       "        departure_time  stops  arrival_time  class  duration  days_left\n",
       "0                  2.0    2.0           5.0    1.0      2.17        1.0\n",
       "1                  1.0    2.0           4.0    1.0      2.33        1.0\n",
       "2                  1.0    2.0           1.0    1.0      2.17        1.0\n",
       "3                  4.0    2.0           0.0    1.0      2.25        1.0\n",
       "4                  4.0    2.0           4.0    1.0      2.33        1.0\n",
       "...                ...    ...           ...    ...       ...        ...\n",
       "270133             1.0    0.0           5.0    0.0     17.25       49.0\n",
       "270134             4.0    0.0           2.0    0.0     10.08       49.0\n",
       "270135             0.0    0.0           5.0    0.0     10.42       49.0\n",
       "270136             1.0    0.0           2.0    0.0     10.00       49.0\n",
       "270137             4.0    0.0           2.0    0.0     10.08       49.0\n",
       "\n",
       "[270138 rows x 6 columns]"
      ]
     },
     "execution_count": 170,
     "metadata": {},
     "output_type": "execute_result"
    }
   ],
   "source": [
    "X"
   ]
  },
  {
   "cell_type": "code",
   "execution_count": 171,
   "id": "40dfa728",
   "metadata": {
    "collapsed": false,
    "jupyter": {
     "outputs_hidden": false
    },
    "pycharm": {
     "name": "#%%\n"
    }
   },
   "outputs": [],
   "source": [
    "X_train, X_test, Y_train, Y_test = train_test_split(X, Y, test_size=0.2)"
   ]
  },
  {
   "cell_type": "code",
   "execution_count": 172,
   "id": "aeb3e357",
   "metadata": {
    "collapsed": false,
    "jupyter": {
     "outputs_hidden": false
    },
    "pycharm": {
     "name": "#%%\n"
    }
   },
   "outputs": [
    {
     "data": {
      "text/html": [
       "<div>\n",
       "<style scoped>\n",
       "    .dataframe tbody tr th:only-of-type {\n",
       "        vertical-align: middle;\n",
       "    }\n",
       "\n",
       "    .dataframe tbody tr th {\n",
       "        vertical-align: top;\n",
       "    }\n",
       "\n",
       "    .dataframe thead th {\n",
       "        text-align: right;\n",
       "    }\n",
       "</style>\n",
       "<table border=\"1\" class=\"dataframe\">\n",
       "  <thead>\n",
       "    <tr style=\"text-align: right;\">\n",
       "      <th></th>\n",
       "      <th>price</th>\n",
       "    </tr>\n",
       "  </thead>\n",
       "  <tbody>\n",
       "    <tr>\n",
       "      <th>0</th>\n",
       "      <td>5953.0</td>\n",
       "    </tr>\n",
       "    <tr>\n",
       "      <th>1</th>\n",
       "      <td>5953.0</td>\n",
       "    </tr>\n",
       "    <tr>\n",
       "      <th>2</th>\n",
       "      <td>5956.0</td>\n",
       "    </tr>\n",
       "    <tr>\n",
       "      <th>3</th>\n",
       "      <td>5955.0</td>\n",
       "    </tr>\n",
       "    <tr>\n",
       "      <th>4</th>\n",
       "      <td>5955.0</td>\n",
       "    </tr>\n",
       "    <tr>\n",
       "      <th>...</th>\n",
       "      <td>...</td>\n",
       "    </tr>\n",
       "    <tr>\n",
       "      <th>270133</th>\n",
       "      <td>68739.0</td>\n",
       "    </tr>\n",
       "    <tr>\n",
       "      <th>270134</th>\n",
       "      <td>69265.0</td>\n",
       "    </tr>\n",
       "    <tr>\n",
       "      <th>270135</th>\n",
       "      <td>77105.0</td>\n",
       "    </tr>\n",
       "    <tr>\n",
       "      <th>270136</th>\n",
       "      <td>81585.0</td>\n",
       "    </tr>\n",
       "    <tr>\n",
       "      <th>270137</th>\n",
       "      <td>81585.0</td>\n",
       "    </tr>\n",
       "  </tbody>\n",
       "</table>\n",
       "<p>270138 rows × 1 columns</p>\n",
       "</div>"
      ],
      "text/plain": [
       "          price\n",
       "0        5953.0\n",
       "1        5953.0\n",
       "2        5956.0\n",
       "3        5955.0\n",
       "4        5955.0\n",
       "...         ...\n",
       "270133  68739.0\n",
       "270134  69265.0\n",
       "270135  77105.0\n",
       "270136  81585.0\n",
       "270137  81585.0\n",
       "\n",
       "[270138 rows x 1 columns]"
      ]
     },
     "execution_count": 172,
     "metadata": {},
     "output_type": "execute_result"
    }
   ],
   "source": [
    "Y"
   ]
  },
  {
   "cell_type": "code",
   "execution_count": 173,
   "id": "5a60a997",
   "metadata": {
    "collapsed": false,
    "jupyter": {
     "outputs_hidden": false
    },
    "pycharm": {
     "name": "#%%\n"
    }
   },
   "outputs": [
    {
     "data": {
      "text/html": [
       "<div>\n",
       "<style scoped>\n",
       "    .dataframe tbody tr th:only-of-type {\n",
       "        vertical-align: middle;\n",
       "    }\n",
       "\n",
       "    .dataframe tbody tr th {\n",
       "        vertical-align: top;\n",
       "    }\n",
       "\n",
       "    .dataframe thead th {\n",
       "        text-align: right;\n",
       "    }\n",
       "</style>\n",
       "<table border=\"1\" class=\"dataframe\">\n",
       "  <thead>\n",
       "    <tr style=\"text-align: right;\">\n",
       "      <th></th>\n",
       "      <th>departure_time</th>\n",
       "      <th>stops</th>\n",
       "      <th>arrival_time</th>\n",
       "      <th>class</th>\n",
       "      <th>duration</th>\n",
       "      <th>days_left</th>\n",
       "    </tr>\n",
       "  </thead>\n",
       "  <tbody>\n",
       "    <tr>\n",
       "      <th>236928</th>\n",
       "      <td>2.0</td>\n",
       "      <td>0.0</td>\n",
       "      <td>3.0</td>\n",
       "      <td>0.0</td>\n",
       "      <td>7.33</td>\n",
       "      <td>36.0</td>\n",
       "    </tr>\n",
       "    <tr>\n",
       "      <th>97219</th>\n",
       "      <td>4.0</td>\n",
       "      <td>0.0</td>\n",
       "      <td>5.0</td>\n",
       "      <td>1.0</td>\n",
       "      <td>11.92</td>\n",
       "      <td>38.0</td>\n",
       "    </tr>\n",
       "    <tr>\n",
       "      <th>157007</th>\n",
       "      <td>5.0</td>\n",
       "      <td>0.0</td>\n",
       "      <td>2.0</td>\n",
       "      <td>1.0</td>\n",
       "      <td>20.75</td>\n",
       "      <td>33.0</td>\n",
       "    </tr>\n",
       "    <tr>\n",
       "      <th>129645</th>\n",
       "      <td>5.0</td>\n",
       "      <td>0.0</td>\n",
       "      <td>1.0</td>\n",
       "      <td>1.0</td>\n",
       "      <td>11.25</td>\n",
       "      <td>15.0</td>\n",
       "    </tr>\n",
       "    <tr>\n",
       "      <th>243261</th>\n",
       "      <td>2.0</td>\n",
       "      <td>2.0</td>\n",
       "      <td>5.0</td>\n",
       "      <td>0.0</td>\n",
       "      <td>2.25</td>\n",
       "      <td>3.0</td>\n",
       "    </tr>\n",
       "    <tr>\n",
       "      <th>...</th>\n",
       "      <td>...</td>\n",
       "      <td>...</td>\n",
       "      <td>...</td>\n",
       "      <td>...</td>\n",
       "      <td>...</td>\n",
       "      <td>...</td>\n",
       "    </tr>\n",
       "    <tr>\n",
       "      <th>254208</th>\n",
       "      <td>0.0</td>\n",
       "      <td>2.0</td>\n",
       "      <td>0.0</td>\n",
       "      <td>0.0</td>\n",
       "      <td>1.25</td>\n",
       "      <td>40.0</td>\n",
       "    </tr>\n",
       "    <tr>\n",
       "      <th>167079</th>\n",
       "      <td>1.0</td>\n",
       "      <td>0.0</td>\n",
       "      <td>0.0</td>\n",
       "      <td>1.0</td>\n",
       "      <td>7.17</td>\n",
       "      <td>37.0</td>\n",
       "    </tr>\n",
       "    <tr>\n",
       "      <th>162536</th>\n",
       "      <td>2.0</td>\n",
       "      <td>0.0</td>\n",
       "      <td>5.0</td>\n",
       "      <td>1.0</td>\n",
       "      <td>7.67</td>\n",
       "      <td>2.0</td>\n",
       "    </tr>\n",
       "    <tr>\n",
       "      <th>53330</th>\n",
       "      <td>4.0</td>\n",
       "      <td>0.0</td>\n",
       "      <td>5.0</td>\n",
       "      <td>1.0</td>\n",
       "      <td>10.00</td>\n",
       "      <td>37.0</td>\n",
       "    </tr>\n",
       "    <tr>\n",
       "      <th>179981</th>\n",
       "      <td>2.0</td>\n",
       "      <td>2.0</td>\n",
       "      <td>5.0</td>\n",
       "      <td>1.0</td>\n",
       "      <td>2.33</td>\n",
       "      <td>23.0</td>\n",
       "    </tr>\n",
       "  </tbody>\n",
       "</table>\n",
       "<p>216110 rows × 6 columns</p>\n",
       "</div>"
      ],
      "text/plain": [
       "        departure_time  stops  arrival_time  class  duration  days_left\n",
       "236928             2.0    0.0           3.0    0.0      7.33       36.0\n",
       "97219              4.0    0.0           5.0    1.0     11.92       38.0\n",
       "157007             5.0    0.0           2.0    1.0     20.75       33.0\n",
       "129645             5.0    0.0           1.0    1.0     11.25       15.0\n",
       "243261             2.0    2.0           5.0    0.0      2.25        3.0\n",
       "...                ...    ...           ...    ...       ...        ...\n",
       "254208             0.0    2.0           0.0    0.0      1.25       40.0\n",
       "167079             1.0    0.0           0.0    1.0      7.17       37.0\n",
       "162536             2.0    0.0           5.0    1.0      7.67        2.0\n",
       "53330              4.0    0.0           5.0    1.0     10.00       37.0\n",
       "179981             2.0    2.0           5.0    1.0      2.33       23.0\n",
       "\n",
       "[216110 rows x 6 columns]"
      ]
     },
     "execution_count": 173,
     "metadata": {},
     "output_type": "execute_result"
    }
   ],
   "source": [
    "X_train"
   ]
  },
  {
   "cell_type": "code",
   "execution_count": 174,
   "id": "7b656cc3",
   "metadata": {
    "collapsed": false,
    "jupyter": {
     "outputs_hidden": false
    },
    "pycharm": {
     "name": "#%%\n"
    }
   },
   "outputs": [
    {
     "data": {
      "text/html": [
       "<div>\n",
       "<style scoped>\n",
       "    .dataframe tbody tr th:only-of-type {\n",
       "        vertical-align: middle;\n",
       "    }\n",
       "\n",
       "    .dataframe tbody tr th {\n",
       "        vertical-align: top;\n",
       "    }\n",
       "\n",
       "    .dataframe thead th {\n",
       "        text-align: right;\n",
       "    }\n",
       "</style>\n",
       "<table border=\"1\" class=\"dataframe\">\n",
       "  <thead>\n",
       "    <tr style=\"text-align: right;\">\n",
       "      <th></th>\n",
       "      <th>price</th>\n",
       "    </tr>\n",
       "  </thead>\n",
       "  <tbody>\n",
       "    <tr>\n",
       "      <th>236928</th>\n",
       "      <td>53743.0</td>\n",
       "    </tr>\n",
       "    <tr>\n",
       "      <th>97219</th>\n",
       "      <td>7109.0</td>\n",
       "    </tr>\n",
       "    <tr>\n",
       "      <th>157007</th>\n",
       "      <td>8832.0</td>\n",
       "    </tr>\n",
       "    <tr>\n",
       "      <th>129645</th>\n",
       "      <td>10782.0</td>\n",
       "    </tr>\n",
       "    <tr>\n",
       "      <th>243261</th>\n",
       "      <td>25956.0</td>\n",
       "    </tr>\n",
       "    <tr>\n",
       "      <th>...</th>\n",
       "      <td>...</td>\n",
       "    </tr>\n",
       "    <tr>\n",
       "      <th>254208</th>\n",
       "      <td>12114.0</td>\n",
       "    </tr>\n",
       "    <tr>\n",
       "      <th>167079</th>\n",
       "      <td>4827.0</td>\n",
       "    </tr>\n",
       "    <tr>\n",
       "      <th>162536</th>\n",
       "      <td>21213.0</td>\n",
       "    </tr>\n",
       "    <tr>\n",
       "      <th>53330</th>\n",
       "      <td>6450.0</td>\n",
       "    </tr>\n",
       "    <tr>\n",
       "      <th>179981</th>\n",
       "      <td>4656.0</td>\n",
       "    </tr>\n",
       "  </tbody>\n",
       "</table>\n",
       "<p>216110 rows × 1 columns</p>\n",
       "</div>"
      ],
      "text/plain": [
       "          price\n",
       "236928  53743.0\n",
       "97219    7109.0\n",
       "157007   8832.0\n",
       "129645  10782.0\n",
       "243261  25956.0\n",
       "...         ...\n",
       "254208  12114.0\n",
       "167079   4827.0\n",
       "162536  21213.0\n",
       "53330    6450.0\n",
       "179981   4656.0\n",
       "\n",
       "[216110 rows x 1 columns]"
      ]
     },
     "execution_count": 174,
     "metadata": {},
     "output_type": "execute_result"
    }
   ],
   "source": [
    "Y_train"
   ]
  },
  {
   "cell_type": "code",
   "execution_count": 175,
   "id": "55340a9c",
   "metadata": {
    "collapsed": false,
    "jupyter": {
     "outputs_hidden": false
    },
    "pycharm": {
     "name": "#%%\n"
    }
   },
   "outputs": [],
   "source": [
    "min_items_list = list(X.min())"
   ]
  },
  {
   "cell_type": "code",
   "execution_count": 176,
   "id": "d613c233",
   "metadata": {
    "collapsed": false,
    "jupyter": {
     "outputs_hidden": false
    },
    "pycharm": {
     "name": "#%%\n"
    }
   },
   "outputs": [],
   "source": [
    "max_items_list = list(X.max())"
   ]
  },
  {
   "cell_type": "code",
   "execution_count": 177,
   "id": "652aeae7",
   "metadata": {
    "collapsed": false,
    "jupyter": {
     "outputs_hidden": false
    },
    "pycharm": {
     "name": "#%%\n"
    }
   },
   "outputs": [],
   "source": [
    "departure_time_normalization = np.array([])\n",
    "stops_normalization = np.array([])\n",
    "arrival_time_normalization = np.array([])\n",
    "class_normalization = np.array([])\n",
    "duration_normalization = np.array([])\n",
    "days_left_normalization = np.array([])\n",
    "\n",
    "departure_time_test = np.array([])\n",
    "stops_test = np.array([])\n",
    "arrival_time_test = np.array([])\n",
    "class_test = np.array([])\n",
    "duration_test = np.array([])\n",
    "days_left_test = np.array([])"
   ]
  },
  {
   "cell_type": "code",
   "execution_count": 178,
   "id": "0c84b3f4",
   "metadata": {
    "collapsed": false,
    "jupyter": {
     "outputs_hidden": false
    },
    "pycharm": {
     "name": "#%%\n"
    }
   },
   "outputs": [],
   "source": [
    "departure_time_normalization = X_train['departure_time'].to_numpy()\n",
    "stops_normalization = X_train['stops'].to_numpy()\n",
    "arrival_time_normalization = X_train['arrival_time'].to_numpy()\n",
    "class_normalization = X_train['class'].to_numpy()\n",
    "duration_normalization = X_train['duration'].to_numpy()\n",
    "days_left_normalization = X_train['days_left'].to_numpy()\n",
    "\n",
    "departure_time_test = X_test['departure_time'].to_numpy()\n",
    "stops_test = X_test['stops'].to_numpy()\n",
    "arrival_time_test = X_test['arrival_time'].to_numpy()\n",
    "class_test = X_test['class'].to_numpy()\n",
    "duration_test = X_test['duration'].to_numpy()\n",
    "days_left_test = X_test['days_left'].to_numpy()"
   ]
  },
  {
   "cell_type": "code",
   "execution_count": 179,
   "id": "079ee34d",
   "metadata": {
    "collapsed": false,
    "jupyter": {
     "outputs_hidden": false
    },
    "pycharm": {
     "name": "#%%\n"
    }
   },
   "outputs": [],
   "source": [
    "for i in range(len(X_train.index)):\n",
    "    np.put(departure_time_normalization, [i], (departure_time_normalization[i] - min_items_list[0])/ (max_items_list[0] - min_items_list[0]))\n",
    "\n",
    "    np.put(stops_normalization, [i], (stops_normalization[i] - min_items_list[1])/ (max_items_list[1] - min_items_list[1]))\n",
    "\n",
    "    np.put(arrival_time_normalization, [i], (arrival_time_normalization[i] - min_items_list[2])/ (max_items_list[2] - min_items_list[2]))\n",
    "\n",
    "    np.put(class_normalization, [i], (class_normalization[i] - min_items_list[3])/ (max_items_list[3] - min_items_list[3]))\n",
    "\n",
    "    np.put(duration_normalization, [i], (duration_normalization[i] - min_items_list[4])/ (max_items_list[4] - min_items_list[4]))\n",
    "\n",
    "    np.put(days_left_normalization, [i], (days_left_normalization[i] - min_items_list[5])/ (max_items_list[5] - min_items_list[5]))\n",
    "\n",
    "for i in range(len(X_test.index)):\n",
    "    np.put(departure_time_test, [i], (departure_time_test[i] - min_items_list[0])/ (max_items_list[0] - min_items_list[0]))\n",
    "\n",
    "    np.put(stops_test, [i], (stops_test[i] - min_items_list[1])/ (max_items_list[1] - min_items_list[1]))\n",
    "\n",
    "    np.put(arrival_time_test, [i], (arrival_time_test[i] - min_items_list[2])/ (max_items_list[2] - min_items_list[2]))\n",
    "\n",
    "    np.put(class_test, [i], (class_test[i] - min_items_list[3])/ (max_items_list[3] - min_items_list[3]))\n",
    "\n",
    "    np.put(duration_test, [i], (duration_test[i] - min_items_list[4])/ (max_items_list[4] - min_items_list[4]))\n",
    "\n",
    "    np.put(days_left_test, [i], (days_left_test[i] - min_items_list[5])/ (max_items_list[5] - min_items_list[5]))"
   ]
  },
  {
   "cell_type": "code",
   "execution_count": 180,
   "id": "b7a8659f",
   "metadata": {
    "collapsed": false,
    "jupyter": {
     "outputs_hidden": false
    },
    "pycharm": {
     "name": "#%%\n"
    }
   },
   "outputs": [
    {
     "data": {
      "text/html": [
       "<div>\n",
       "<style scoped>\n",
       "    .dataframe tbody tr th:only-of-type {\n",
       "        vertical-align: middle;\n",
       "    }\n",
       "\n",
       "    .dataframe tbody tr th {\n",
       "        vertical-align: top;\n",
       "    }\n",
       "\n",
       "    .dataframe thead th {\n",
       "        text-align: right;\n",
       "    }\n",
       "</style>\n",
       "<table border=\"1\" class=\"dataframe\">\n",
       "  <thead>\n",
       "    <tr style=\"text-align: right;\">\n",
       "      <th></th>\n",
       "      <th>departure_time</th>\n",
       "      <th>stops</th>\n",
       "      <th>arrival_time</th>\n",
       "      <th>class</th>\n",
       "      <th>duration</th>\n",
       "      <th>days_left</th>\n",
       "    </tr>\n",
       "  </thead>\n",
       "  <tbody>\n",
       "    <tr>\n",
       "      <th>236928</th>\n",
       "      <td>0.4</td>\n",
       "      <td>0.0</td>\n",
       "      <td>0.6</td>\n",
       "      <td>0.0</td>\n",
       "      <td>0.132653</td>\n",
       "      <td>0.729167</td>\n",
       "    </tr>\n",
       "    <tr>\n",
       "      <th>97219</th>\n",
       "      <td>0.8</td>\n",
       "      <td>0.0</td>\n",
       "      <td>1.0</td>\n",
       "      <td>1.0</td>\n",
       "      <td>0.226327</td>\n",
       "      <td>0.770833</td>\n",
       "    </tr>\n",
       "    <tr>\n",
       "      <th>157007</th>\n",
       "      <td>1.0</td>\n",
       "      <td>0.0</td>\n",
       "      <td>0.4</td>\n",
       "      <td>1.0</td>\n",
       "      <td>0.406531</td>\n",
       "      <td>0.666667</td>\n",
       "    </tr>\n",
       "    <tr>\n",
       "      <th>129645</th>\n",
       "      <td>1.0</td>\n",
       "      <td>0.0</td>\n",
       "      <td>0.2</td>\n",
       "      <td>1.0</td>\n",
       "      <td>0.212653</td>\n",
       "      <td>0.291667</td>\n",
       "    </tr>\n",
       "    <tr>\n",
       "      <th>243261</th>\n",
       "      <td>0.4</td>\n",
       "      <td>1.0</td>\n",
       "      <td>1.0</td>\n",
       "      <td>0.0</td>\n",
       "      <td>0.028980</td>\n",
       "      <td>0.041667</td>\n",
       "    </tr>\n",
       "    <tr>\n",
       "      <th>...</th>\n",
       "      <td>...</td>\n",
       "      <td>...</td>\n",
       "      <td>...</td>\n",
       "      <td>...</td>\n",
       "      <td>...</td>\n",
       "      <td>...</td>\n",
       "    </tr>\n",
       "    <tr>\n",
       "      <th>254208</th>\n",
       "      <td>0.0</td>\n",
       "      <td>1.0</td>\n",
       "      <td>0.0</td>\n",
       "      <td>0.0</td>\n",
       "      <td>0.008571</td>\n",
       "      <td>0.812500</td>\n",
       "    </tr>\n",
       "    <tr>\n",
       "      <th>167079</th>\n",
       "      <td>0.2</td>\n",
       "      <td>0.0</td>\n",
       "      <td>0.0</td>\n",
       "      <td>1.0</td>\n",
       "      <td>0.129388</td>\n",
       "      <td>0.750000</td>\n",
       "    </tr>\n",
       "    <tr>\n",
       "      <th>162536</th>\n",
       "      <td>0.4</td>\n",
       "      <td>0.0</td>\n",
       "      <td>1.0</td>\n",
       "      <td>1.0</td>\n",
       "      <td>0.139592</td>\n",
       "      <td>0.020833</td>\n",
       "    </tr>\n",
       "    <tr>\n",
       "      <th>53330</th>\n",
       "      <td>0.8</td>\n",
       "      <td>0.0</td>\n",
       "      <td>1.0</td>\n",
       "      <td>1.0</td>\n",
       "      <td>0.187143</td>\n",
       "      <td>0.750000</td>\n",
       "    </tr>\n",
       "    <tr>\n",
       "      <th>179981</th>\n",
       "      <td>0.4</td>\n",
       "      <td>1.0</td>\n",
       "      <td>1.0</td>\n",
       "      <td>1.0</td>\n",
       "      <td>0.030612</td>\n",
       "      <td>0.458333</td>\n",
       "    </tr>\n",
       "  </tbody>\n",
       "</table>\n",
       "<p>216110 rows × 6 columns</p>\n",
       "</div>"
      ],
      "text/plain": [
       "        departure_time  stops  arrival_time  class  duration  days_left\n",
       "236928             0.4    0.0           0.6    0.0  0.132653   0.729167\n",
       "97219              0.8    0.0           1.0    1.0  0.226327   0.770833\n",
       "157007             1.0    0.0           0.4    1.0  0.406531   0.666667\n",
       "129645             1.0    0.0           0.2    1.0  0.212653   0.291667\n",
       "243261             0.4    1.0           1.0    0.0  0.028980   0.041667\n",
       "...                ...    ...           ...    ...       ...        ...\n",
       "254208             0.0    1.0           0.0    0.0  0.008571   0.812500\n",
       "167079             0.2    0.0           0.0    1.0  0.129388   0.750000\n",
       "162536             0.4    0.0           1.0    1.0  0.139592   0.020833\n",
       "53330              0.8    0.0           1.0    1.0  0.187143   0.750000\n",
       "179981             0.4    1.0           1.0    1.0  0.030612   0.458333\n",
       "\n",
       "[216110 rows x 6 columns]"
      ]
     },
     "execution_count": 180,
     "metadata": {},
     "output_type": "execute_result"
    }
   ],
   "source": [
    "X_train"
   ]
  },
  {
   "cell_type": "code",
   "execution_count": 181,
   "id": "ce269949",
   "metadata": {
    "collapsed": false,
    "jupyter": {
     "outputs_hidden": false
    },
    "pycharm": {
     "name": "#%%\n"
    }
   },
   "outputs": [
    {
     "data": {
      "text/plain": [
       "0.4"
      ]
     },
     "execution_count": 181,
     "metadata": {},
     "output_type": "execute_result"
    }
   ],
   "source": [
    "arrival_time_normalization[2]\n",
    "#departure_time_normalization[3]"
   ]
  },
  {
   "cell_type": "code",
   "execution_count": 182,
   "id": "5ef05cbe",
   "metadata": {
    "collapsed": false,
    "jupyter": {
     "outputs_hidden": false
    },
    "pycharm": {
     "name": "#%%\n"
    }
   },
   "outputs": [
    {
     "data": {
      "text/plain": [
       "departure_time    0.00\n",
       "stops             0.00\n",
       "arrival_time      0.00\n",
       "class             0.00\n",
       "duration          0.83\n",
       "days_left         1.00\n",
       "dtype: float64"
      ]
     },
     "execution_count": 182,
     "metadata": {},
     "output_type": "execute_result"
    }
   ],
   "source": [
    "X.min()"
   ]
  },
  {
   "cell_type": "code",
   "execution_count": 183,
   "id": "bd1a1d50",
   "metadata": {
    "collapsed": false,
    "jupyter": {
     "outputs_hidden": false
    },
    "pycharm": {
     "name": "#%%\n"
    }
   },
   "outputs": [
    {
     "data": {
      "text/plain": [
       "departure_time     5.00\n",
       "stops              2.00\n",
       "arrival_time       5.00\n",
       "class              1.00\n",
       "duration          49.83\n",
       "days_left         49.00\n",
       "dtype: float64"
      ]
     },
     "execution_count": 183,
     "metadata": {},
     "output_type": "execute_result"
    }
   ],
   "source": [
    "X.max()"
   ]
  },
  {
   "cell_type": "code",
   "execution_count": 184,
   "id": "02d70358",
   "metadata": {
    "collapsed": false,
    "jupyter": {
     "outputs_hidden": false
    },
    "pycharm": {
     "name": "#%%\n"
    }
   },
   "outputs": [
    {
     "data": {
      "text/plain": [
       "123071"
      ]
     },
     "execution_count": 184,
     "metadata": {},
     "output_type": "execute_result"
    }
   ],
   "source": [
    "#Y_max = Y.max()\n",
    "Y_max = 123071\n",
    "Y_max"
   ]
  },
  {
   "cell_type": "code",
   "execution_count": 185,
   "id": "d68ce02d",
   "metadata": {
    "collapsed": false,
    "jupyter": {
     "outputs_hidden": false
    },
    "pycharm": {
     "name": "#%%\n"
    }
   },
   "outputs": [
    {
     "data": {
      "text/plain": [
       "1105"
      ]
     },
     "execution_count": 185,
     "metadata": {},
     "output_type": "execute_result"
    }
   ],
   "source": [
    "#Y_min = Y.min()\n",
    "Y_min = 1105\n",
    "Y_min"
   ]
  },
  {
   "cell_type": "code",
   "execution_count": 186,
   "id": "21c43a4a",
   "metadata": {
    "collapsed": false,
    "jupyter": {
     "outputs_hidden": false
    },
    "pycharm": {
     "name": "#%%\n"
    }
   },
   "outputs": [],
   "source": [
    "price_normalization = np.array([])\n",
    "price_test = np.array([])"
   ]
  },
  {
   "cell_type": "code",
   "execution_count": 187,
   "id": "8fae3881",
   "metadata": {
    "collapsed": false,
    "jupyter": {
     "outputs_hidden": false
    },
    "pycharm": {
     "name": "#%%\n"
    }
   },
   "outputs": [],
   "source": [
    "price_normalization = Y_train['price'].to_numpy()\n",
    "price_test = Y_test['price'].to_numpy()"
   ]
  },
  {
   "cell_type": "code",
   "execution_count": 188,
   "id": "a17bc7a2",
   "metadata": {
    "collapsed": false,
    "jupyter": {
     "outputs_hidden": false
    },
    "pycharm": {
     "name": "#%%\n"
    }
   },
   "outputs": [],
   "source": [
    "for i in range(len(Y_train.index)):\n",
    "    np.put(price_normalization, [i], (price_normalization[i] - Y_min)/ (Y_max - Y_min))\n",
    "\n",
    "for i in range(len(Y_test.index)):\n",
    "    np.put(price_test, [i], (price_test[i] - Y_min)/ (Y_max - Y_min))"
   ]
  },
  {
   "cell_type": "code",
   "execution_count": 189,
   "id": "c7389ee2-4908-45b5-b9b2-f2f1452253c5",
   "metadata": {},
   "outputs": [],
   "source": [
    "def mse(y_train, y_predicted):\n",
    "     mse_error = np.sum((y_train - y_predicted)**2) / (2 * len(y_train))\n",
    "     return mse_error\n",
    "\n",
    "def rmse(y_train, y_predicted):\n",
    "     rmse_error = np.sqrt(mse(y_train, y_predicted))\n",
    "     return rmse_error\n",
    "\n",
    "def mae(y_train, y_predicted):\n",
    "     mae_error = np.sum(np.abs(y_train - y_predicted)) / (2 * len(y_train))\n",
    "     return mae_error\n",
    "\n",
    "def r_squared (y_train, y_predicted):\n",
    "     r_squared_error = 1 - (np.sum((y_train - y_predicted)**2) / np.sum((y_train - np.average(y_train))**2))\n",
    "     return r_squared_error\n"
   ]
  },
  {
   "cell_type": "code",
   "execution_count": 195,
   "id": "d1b11fde-92b6-488a-b06c-232aa2244183",
   "metadata": {},
   "outputs": [
    {
     "name": "stdout",
     "output_type": "stream",
     "text": [
      "0.2746297484610903\n",
      "0.25469660653034465\n",
      "0.23666850580008852\n",
      "0.22035922907031316\n",
      "0.20560079389493874\n",
      "0.19224166675144078\n",
      "0.1801451521086431\n",
      "0.16918793926373105\n",
      "0.15925879149708988\n",
      "0.1502573636068286\n",
      "0.14209313524991135\n",
      "0.13468444874817917\n",
      "0.1279576411283165\n",
      "0.12184626116680237\n",
      "0.11629036311474082\n",
      "0.11123586959279572\n",
      "0.10663399688194121\n",
      "0.10244073649918742\n",
      "0.09861638754591912\n",
      "0.09512513485634516\n",
      "0.09193466846054894\n",
      "0.08901584031592522\n",
      "0.08634235465706161\n",
      "0.08389048867158629\n",
      "0.08163884053195863\n",
      "0.07956810210405175\n",
      "0.07766085391576617\n",
      "0.0759013802056007\n",
      "0.07427550208461683\n",
      "0.07277042703783253\n",
      "0.0713746131648158\n",
      "0.0700776467159712\n",
      "0.06887013162238383\n",
      "0.06774358984461204\n",
      "0.06669037148085859\n"
     ]
    }
   ],
   "source": [
    "def gradient_descent(departure_time, stops, arrival_time, class_type, duration, days_left,\n",
    "                     price, iterations, learning_rate = 0.01, stopping_threshold = 1e-3):\n",
    "    w_departure_time = 0.05\n",
    "    w_stops = 0.2\n",
    "    w_arrival_time = 0.05\n",
    "    w_class_type = 0.6\n",
    "    w_duration = 0.3\n",
    "    w_days_left = 0.3\n",
    "    b = 0.01\n",
    "    \n",
    "    n = float(len(departure_time))\n",
    "     \n",
    "    mse_errors = []\n",
    "    weights = []\n",
    "    previous_mse_error = None\n",
    "\n",
    "    for i in range(iterations):\n",
    "         \n",
    "        # Making predictions\n",
    "        price_predicted = price_predicted_cal(w_arrival_time, w_departure_time, w_stops, w_class_type, w_duration, w_days_left,\n",
    "                        arrival_time, departure_time, stops, class_type, duration, days_left, b)\n",
    "        # Calculating the current cost\n",
    "        mse_error = mse(price, price_predicted)\n",
    " \n",
    "        # If the change in cost is less than or equal to \n",
    "        # stopping_threshold we stop the gradient descent\n",
    "        if previous_mse_error and abs(previous_mse_error - mse_error) <= stopping_threshold:\n",
    "            break\n",
    "         \n",
    "        previous_mse_error = mse_error\n",
    " \n",
    "        mse_errors.append(mse_error)\n",
    "        # weights.append(w)\n",
    "         \n",
    "        # Calculating the gradients\n",
    "        w_departure_time_derivative = -(2/n) * sum(departure_time * (price - price_predicted))\n",
    "        w_stops_derivative = -(2/n) * sum(stops * (price - price_predicted))\n",
    "        w_arrival_time_derivative = -(2/n) * sum(arrival_time * (price - price_predicted))\n",
    "        w_class_type_derivative = -(2/n) * sum(class_type * (price - price_predicted))\n",
    "        w_duration_derivative = -(2/n) * sum(duration * (price - price_predicted))\n",
    "        w_days_left_derivative = -(2/n) * sum(days_left * (price - price_predicted))\n",
    "        b_derivative = -(2/n) * sum(price - price_predicted)\n",
    "         \n",
    "        # Updating weights and bias\n",
    "        w_departure_time = w_departure_time - (learning_rate * w_departure_time_derivative)\n",
    "        w_stops = w_stops - (learning_rate * w_stops_derivative)\n",
    "        w_arrival_time = w_arrival_time - (learning_rate * w_arrival_time_derivative)\n",
    "        w_class_type = w_class_type - (learning_rate * w_class_type_derivative)\n",
    "        w_duration = w_duration - (learning_rate * w_duration_derivative)\n",
    "        w_days_left = w_days_left - (learning_rate * w_days_left_derivative)\n",
    "        b = b - (learning_rate * b_derivative)\n",
    "\n",
    "        print(mse_errors[i])\n",
    "    return w_departure_time, w_stops, w_arrival_time, w_class_type, w_duration, w_days_left, b\n",
    "\n",
    "w_departure_time, w_stops, w_arrival_time, w_class_type, w_duration, w_days_left, b = gradient_descent(\n",
    "    departure_time_normalization, stops_normalization, arrival_time_normalization,\n",
    "    class_normalization, duration_normalization, days_left_normalization,\n",
    "    price_normalization, len(price_normalization))"
   ]
  },
  {
   "cell_type": "code",
   "execution_count": 196,
   "id": "c4dec7d2-9356-43e6-a2d6-b21612952c38",
   "metadata": {},
   "outputs": [],
   "source": [
    "def price_predicted_cal(w_arrival_time, w_departure_time, w_stops, w_class_type, w_duration, w_days_left,\n",
    "                        arrival_time, departure_time, stops, class_type, duration, days_left, b):\n",
    "    price_predicted = (w_arrival_time * arrival_time) + (w_departure_time * departure_time) + (w_stops * stops) + (w_class_type * class_type) +(w_duration * duration) + (w_days_left * days_left) + b\n",
    "    return price_predicted"
   ]
  },
  {
   "cell_type": "code",
   "execution_count": 197,
   "id": "01843406-c091-4979-aef4-4cbfb71e5812",
   "metadata": {},
   "outputs": [
    {
     "name": "stdout",
     "output_type": "stream",
     "text": [
      "0.06563507536028539\n",
      "0.25619343348393103\n",
      "0.16832992245433137\n",
      "-2.80368397939335\n"
     ]
    }
   ],
   "source": [
    "def test(arrival_time, departure_time, stops, class_type, duration, days_left,\n",
    "         price, w_arrival_time, w_departure_time, w_stops, w_class_type, w_duration, w_days_left, b):\n",
    "    \n",
    "    for i in range(len(X_test)):\n",
    "        price_predicted = price_predicted_cal(w_arrival_time, w_departure_time, w_stops, w_class_type,\n",
    "                                              w_duration, w_days_left, arrival_time, departure_time,\n",
    "                                              stops, class_type, duration, days_left, b)\n",
    "\n",
    "    mse_error = mse(price_test, price_predicted)\n",
    "    rmse_error = rmse(price_test, price_predicted)\n",
    "    mae_error = mae(price_test, price_predicted)\n",
    "    r_squared_error = r_squared(price_test, price_predicted)\n",
    "\n",
    "    print(mse_error)\n",
    "    print(rmse_error)\n",
    "    print(mae_error)\n",
    "    print(r_squared_error)\n",
    "\n",
    "test(arrival_time_test, departure_time_test, stops_test, class_test, duration_test, days_left_test, \n",
    "     price_test, w_arrival_time, w_departure_time, w_stops, w_class_type, w_duration, w_days_left, b)\n",
    "     \n"
   ]
  },
  {
   "cell_type": "code",
   "execution_count": null,
   "id": "23e69321-d355-4662-88fa-7f069bc212c4",
   "metadata": {},
   "outputs": [],
   "source": []
  }
 ],
 "metadata": {
  "kernelspec": {
   "display_name": "Python 3 (ipykernel)",
   "language": "python",
   "name": "python3"
  },
  "language_info": {
   "codemirror_mode": {
    "name": "ipython",
    "version": 3
   },
   "file_extension": ".py",
   "mimetype": "text/x-python",
   "name": "python",
   "nbconvert_exporter": "python",
   "pygments_lexer": "ipython3",
   "version": "3.11.5"
  }
 },
 "nbformat": 4,
 "nbformat_minor": 5
}
