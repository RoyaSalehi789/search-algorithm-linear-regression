{
 "cells": [
  {
   "cell_type": "code",
   "execution_count": 35,
   "id": "bf75df3a-98e7-4902-991a-f029fa5fe6b1",
   "metadata": {
    "pycharm": {
     "name": "#%%\n"
    }
   },
   "outputs": [],
   "source": [
    "import pandas as pd\n",
    "from sklearn.model_selection import train_test_split\n",
    "from sklearn.preprocessing import LabelEncoder\n",
    "import numpy as np"
   ]
  },
  {
   "cell_type": "code",
   "execution_count": 36,
   "id": "6659a17f-c124-4d4e-9ef2-7629668ae692",
   "metadata": {
    "pycharm": {
     "name": "#%%\n"
    }
   },
   "outputs": [],
   "source": [
    "X = pd.read_csv('Flight_Price_Dataset_Q2.csv')"
   ]
  },
  {
   "cell_type": "code",
   "execution_count": 37,
   "id": "b360f341",
   "metadata": {
    "collapsed": false,
    "jupyter": {
     "outputs_hidden": false
    },
    "pycharm": {
     "name": "#%%\n"
    }
   },
   "outputs": [],
   "source": [
    "label_encoder = LabelEncoder()\n",
    "\n",
    "X['departure_time'] =label_encoder.fit_transform(X['departure_time'])\n",
    "X['stops'] = label_encoder.fit_transform(X['stops'])\n",
    "X['arrival_time'] = label_encoder.fit_transform(X['arrival_time'])\n",
    "X['class'] = label_encoder.fit_transform(X['class'])\n"
   ]
  },
  {
   "cell_type": "code",
   "execution_count": 38,
   "id": "dcb3a234",
   "metadata": {
    "collapsed": false,
    "jupyter": {
     "outputs_hidden": false
    },
    "pycharm": {
     "name": "#%%\n"
    }
   },
   "outputs": [
    {
     "data": {
      "text/html": [
       "<div>\n",
       "<style scoped>\n",
       "    .dataframe tbody tr th:only-of-type {\n",
       "        vertical-align: middle;\n",
       "    }\n",
       "\n",
       "    .dataframe tbody tr th {\n",
       "        vertical-align: top;\n",
       "    }\n",
       "\n",
       "    .dataframe thead th {\n",
       "        text-align: right;\n",
       "    }\n",
       "</style>\n",
       "<table border=\"1\" class=\"dataframe\">\n",
       "  <thead>\n",
       "    <tr style=\"text-align: right;\">\n",
       "      <th></th>\n",
       "      <th>departure_time</th>\n",
       "      <th>stops</th>\n",
       "      <th>arrival_time</th>\n",
       "      <th>class</th>\n",
       "      <th>duration</th>\n",
       "      <th>days_left</th>\n",
       "      <th>price</th>\n",
       "    </tr>\n",
       "  </thead>\n",
       "  <tbody>\n",
       "    <tr>\n",
       "      <th>0</th>\n",
       "      <td>2</td>\n",
       "      <td>2</td>\n",
       "      <td>5</td>\n",
       "      <td>1</td>\n",
       "      <td>2.17</td>\n",
       "      <td>1</td>\n",
       "      <td>5953</td>\n",
       "    </tr>\n",
       "    <tr>\n",
       "      <th>1</th>\n",
       "      <td>1</td>\n",
       "      <td>2</td>\n",
       "      <td>4</td>\n",
       "      <td>1</td>\n",
       "      <td>2.33</td>\n",
       "      <td>1</td>\n",
       "      <td>5953</td>\n",
       "    </tr>\n",
       "    <tr>\n",
       "      <th>2</th>\n",
       "      <td>1</td>\n",
       "      <td>2</td>\n",
       "      <td>1</td>\n",
       "      <td>1</td>\n",
       "      <td>2.17</td>\n",
       "      <td>1</td>\n",
       "      <td>5956</td>\n",
       "    </tr>\n",
       "    <tr>\n",
       "      <th>3</th>\n",
       "      <td>4</td>\n",
       "      <td>2</td>\n",
       "      <td>0</td>\n",
       "      <td>1</td>\n",
       "      <td>2.25</td>\n",
       "      <td>1</td>\n",
       "      <td>5955</td>\n",
       "    </tr>\n",
       "    <tr>\n",
       "      <th>4</th>\n",
       "      <td>4</td>\n",
       "      <td>2</td>\n",
       "      <td>4</td>\n",
       "      <td>1</td>\n",
       "      <td>2.33</td>\n",
       "      <td>1</td>\n",
       "      <td>5955</td>\n",
       "    </tr>\n",
       "    <tr>\n",
       "      <th>...</th>\n",
       "      <td>...</td>\n",
       "      <td>...</td>\n",
       "      <td>...</td>\n",
       "      <td>...</td>\n",
       "      <td>...</td>\n",
       "      <td>...</td>\n",
       "      <td>...</td>\n",
       "    </tr>\n",
       "    <tr>\n",
       "      <th>270133</th>\n",
       "      <td>1</td>\n",
       "      <td>0</td>\n",
       "      <td>5</td>\n",
       "      <td>0</td>\n",
       "      <td>17.25</td>\n",
       "      <td>49</td>\n",
       "      <td>68739</td>\n",
       "    </tr>\n",
       "    <tr>\n",
       "      <th>270134</th>\n",
       "      <td>4</td>\n",
       "      <td>0</td>\n",
       "      <td>2</td>\n",
       "      <td>0</td>\n",
       "      <td>10.08</td>\n",
       "      <td>49</td>\n",
       "      <td>69265</td>\n",
       "    </tr>\n",
       "    <tr>\n",
       "      <th>270135</th>\n",
       "      <td>0</td>\n",
       "      <td>0</td>\n",
       "      <td>5</td>\n",
       "      <td>0</td>\n",
       "      <td>10.42</td>\n",
       "      <td>49</td>\n",
       "      <td>77105</td>\n",
       "    </tr>\n",
       "    <tr>\n",
       "      <th>270136</th>\n",
       "      <td>1</td>\n",
       "      <td>0</td>\n",
       "      <td>2</td>\n",
       "      <td>0</td>\n",
       "      <td>10.00</td>\n",
       "      <td>49</td>\n",
       "      <td>81585</td>\n",
       "    </tr>\n",
       "    <tr>\n",
       "      <th>270137</th>\n",
       "      <td>4</td>\n",
       "      <td>0</td>\n",
       "      <td>2</td>\n",
       "      <td>0</td>\n",
       "      <td>10.08</td>\n",
       "      <td>49</td>\n",
       "      <td>81585</td>\n",
       "    </tr>\n",
       "  </tbody>\n",
       "</table>\n",
       "<p>270138 rows × 7 columns</p>\n",
       "</div>"
      ],
      "text/plain": [
       "        departure_time  stops  arrival_time  class  duration  days_left  price\n",
       "0                    2      2             5      1      2.17          1   5953\n",
       "1                    1      2             4      1      2.33          1   5953\n",
       "2                    1      2             1      1      2.17          1   5956\n",
       "3                    4      2             0      1      2.25          1   5955\n",
       "4                    4      2             4      1      2.33          1   5955\n",
       "...                ...    ...           ...    ...       ...        ...    ...\n",
       "270133               1      0             5      0     17.25         49  68739\n",
       "270134               4      0             2      0     10.08         49  69265\n",
       "270135               0      0             5      0     10.42         49  77105\n",
       "270136               1      0             2      0     10.00         49  81585\n",
       "270137               4      0             2      0     10.08         49  81585\n",
       "\n",
       "[270138 rows x 7 columns]"
      ]
     },
     "execution_count": 38,
     "metadata": {},
     "output_type": "execute_result"
    }
   ],
   "source": [
    "X"
   ]
  },
  {
   "cell_type": "code",
   "execution_count": 39,
   "id": "9acd9e41",
   "metadata": {
    "collapsed": false,
    "jupyter": {
     "outputs_hidden": false
    },
    "pycharm": {
     "name": "#%%\n"
    }
   },
   "outputs": [],
   "source": [
    "Y = list(X['price'])"
   ]
  },
  {
   "cell_type": "code",
   "execution_count": 40,
   "id": "5b121feb",
   "metadata": {
    "collapsed": false,
    "jupyter": {
     "outputs_hidden": false
    },
    "pycharm": {
     "name": "#%%\n"
    }
   },
   "outputs": [],
   "source": [
    "Y = {'price' : Y}\n",
    "Y = pd.DataFrame(Y)"
   ]
  },
  {
   "cell_type": "code",
   "execution_count": 41,
   "id": "a13fa9f5",
   "metadata": {
    "collapsed": false,
    "jupyter": {
     "outputs_hidden": false
    },
    "pycharm": {
     "name": "#%%\n"
    }
   },
   "outputs": [
    {
     "data": {
      "text/html": [
       "<div>\n",
       "<style scoped>\n",
       "    .dataframe tbody tr th:only-of-type {\n",
       "        vertical-align: middle;\n",
       "    }\n",
       "\n",
       "    .dataframe tbody tr th {\n",
       "        vertical-align: top;\n",
       "    }\n",
       "\n",
       "    .dataframe thead th {\n",
       "        text-align: right;\n",
       "    }\n",
       "</style>\n",
       "<table border=\"1\" class=\"dataframe\">\n",
       "  <thead>\n",
       "    <tr style=\"text-align: right;\">\n",
       "      <th></th>\n",
       "      <th>price</th>\n",
       "    </tr>\n",
       "  </thead>\n",
       "  <tbody>\n",
       "    <tr>\n",
       "      <th>0</th>\n",
       "      <td>5953</td>\n",
       "    </tr>\n",
       "    <tr>\n",
       "      <th>1</th>\n",
       "      <td>5953</td>\n",
       "    </tr>\n",
       "    <tr>\n",
       "      <th>2</th>\n",
       "      <td>5956</td>\n",
       "    </tr>\n",
       "    <tr>\n",
       "      <th>3</th>\n",
       "      <td>5955</td>\n",
       "    </tr>\n",
       "    <tr>\n",
       "      <th>4</th>\n",
       "      <td>5955</td>\n",
       "    </tr>\n",
       "    <tr>\n",
       "      <th>...</th>\n",
       "      <td>...</td>\n",
       "    </tr>\n",
       "    <tr>\n",
       "      <th>270133</th>\n",
       "      <td>68739</td>\n",
       "    </tr>\n",
       "    <tr>\n",
       "      <th>270134</th>\n",
       "      <td>69265</td>\n",
       "    </tr>\n",
       "    <tr>\n",
       "      <th>270135</th>\n",
       "      <td>77105</td>\n",
       "    </tr>\n",
       "    <tr>\n",
       "      <th>270136</th>\n",
       "      <td>81585</td>\n",
       "    </tr>\n",
       "    <tr>\n",
       "      <th>270137</th>\n",
       "      <td>81585</td>\n",
       "    </tr>\n",
       "  </tbody>\n",
       "</table>\n",
       "<p>270138 rows × 1 columns</p>\n",
       "</div>"
      ],
      "text/plain": [
       "        price\n",
       "0        5953\n",
       "1        5953\n",
       "2        5956\n",
       "3        5955\n",
       "4        5955\n",
       "...       ...\n",
       "270133  68739\n",
       "270134  69265\n",
       "270135  77105\n",
       "270136  81585\n",
       "270137  81585\n",
       "\n",
       "[270138 rows x 1 columns]"
      ]
     },
     "execution_count": 41,
     "metadata": {},
     "output_type": "execute_result"
    }
   ],
   "source": [
    "Y"
   ]
  },
  {
   "cell_type": "code",
   "execution_count": 42,
   "id": "93aa0e17",
   "metadata": {
    "collapsed": false,
    "jupyter": {
     "outputs_hidden": false
    },
    "pycharm": {
     "name": "#%%\n"
    }
   },
   "outputs": [],
   "source": [
    "X['departure_time'] = X['departure_time'].astype(float)\n",
    "X['stops'] = X['stops'].astype(float)\n",
    "X['arrival_time'] = X['arrival_time'].astype(float)\n",
    "X['class'] = X['class'].astype(float)\n",
    "X['days_left'] = X['days_left'].astype(float)\n",
    "\n",
    "Y['price'] = Y['price'].astype(float)"
   ]
  },
  {
   "cell_type": "code",
   "execution_count": 43,
   "id": "b0c29f81",
   "metadata": {
    "collapsed": false,
    "jupyter": {
     "outputs_hidden": false
    },
    "pycharm": {
     "name": "#%%\n"
    }
   },
   "outputs": [],
   "source": [
    "X = X.drop('price', axis=1)"
   ]
  },
  {
   "cell_type": "code",
   "execution_count": 44,
   "id": "ef111db2",
   "metadata": {
    "collapsed": false,
    "jupyter": {
     "outputs_hidden": false
    },
    "pycharm": {
     "name": "#%%\n"
    }
   },
   "outputs": [
    {
     "data": {
      "text/html": [
       "<div>\n",
       "<style scoped>\n",
       "    .dataframe tbody tr th:only-of-type {\n",
       "        vertical-align: middle;\n",
       "    }\n",
       "\n",
       "    .dataframe tbody tr th {\n",
       "        vertical-align: top;\n",
       "    }\n",
       "\n",
       "    .dataframe thead th {\n",
       "        text-align: right;\n",
       "    }\n",
       "</style>\n",
       "<table border=\"1\" class=\"dataframe\">\n",
       "  <thead>\n",
       "    <tr style=\"text-align: right;\">\n",
       "      <th></th>\n",
       "      <th>departure_time</th>\n",
       "      <th>stops</th>\n",
       "      <th>arrival_time</th>\n",
       "      <th>class</th>\n",
       "      <th>duration</th>\n",
       "      <th>days_left</th>\n",
       "    </tr>\n",
       "  </thead>\n",
       "  <tbody>\n",
       "    <tr>\n",
       "      <th>0</th>\n",
       "      <td>2.0</td>\n",
       "      <td>2.0</td>\n",
       "      <td>5.0</td>\n",
       "      <td>1.0</td>\n",
       "      <td>2.17</td>\n",
       "      <td>1.0</td>\n",
       "    </tr>\n",
       "    <tr>\n",
       "      <th>1</th>\n",
       "      <td>1.0</td>\n",
       "      <td>2.0</td>\n",
       "      <td>4.0</td>\n",
       "      <td>1.0</td>\n",
       "      <td>2.33</td>\n",
       "      <td>1.0</td>\n",
       "    </tr>\n",
       "    <tr>\n",
       "      <th>2</th>\n",
       "      <td>1.0</td>\n",
       "      <td>2.0</td>\n",
       "      <td>1.0</td>\n",
       "      <td>1.0</td>\n",
       "      <td>2.17</td>\n",
       "      <td>1.0</td>\n",
       "    </tr>\n",
       "    <tr>\n",
       "      <th>3</th>\n",
       "      <td>4.0</td>\n",
       "      <td>2.0</td>\n",
       "      <td>0.0</td>\n",
       "      <td>1.0</td>\n",
       "      <td>2.25</td>\n",
       "      <td>1.0</td>\n",
       "    </tr>\n",
       "    <tr>\n",
       "      <th>4</th>\n",
       "      <td>4.0</td>\n",
       "      <td>2.0</td>\n",
       "      <td>4.0</td>\n",
       "      <td>1.0</td>\n",
       "      <td>2.33</td>\n",
       "      <td>1.0</td>\n",
       "    </tr>\n",
       "    <tr>\n",
       "      <th>...</th>\n",
       "      <td>...</td>\n",
       "      <td>...</td>\n",
       "      <td>...</td>\n",
       "      <td>...</td>\n",
       "      <td>...</td>\n",
       "      <td>...</td>\n",
       "    </tr>\n",
       "    <tr>\n",
       "      <th>270133</th>\n",
       "      <td>1.0</td>\n",
       "      <td>0.0</td>\n",
       "      <td>5.0</td>\n",
       "      <td>0.0</td>\n",
       "      <td>17.25</td>\n",
       "      <td>49.0</td>\n",
       "    </tr>\n",
       "    <tr>\n",
       "      <th>270134</th>\n",
       "      <td>4.0</td>\n",
       "      <td>0.0</td>\n",
       "      <td>2.0</td>\n",
       "      <td>0.0</td>\n",
       "      <td>10.08</td>\n",
       "      <td>49.0</td>\n",
       "    </tr>\n",
       "    <tr>\n",
       "      <th>270135</th>\n",
       "      <td>0.0</td>\n",
       "      <td>0.0</td>\n",
       "      <td>5.0</td>\n",
       "      <td>0.0</td>\n",
       "      <td>10.42</td>\n",
       "      <td>49.0</td>\n",
       "    </tr>\n",
       "    <tr>\n",
       "      <th>270136</th>\n",
       "      <td>1.0</td>\n",
       "      <td>0.0</td>\n",
       "      <td>2.0</td>\n",
       "      <td>0.0</td>\n",
       "      <td>10.00</td>\n",
       "      <td>49.0</td>\n",
       "    </tr>\n",
       "    <tr>\n",
       "      <th>270137</th>\n",
       "      <td>4.0</td>\n",
       "      <td>0.0</td>\n",
       "      <td>2.0</td>\n",
       "      <td>0.0</td>\n",
       "      <td>10.08</td>\n",
       "      <td>49.0</td>\n",
       "    </tr>\n",
       "  </tbody>\n",
       "</table>\n",
       "<p>270138 rows × 6 columns</p>\n",
       "</div>"
      ],
      "text/plain": [
       "        departure_time  stops  arrival_time  class  duration  days_left\n",
       "0                  2.0    2.0           5.0    1.0      2.17        1.0\n",
       "1                  1.0    2.0           4.0    1.0      2.33        1.0\n",
       "2                  1.0    2.0           1.0    1.0      2.17        1.0\n",
       "3                  4.0    2.0           0.0    1.0      2.25        1.0\n",
       "4                  4.0    2.0           4.0    1.0      2.33        1.0\n",
       "...                ...    ...           ...    ...       ...        ...\n",
       "270133             1.0    0.0           5.0    0.0     17.25       49.0\n",
       "270134             4.0    0.0           2.0    0.0     10.08       49.0\n",
       "270135             0.0    0.0           5.0    0.0     10.42       49.0\n",
       "270136             1.0    0.0           2.0    0.0     10.00       49.0\n",
       "270137             4.0    0.0           2.0    0.0     10.08       49.0\n",
       "\n",
       "[270138 rows x 6 columns]"
      ]
     },
     "execution_count": 44,
     "metadata": {},
     "output_type": "execute_result"
    }
   ],
   "source": [
    "X"
   ]
  },
  {
   "cell_type": "code",
   "execution_count": 45,
   "id": "40dfa728",
   "metadata": {
    "collapsed": false,
    "jupyter": {
     "outputs_hidden": false
    },
    "pycharm": {
     "name": "#%%\n"
    }
   },
   "outputs": [],
   "source": [
    "X_train, X_test, Y_train, Y_test = train_test_split(X, Y, test_size=0.2)"
   ]
  },
  {
   "cell_type": "code",
   "execution_count": 46,
   "id": "aeb3e357",
   "metadata": {
    "collapsed": false,
    "jupyter": {
     "outputs_hidden": false
    },
    "pycharm": {
     "name": "#%%\n"
    }
   },
   "outputs": [
    {
     "data": {
      "text/html": [
       "<div>\n",
       "<style scoped>\n",
       "    .dataframe tbody tr th:only-of-type {\n",
       "        vertical-align: middle;\n",
       "    }\n",
       "\n",
       "    .dataframe tbody tr th {\n",
       "        vertical-align: top;\n",
       "    }\n",
       "\n",
       "    .dataframe thead th {\n",
       "        text-align: right;\n",
       "    }\n",
       "</style>\n",
       "<table border=\"1\" class=\"dataframe\">\n",
       "  <thead>\n",
       "    <tr style=\"text-align: right;\">\n",
       "      <th></th>\n",
       "      <th>price</th>\n",
       "    </tr>\n",
       "  </thead>\n",
       "  <tbody>\n",
       "    <tr>\n",
       "      <th>0</th>\n",
       "      <td>5953.0</td>\n",
       "    </tr>\n",
       "    <tr>\n",
       "      <th>1</th>\n",
       "      <td>5953.0</td>\n",
       "    </tr>\n",
       "    <tr>\n",
       "      <th>2</th>\n",
       "      <td>5956.0</td>\n",
       "    </tr>\n",
       "    <tr>\n",
       "      <th>3</th>\n",
       "      <td>5955.0</td>\n",
       "    </tr>\n",
       "    <tr>\n",
       "      <th>4</th>\n",
       "      <td>5955.0</td>\n",
       "    </tr>\n",
       "    <tr>\n",
       "      <th>...</th>\n",
       "      <td>...</td>\n",
       "    </tr>\n",
       "    <tr>\n",
       "      <th>270133</th>\n",
       "      <td>68739.0</td>\n",
       "    </tr>\n",
       "    <tr>\n",
       "      <th>270134</th>\n",
       "      <td>69265.0</td>\n",
       "    </tr>\n",
       "    <tr>\n",
       "      <th>270135</th>\n",
       "      <td>77105.0</td>\n",
       "    </tr>\n",
       "    <tr>\n",
       "      <th>270136</th>\n",
       "      <td>81585.0</td>\n",
       "    </tr>\n",
       "    <tr>\n",
       "      <th>270137</th>\n",
       "      <td>81585.0</td>\n",
       "    </tr>\n",
       "  </tbody>\n",
       "</table>\n",
       "<p>270138 rows × 1 columns</p>\n",
       "</div>"
      ],
      "text/plain": [
       "          price\n",
       "0        5953.0\n",
       "1        5953.0\n",
       "2        5956.0\n",
       "3        5955.0\n",
       "4        5955.0\n",
       "...         ...\n",
       "270133  68739.0\n",
       "270134  69265.0\n",
       "270135  77105.0\n",
       "270136  81585.0\n",
       "270137  81585.0\n",
       "\n",
       "[270138 rows x 1 columns]"
      ]
     },
     "execution_count": 46,
     "metadata": {},
     "output_type": "execute_result"
    }
   ],
   "source": [
    "Y"
   ]
  },
  {
   "cell_type": "code",
   "execution_count": 47,
   "id": "5a60a997",
   "metadata": {
    "collapsed": false,
    "jupyter": {
     "outputs_hidden": false
    },
    "pycharm": {
     "name": "#%%\n"
    }
   },
   "outputs": [
    {
     "data": {
      "text/html": [
       "<div>\n",
       "<style scoped>\n",
       "    .dataframe tbody tr th:only-of-type {\n",
       "        vertical-align: middle;\n",
       "    }\n",
       "\n",
       "    .dataframe tbody tr th {\n",
       "        vertical-align: top;\n",
       "    }\n",
       "\n",
       "    .dataframe thead th {\n",
       "        text-align: right;\n",
       "    }\n",
       "</style>\n",
       "<table border=\"1\" class=\"dataframe\">\n",
       "  <thead>\n",
       "    <tr style=\"text-align: right;\">\n",
       "      <th></th>\n",
       "      <th>departure_time</th>\n",
       "      <th>stops</th>\n",
       "      <th>arrival_time</th>\n",
       "      <th>class</th>\n",
       "      <th>duration</th>\n",
       "      <th>days_left</th>\n",
       "    </tr>\n",
       "  </thead>\n",
       "  <tbody>\n",
       "    <tr>\n",
       "      <th>216730</th>\n",
       "      <td>5.0</td>\n",
       "      <td>0.0</td>\n",
       "      <td>4.0</td>\n",
       "      <td>0.0</td>\n",
       "      <td>11.75</td>\n",
       "      <td>40.0</td>\n",
       "    </tr>\n",
       "    <tr>\n",
       "      <th>168677</th>\n",
       "      <td>1.0</td>\n",
       "      <td>0.0</td>\n",
       "      <td>4.0</td>\n",
       "      <td>1.0</td>\n",
       "      <td>27.17</td>\n",
       "      <td>48.0</td>\n",
       "    </tr>\n",
       "    <tr>\n",
       "      <th>4657</th>\n",
       "      <td>5.0</td>\n",
       "      <td>2.0</td>\n",
       "      <td>5.0</td>\n",
       "      <td>1.0</td>\n",
       "      <td>2.25</td>\n",
       "      <td>27.0</td>\n",
       "    </tr>\n",
       "    <tr>\n",
       "      <th>170834</th>\n",
       "      <td>1.0</td>\n",
       "      <td>0.0</td>\n",
       "      <td>0.0</td>\n",
       "      <td>1.0</td>\n",
       "      <td>6.67</td>\n",
       "      <td>19.0</td>\n",
       "    </tr>\n",
       "    <tr>\n",
       "      <th>79607</th>\n",
       "      <td>2.0</td>\n",
       "      <td>0.0</td>\n",
       "      <td>3.0</td>\n",
       "      <td>1.0</td>\n",
       "      <td>8.67</td>\n",
       "      <td>23.0</td>\n",
       "    </tr>\n",
       "    <tr>\n",
       "      <th>...</th>\n",
       "      <td>...</td>\n",
       "      <td>...</td>\n",
       "      <td>...</td>\n",
       "      <td>...</td>\n",
       "      <td>...</td>\n",
       "      <td>...</td>\n",
       "    </tr>\n",
       "    <tr>\n",
       "      <th>171792</th>\n",
       "      <td>0.0</td>\n",
       "      <td>0.0</td>\n",
       "      <td>2.0</td>\n",
       "      <td>1.0</td>\n",
       "      <td>5.33</td>\n",
       "      <td>27.0</td>\n",
       "    </tr>\n",
       "    <tr>\n",
       "      <th>190774</th>\n",
       "      <td>2.0</td>\n",
       "      <td>0.0</td>\n",
       "      <td>5.0</td>\n",
       "      <td>0.0</td>\n",
       "      <td>28.08</td>\n",
       "      <td>1.0</td>\n",
       "    </tr>\n",
       "    <tr>\n",
       "      <th>11690</th>\n",
       "      <td>0.0</td>\n",
       "      <td>0.0</td>\n",
       "      <td>2.0</td>\n",
       "      <td>1.0</td>\n",
       "      <td>4.92</td>\n",
       "      <td>17.0</td>\n",
       "    </tr>\n",
       "    <tr>\n",
       "      <th>157371</th>\n",
       "      <td>0.0</td>\n",
       "      <td>0.0</td>\n",
       "      <td>2.0</td>\n",
       "      <td>1.0</td>\n",
       "      <td>4.92</td>\n",
       "      <td>37.0</td>\n",
       "    </tr>\n",
       "    <tr>\n",
       "      <th>69198</th>\n",
       "      <td>0.0</td>\n",
       "      <td>0.0</td>\n",
       "      <td>4.0</td>\n",
       "      <td>1.0</td>\n",
       "      <td>20.50</td>\n",
       "      <td>46.0</td>\n",
       "    </tr>\n",
       "  </tbody>\n",
       "</table>\n",
       "<p>216110 rows × 6 columns</p>\n",
       "</div>"
      ],
      "text/plain": [
       "        departure_time  stops  arrival_time  class  duration  days_left\n",
       "216730             5.0    0.0           4.0    0.0     11.75       40.0\n",
       "168677             1.0    0.0           4.0    1.0     27.17       48.0\n",
       "4657               5.0    2.0           5.0    1.0      2.25       27.0\n",
       "170834             1.0    0.0           0.0    1.0      6.67       19.0\n",
       "79607              2.0    0.0           3.0    1.0      8.67       23.0\n",
       "...                ...    ...           ...    ...       ...        ...\n",
       "171792             0.0    0.0           2.0    1.0      5.33       27.0\n",
       "190774             2.0    0.0           5.0    0.0     28.08        1.0\n",
       "11690              0.0    0.0           2.0    1.0      4.92       17.0\n",
       "157371             0.0    0.0           2.0    1.0      4.92       37.0\n",
       "69198              0.0    0.0           4.0    1.0     20.50       46.0\n",
       "\n",
       "[216110 rows x 6 columns]"
      ]
     },
     "execution_count": 47,
     "metadata": {},
     "output_type": "execute_result"
    }
   ],
   "source": [
    "X_train"
   ]
  },
  {
   "cell_type": "code",
   "execution_count": 48,
   "id": "7b656cc3",
   "metadata": {
    "collapsed": false,
    "jupyter": {
     "outputs_hidden": false
    },
    "pycharm": {
     "name": "#%%\n"
    }
   },
   "outputs": [
    {
     "data": {
      "text/html": [
       "<div>\n",
       "<style scoped>\n",
       "    .dataframe tbody tr th:only-of-type {\n",
       "        vertical-align: middle;\n",
       "    }\n",
       "\n",
       "    .dataframe tbody tr th {\n",
       "        vertical-align: top;\n",
       "    }\n",
       "\n",
       "    .dataframe thead th {\n",
       "        text-align: right;\n",
       "    }\n",
       "</style>\n",
       "<table border=\"1\" class=\"dataframe\">\n",
       "  <thead>\n",
       "    <tr style=\"text-align: right;\">\n",
       "      <th></th>\n",
       "      <th>price</th>\n",
       "    </tr>\n",
       "  </thead>\n",
       "  <tbody>\n",
       "    <tr>\n",
       "      <th>216730</th>\n",
       "      <td>58125.0</td>\n",
       "    </tr>\n",
       "    <tr>\n",
       "      <th>168677</th>\n",
       "      <td>4827.0</td>\n",
       "    </tr>\n",
       "    <tr>\n",
       "      <th>4657</th>\n",
       "      <td>3001.0</td>\n",
       "    </tr>\n",
       "    <tr>\n",
       "      <th>170834</th>\n",
       "      <td>5092.0</td>\n",
       "    </tr>\n",
       "    <tr>\n",
       "      <th>79607</th>\n",
       "      <td>6072.0</td>\n",
       "    </tr>\n",
       "    <tr>\n",
       "      <th>...</th>\n",
       "      <td>...</td>\n",
       "    </tr>\n",
       "    <tr>\n",
       "      <th>171792</th>\n",
       "      <td>3349.0</td>\n",
       "    </tr>\n",
       "    <tr>\n",
       "      <th>190774</th>\n",
       "      <td>53771.0</td>\n",
       "    </tr>\n",
       "    <tr>\n",
       "      <th>11690</th>\n",
       "      <td>4496.0</td>\n",
       "    </tr>\n",
       "    <tr>\n",
       "      <th>157371</th>\n",
       "      <td>7696.0</td>\n",
       "    </tr>\n",
       "    <tr>\n",
       "      <th>69198</th>\n",
       "      <td>4173.0</td>\n",
       "    </tr>\n",
       "  </tbody>\n",
       "</table>\n",
       "<p>216110 rows × 1 columns</p>\n",
       "</div>"
      ],
      "text/plain": [
       "          price\n",
       "216730  58125.0\n",
       "168677   4827.0\n",
       "4657     3001.0\n",
       "170834   5092.0\n",
       "79607    6072.0\n",
       "...         ...\n",
       "171792   3349.0\n",
       "190774  53771.0\n",
       "11690    4496.0\n",
       "157371   7696.0\n",
       "69198    4173.0\n",
       "\n",
       "[216110 rows x 1 columns]"
      ]
     },
     "execution_count": 48,
     "metadata": {},
     "output_type": "execute_result"
    }
   ],
   "source": [
    "Y_train"
   ]
  },
  {
   "cell_type": "code",
   "execution_count": 49,
   "id": "55340a9c",
   "metadata": {
    "collapsed": false,
    "jupyter": {
     "outputs_hidden": false
    },
    "pycharm": {
     "name": "#%%\n"
    }
   },
   "outputs": [],
   "source": [
    "min_items_list = list(X.min())"
   ]
  },
  {
   "cell_type": "code",
   "execution_count": 50,
   "id": "d613c233",
   "metadata": {
    "collapsed": false,
    "jupyter": {
     "outputs_hidden": false
    },
    "pycharm": {
     "name": "#%%\n"
    }
   },
   "outputs": [],
   "source": [
    "max_items_list = list(X.max())"
   ]
  },
  {
   "cell_type": "code",
   "execution_count": 51,
   "id": "652aeae7",
   "metadata": {
    "collapsed": false,
    "jupyter": {
     "outputs_hidden": false
    },
    "pycharm": {
     "name": "#%%\n"
    }
   },
   "outputs": [],
   "source": [
    "departure_time_normalization = np.array([])\n",
    "stops_normalization = np.array([])\n",
    "arrival_time_normalization = np.array([])\n",
    "class_normalization = np.array([])\n",
    "duration_normalization = np.array([])\n",
    "days_left_normalization = np.array([])\n",
    "\n",
    "departure_time_test = np.array([])\n",
    "stops_test = np.array([])\n",
    "arrival_time_test = np.array([])\n",
    "class_test = np.array([])\n",
    "duration_test = np.array([])\n",
    "days_left_test = np.array([])"
   ]
  },
  {
   "cell_type": "code",
   "execution_count": 52,
   "id": "0c84b3f4",
   "metadata": {
    "collapsed": false,
    "jupyter": {
     "outputs_hidden": false
    },
    "pycharm": {
     "name": "#%%\n"
    }
   },
   "outputs": [],
   "source": [
    "departure_time_normalization = X_train['departure_time'].to_numpy()\n",
    "stops_normalization = X_train['stops'].to_numpy()\n",
    "arrival_time_normalization = X_train['arrival_time'].to_numpy()\n",
    "class_normalization = X_train['class'].to_numpy()\n",
    "duration_normalization = X_train['duration'].to_numpy()\n",
    "days_left_normalization = X_train['days_left'].to_numpy()\n",
    "\n",
    "departure_time_test = X_test['departure_time'].to_numpy()\n",
    "stops_test = X_test['stops'].to_numpy()\n",
    "arrival_time_test = X_test['arrival_time'].to_numpy()\n",
    "class_test = X_test['class'].to_numpy()\n",
    "duration_test = X_test['duration'].to_numpy()\n",
    "days_left_test = X_test['days_left'].to_numpy()"
   ]
  },
  {
   "cell_type": "code",
   "execution_count": 53,
   "id": "079ee34d",
   "metadata": {
    "collapsed": false,
    "jupyter": {
     "outputs_hidden": false
    },
    "pycharm": {
     "name": "#%%\n"
    }
   },
   "outputs": [],
   "source": [
    "for i in range(len(X_train.index)):\n",
    "    np.put(departure_time_normalization, [i], (departure_time_normalization[i] - min_items_list[0])/ (max_items_list[0] - min_items_list[0]))\n",
    "\n",
    "    np.put(stops_normalization, [i], (stops_normalization[i] - min_items_list[1])/ (max_items_list[1] - min_items_list[1]))\n",
    "\n",
    "    np.put(arrival_time_normalization, [i], (arrival_time_normalization[i] - min_items_list[2])/ (max_items_list[2] - min_items_list[2]))\n",
    "\n",
    "    np.put(class_normalization, [i], (class_normalization[i] - min_items_list[3])/ (max_items_list[3] - min_items_list[3]))\n",
    "\n",
    "    np.put(duration_normalization, [i], (duration_normalization[i] - min_items_list[4])/ (max_items_list[4] - min_items_list[4]))\n",
    "\n",
    "    np.put(days_left_normalization, [i], (days_left_normalization[i] - min_items_list[5])/ (max_items_list[5] - min_items_list[5]))\n",
    "\n",
    "for i in range(len(X_test.index)):\n",
    "    np.put(departure_time_test, [i], (departure_time_test[i] - min_items_list[0])/ (max_items_list[0] - min_items_list[0]))\n",
    "\n",
    "    np.put(stops_test, [i], (stops_test[i] - min_items_list[1])/ (max_items_list[1] - min_items_list[1]))\n",
    "\n",
    "    np.put(arrival_time_test, [i], (arrival_time_test[i] - min_items_list[2])/ (max_items_list[2] - min_items_list[2]))\n",
    "\n",
    "    np.put(class_test, [i], (class_test[i] - min_items_list[3])/ (max_items_list[3] - min_items_list[3]))\n",
    "\n",
    "    np.put(duration_test, [i], (duration_test[i] - min_items_list[4])/ (max_items_list[4] - min_items_list[4]))\n",
    "\n",
    "    np.put(days_left_test, [i], (days_left_test[i] - min_items_list[5])/ (max_items_list[5] - min_items_list[5]))"
   ]
  },
  {
   "cell_type": "code",
   "execution_count": 54,
   "id": "b7a8659f",
   "metadata": {
    "collapsed": false,
    "jupyter": {
     "outputs_hidden": false
    },
    "pycharm": {
     "name": "#%%\n"
    }
   },
   "outputs": [
    {
     "data": {
      "text/html": [
       "<div>\n",
       "<style scoped>\n",
       "    .dataframe tbody tr th:only-of-type {\n",
       "        vertical-align: middle;\n",
       "    }\n",
       "\n",
       "    .dataframe tbody tr th {\n",
       "        vertical-align: top;\n",
       "    }\n",
       "\n",
       "    .dataframe thead th {\n",
       "        text-align: right;\n",
       "    }\n",
       "</style>\n",
       "<table border=\"1\" class=\"dataframe\">\n",
       "  <thead>\n",
       "    <tr style=\"text-align: right;\">\n",
       "      <th></th>\n",
       "      <th>departure_time</th>\n",
       "      <th>stops</th>\n",
       "      <th>arrival_time</th>\n",
       "      <th>class</th>\n",
       "      <th>duration</th>\n",
       "      <th>days_left</th>\n",
       "    </tr>\n",
       "  </thead>\n",
       "  <tbody>\n",
       "    <tr>\n",
       "      <th>216730</th>\n",
       "      <td>1.0</td>\n",
       "      <td>0.0</td>\n",
       "      <td>0.8</td>\n",
       "      <td>0.0</td>\n",
       "      <td>0.222857</td>\n",
       "      <td>0.812500</td>\n",
       "    </tr>\n",
       "    <tr>\n",
       "      <th>168677</th>\n",
       "      <td>0.2</td>\n",
       "      <td>0.0</td>\n",
       "      <td>0.8</td>\n",
       "      <td>1.0</td>\n",
       "      <td>0.537551</td>\n",
       "      <td>0.979167</td>\n",
       "    </tr>\n",
       "    <tr>\n",
       "      <th>4657</th>\n",
       "      <td>1.0</td>\n",
       "      <td>1.0</td>\n",
       "      <td>1.0</td>\n",
       "      <td>1.0</td>\n",
       "      <td>0.028980</td>\n",
       "      <td>0.541667</td>\n",
       "    </tr>\n",
       "    <tr>\n",
       "      <th>170834</th>\n",
       "      <td>0.2</td>\n",
       "      <td>0.0</td>\n",
       "      <td>0.0</td>\n",
       "      <td>1.0</td>\n",
       "      <td>0.119184</td>\n",
       "      <td>0.375000</td>\n",
       "    </tr>\n",
       "    <tr>\n",
       "      <th>79607</th>\n",
       "      <td>0.4</td>\n",
       "      <td>0.0</td>\n",
       "      <td>0.6</td>\n",
       "      <td>1.0</td>\n",
       "      <td>0.160000</td>\n",
       "      <td>0.458333</td>\n",
       "    </tr>\n",
       "    <tr>\n",
       "      <th>...</th>\n",
       "      <td>...</td>\n",
       "      <td>...</td>\n",
       "      <td>...</td>\n",
       "      <td>...</td>\n",
       "      <td>...</td>\n",
       "      <td>...</td>\n",
       "    </tr>\n",
       "    <tr>\n",
       "      <th>171792</th>\n",
       "      <td>0.0</td>\n",
       "      <td>0.0</td>\n",
       "      <td>0.4</td>\n",
       "      <td>1.0</td>\n",
       "      <td>0.091837</td>\n",
       "      <td>0.541667</td>\n",
       "    </tr>\n",
       "    <tr>\n",
       "      <th>190774</th>\n",
       "      <td>0.4</td>\n",
       "      <td>0.0</td>\n",
       "      <td>1.0</td>\n",
       "      <td>0.0</td>\n",
       "      <td>0.556122</td>\n",
       "      <td>0.000000</td>\n",
       "    </tr>\n",
       "    <tr>\n",
       "      <th>11690</th>\n",
       "      <td>0.0</td>\n",
       "      <td>0.0</td>\n",
       "      <td>0.4</td>\n",
       "      <td>1.0</td>\n",
       "      <td>0.083469</td>\n",
       "      <td>0.333333</td>\n",
       "    </tr>\n",
       "    <tr>\n",
       "      <th>157371</th>\n",
       "      <td>0.0</td>\n",
       "      <td>0.0</td>\n",
       "      <td>0.4</td>\n",
       "      <td>1.0</td>\n",
       "      <td>0.083469</td>\n",
       "      <td>0.750000</td>\n",
       "    </tr>\n",
       "    <tr>\n",
       "      <th>69198</th>\n",
       "      <td>0.0</td>\n",
       "      <td>0.0</td>\n",
       "      <td>0.8</td>\n",
       "      <td>1.0</td>\n",
       "      <td>0.401429</td>\n",
       "      <td>0.937500</td>\n",
       "    </tr>\n",
       "  </tbody>\n",
       "</table>\n",
       "<p>216110 rows × 6 columns</p>\n",
       "</div>"
      ],
      "text/plain": [
       "        departure_time  stops  arrival_time  class  duration  days_left\n",
       "216730             1.0    0.0           0.8    0.0  0.222857   0.812500\n",
       "168677             0.2    0.0           0.8    1.0  0.537551   0.979167\n",
       "4657               1.0    1.0           1.0    1.0  0.028980   0.541667\n",
       "170834             0.2    0.0           0.0    1.0  0.119184   0.375000\n",
       "79607              0.4    0.0           0.6    1.0  0.160000   0.458333\n",
       "...                ...    ...           ...    ...       ...        ...\n",
       "171792             0.0    0.0           0.4    1.0  0.091837   0.541667\n",
       "190774             0.4    0.0           1.0    0.0  0.556122   0.000000\n",
       "11690              0.0    0.0           0.4    1.0  0.083469   0.333333\n",
       "157371             0.0    0.0           0.4    1.0  0.083469   0.750000\n",
       "69198              0.0    0.0           0.8    1.0  0.401429   0.937500\n",
       "\n",
       "[216110 rows x 6 columns]"
      ]
     },
     "execution_count": 54,
     "metadata": {},
     "output_type": "execute_result"
    }
   ],
   "source": [
    "X_train"
   ]
  },
  {
   "cell_type": "code",
   "execution_count": 55,
   "id": "ce269949",
   "metadata": {
    "collapsed": false,
    "jupyter": {
     "outputs_hidden": false
    },
    "pycharm": {
     "name": "#%%\n"
    }
   },
   "outputs": [
    {
     "data": {
      "text/plain": [
       "1.0"
      ]
     },
     "execution_count": 55,
     "metadata": {},
     "output_type": "execute_result"
    }
   ],
   "source": [
    "arrival_time_normalization[2]\n",
    "#departure_time_normalization[3]"
   ]
  },
  {
   "cell_type": "code",
   "execution_count": 56,
   "id": "5ef05cbe",
   "metadata": {
    "collapsed": false,
    "jupyter": {
     "outputs_hidden": false
    },
    "pycharm": {
     "name": "#%%\n"
    }
   },
   "outputs": [
    {
     "data": {
      "text/plain": [
       "departure_time    0.00\n",
       "stops             0.00\n",
       "arrival_time      0.00\n",
       "class             0.00\n",
       "duration          0.83\n",
       "days_left         1.00\n",
       "dtype: float64"
      ]
     },
     "execution_count": 56,
     "metadata": {},
     "output_type": "execute_result"
    }
   ],
   "source": [
    "X.min()"
   ]
  },
  {
   "cell_type": "code",
   "execution_count": 57,
   "id": "bd1a1d50",
   "metadata": {
    "collapsed": false,
    "jupyter": {
     "outputs_hidden": false
    },
    "pycharm": {
     "name": "#%%\n"
    }
   },
   "outputs": [
    {
     "data": {
      "text/plain": [
       "departure_time     5.00\n",
       "stops              2.00\n",
       "arrival_time       5.00\n",
       "class              1.00\n",
       "duration          49.83\n",
       "days_left         49.00\n",
       "dtype: float64"
      ]
     },
     "execution_count": 57,
     "metadata": {},
     "output_type": "execute_result"
    }
   ],
   "source": [
    "X.max()"
   ]
  },
  {
   "cell_type": "code",
   "execution_count": 58,
   "id": "02d70358",
   "metadata": {
    "collapsed": false,
    "jupyter": {
     "outputs_hidden": false
    },
    "pycharm": {
     "name": "#%%\n"
    }
   },
   "outputs": [
    {
     "data": {
      "text/plain": [
       "123071"
      ]
     },
     "execution_count": 58,
     "metadata": {},
     "output_type": "execute_result"
    }
   ],
   "source": [
    "#Y_max = Y.max()\n",
    "Y_max = 123071\n",
    "Y_max"
   ]
  },
  {
   "cell_type": "code",
   "execution_count": 59,
   "id": "d68ce02d",
   "metadata": {
    "collapsed": false,
    "jupyter": {
     "outputs_hidden": false
    },
    "pycharm": {
     "name": "#%%\n"
    }
   },
   "outputs": [
    {
     "data": {
      "text/plain": [
       "1105"
      ]
     },
     "execution_count": 59,
     "metadata": {},
     "output_type": "execute_result"
    }
   ],
   "source": [
    "#Y_min = Y.min()\n",
    "Y_min = 1105\n",
    "Y_min"
   ]
  },
  {
   "cell_type": "code",
   "execution_count": 60,
   "id": "21c43a4a",
   "metadata": {
    "collapsed": false,
    "jupyter": {
     "outputs_hidden": false
    },
    "pycharm": {
     "name": "#%%\n"
    }
   },
   "outputs": [],
   "source": [
    "price_normalization = np.array([])\n",
    "price_test = np.array([])"
   ]
  },
  {
   "cell_type": "code",
   "execution_count": 61,
   "id": "8fae3881",
   "metadata": {
    "collapsed": false,
    "jupyter": {
     "outputs_hidden": false
    },
    "pycharm": {
     "name": "#%%\n"
    }
   },
   "outputs": [],
   "source": [
    "price_normalization = Y_train['price'].to_numpy()\n",
    "price_test = Y_test['price'].to_numpy()"
   ]
  },
  {
   "cell_type": "code",
   "execution_count": 62,
   "id": "a17bc7a2",
   "metadata": {
    "collapsed": false,
    "jupyter": {
     "outputs_hidden": false
    },
    "pycharm": {
     "name": "#%%\n"
    }
   },
   "outputs": [],
   "source": [
    "for i in range(len(Y_train.index)):\n",
    "    np.put(price_normalization, [i], (price_normalization[i] - Y_min)/ (Y_max - Y_min))\n",
    "\n",
    "for i in range(len(Y_test.index)):\n",
    "    np.put(price_test, [i], (price_test[i] - Y_min)/ (Y_max - Y_min))"
   ]
  },
  {
   "cell_type": "code",
   "execution_count": 63,
   "id": "c7389ee2-4908-45b5-b9b2-f2f1452253c5",
   "metadata": {},
   "outputs": [],
   "source": [
    "def mse(y_train, y_predicted):\n",
    "     mse_error = np.sum((y_train - y_predicted)**2) / (2 * len(y_train))\n",
    "     return mse_error\n",
    "\n",
    "def rmse(y_train, y_predicted):\n",
    "     rmse_error = np.sqrt(mse(y_train, y_predicted))\n",
    "     return rmse_error\n",
    "\n",
    "def mae(y_train, y_predicted):\n",
    "     mae_error = np.sum(np.abs(y_train - y_predicted)) / (2 * len(y_train))\n",
    "     return mae_error\n",
    "\n",
    "def r_squared (y_train, y_predicted):\n",
    "     r_squared_error = 1 - (np.sum((y_train - y_predicted)**2) / np.sum((y_train - np.average(y_train))**2))\n",
    "     return r_squared_error\n"
   ]
  },
  {
   "cell_type": "code",
   "execution_count": null,
   "id": "d1b11fde-92b6-488a-b06c-232aa2244183",
   "metadata": {},
   "outputs": [
    {
     "name": "stdout",
     "output_type": "stream",
     "text": [
      "-14.865306574320885\n",
      "-5.951232681359943\n",
      "-3.5428686720928564\n",
      "-2.7606767401443855\n",
      "-2.3950063873224816\n",
      "-2.145219673105805\n",
      "-1.9358945022691776\n",
      "-1.7474615810328422\n",
      "-1.5742524259477144\n",
      "-1.414103893157658\n",
      "-1.2657787534842262\n",
      "-1.1283224428634995\n",
      "-1.0008996837288882\n",
      "-0.8827502665777212\n",
      "-0.7731746303024343\n",
      "-0.6715270871848082\n",
      "-0.5772111854569952\n",
      "-0.48967582685975297\n",
      "-0.4084117795759119\n",
      "-0.33294848158354395\n",
      "-0.26285109375830684\n",
      "-0.19771777909502752\n",
      "-0.1371771896727607\n",
      "-0.08088614524372217\n",
      "-0.028527488767360776\n",
      "0.020191894617533124\n",
      "0.06554290764688186\n",
      "0.10777593152221732\n",
      "0.1471223876706289\n",
      "0.1837961804951317\n",
      "0.2179950301879432\n",
      "0.24990170398741174\n",
      "0.2796851536203606\n",
      "0.30750156608133694\n",
      "0.3334953343550219\n",
      "0.35779995418436294\n",
      "0.38053885252171915\n",
      "0.40182615287051804\n",
      "0.4217673823278927\n",
      "0.44046012477201835\n",
      "0.45799462429906934\n",
      "0.47445434270177655\n",
      "0.48991647449244946\n",
      "0.5044524227062932\n",
      "0.5181282384741481\n",
      "0.5310050271258999\n",
      "0.5431393233753098\n",
      "0.5545834379425426\n",
      "0.565385777791057\n",
      "0.5755911419895761\n",
      "0.585240995056576\n",
      "0.5943737195031422\n",
      "0.6030248491592299\n",
      "0.6112272847475491\n",
      "0.6190114930576706\n",
      "0.6264056909698532\n",
      "0.633436015482834\n",
      "0.6401266808118569\n",
      "0.6465001235419239\n",
      "0.6525771367461854\n",
      "0.6583769939100262\n",
      "0.6639175634373347\n",
      "0.6692154144562678\n",
      "0.6742859145871394\n",
      "0.6791433202845727\n",
      "0.6838008603193899\n",
      "0.6882708129226263\n",
      "0.6925645770742364\n",
      "0.6966927383822943\n",
      "0.7006651299645044\n",
      "0.7044908887124679\n",
      "0.7081785072901534\n",
      "0.7117358821912414\n",
      "0.7151703581552726\n",
      "0.7184887692196784\n",
      "0.7216974766636584\n",
      "0.7248024040803704\n",
      "0.7278090697958803\n",
      "0.730722616836678\n",
      "0.7335478406321936\n",
      "0.7362892146245421\n"
     ]
    }
   ],
   "source": [
    "def gradient_descent(departure_time, stops, arrival_time, class_type, duration, days_left,\n",
    "                     price, iterations, learning_rate = 0.1, stopping_threshold = 1e-5):\n",
    "    w_departure_time = 0.05\n",
    "    w_stops = 0.2\n",
    "    w_arrival_time = 0.05\n",
    "    w_class_type = 0.6\n",
    "    w_duration = 0.3\n",
    "    w_days_left = 0.3\n",
    "    b = 0.01\n",
    "    \n",
    "    n = float(len(departure_time))\n",
    "     \n",
    "    mse_errors = []\n",
    "    weights = []\n",
    "    previous_mse_error = None\n",
    "\n",
    "    for i in range(iterations):\n",
    "         \n",
    "        price_predicted = price_predicted_cal(w_arrival_time, w_departure_time, w_stops, w_class_type, w_duration, w_days_left,\n",
    "                        arrival_time, departure_time, stops, class_type, duration, days_left, b)\n",
    "        mse_error = r_squared(price, price_predicted)\n",
    " \n",
    "        if previous_mse_error and abs(previous_mse_error - mse_error) <= stopping_threshold:\n",
    "            break\n",
    "         \n",
    "        previous_mse_error = mse_error\n",
    " \n",
    "        mse_errors.append(mse_error)\n",
    "\n",
    "        w_departure_time_derivative = -(2/n) * sum(departure_time * (price - price_predicted))\n",
    "        w_stops_derivative = -(2/n) * sum(stops * (price - price_predicted))\n",
    "        w_arrival_time_derivative = -(2/n) * sum(arrival_time * (price - price_predicted))\n",
    "        w_class_type_derivative = -(2/n) * sum(class_type * (price - price_predicted))\n",
    "        w_duration_derivative = -(2/n) * sum(duration * (price - price_predicted))\n",
    "        w_days_left_derivative = -(2/n) * sum(days_left * (price - price_predicted))\n",
    "        b_derivative = -(2/n) * sum(price - price_predicted)\n",
    "         \n",
    "        w_departure_time = w_departure_time - (learning_rate * w_departure_time_derivative)\n",
    "        w_stops = w_stops - (learning_rate * w_stops_derivative)\n",
    "        w_arrival_time = w_arrival_time - (learning_rate * w_arrival_time_derivative)\n",
    "        w_class_type = w_class_type - (learning_rate * w_class_type_derivative)\n",
    "        w_duration = w_duration - (learning_rate * w_duration_derivative)\n",
    "        w_days_left = w_days_left - (learning_rate * w_days_left_derivative)\n",
    "        b = b - (learning_rate * b_derivative)\n",
    "\n",
    "        print(mse_errors[i])\n",
    "    return w_departure_time, w_stops, w_arrival_time, w_class_type, w_duration, w_days_left, b\n",
    "\n",
    "w_departure_time, w_stops, w_arrival_time, w_class_type, w_duration, w_days_left, b = gradient_descent(\n",
    "    departure_time_normalization, stops_normalization, arrival_time_normalization,\n",
    "    class_normalization, duration_normalization, days_left_normalization,\n",
    "    price_normalization, len(price_normalization))"
   ]
  },
  {
   "cell_type": "code",
   "execution_count": 66,
   "id": "c4dec7d2-9356-43e6-a2d6-b21612952c38",
   "metadata": {},
   "outputs": [],
   "source": [
    "def price_predicted_cal(w_arrival_time, w_departure_time, w_stops, w_class_type, w_duration, w_days_left,\n",
    "                        arrival_time, departure_time, stops, class_type, duration, days_left, b):\n",
    "    price_predicted = (w_arrival_time * arrival_time) + (w_departure_time * departure_time) + (w_stops * stops) + (w_class_type * class_type) +(w_duration * duration) + (w_days_left * days_left) + b\n",
    "    return price_predicted"
   ]
  },
  {
   "cell_type": "code",
   "execution_count": 67,
   "id": "01843406-c091-4979-aef4-4cbfb71e5812",
   "metadata": {},
   "outputs": [
    {
     "name": "stdout",
     "output_type": "stream",
     "text": [
      "0.0017953407552001672\n",
      "0.04237146156554158\n",
      "0.019642117525795148\n",
      "0.8963930392366303\n"
     ]
    }
   ],
   "source": [
    "def test(arrival_time, departure_time, stops, class_type, duration, days_left,\n",
    "         price, w_arrival_time, w_departure_time, w_stops, w_class_type, w_duration, w_days_left, b):\n",
    "    \n",
    "    for i in range(len(X_test)):\n",
    "        price_predicted = price_predicted_cal(w_arrival_time, w_departure_time, w_stops, w_class_type,\n",
    "                                              w_duration, w_days_left, arrival_time, departure_time,\n",
    "                                              stops, class_type, duration, days_left, b)\n",
    "\n",
    "    mse_error = mse(price_test, price_predicted)\n",
    "    rmse_error = rmse(price_test, price_predicted)\n",
    "    mae_error = mae(price_test, price_predicted)\n",
    "    r_squared_error = r_squared(price_test, price_predicted)\n",
    "\n",
    "    print(mse_error)\n",
    "    print(rmse_error)\n",
    "    print(mae_error)\n",
    "    print(r_squared_error)\n",
    "\n",
    "test(arrival_time_test, departure_time_test, stops_test, class_test, duration_test, days_left_test, \n",
    "     price_test, w_arrival_time, w_departure_time, w_stops, w_class_type, w_duration, w_days_left, b)\n",
    "     \n"
   ]
  }
 ],
 "metadata": {
  "kernelspec": {
   "display_name": "Python 3 (ipykernel)",
   "language": "python",
   "name": "python3"
  },
  "language_info": {
   "codemirror_mode": {
    "name": "ipython",
    "version": 3
   },
   "file_extension": ".py",
   "mimetype": "text/x-python",
   "name": "python",
   "nbconvert_exporter": "python",
   "pygments_lexer": "ipython3",
   "version": "3.11.5"
  }
 },
 "nbformat": 4,
 "nbformat_minor": 5
}
