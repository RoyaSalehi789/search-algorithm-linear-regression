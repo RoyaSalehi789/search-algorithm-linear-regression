{
 "cells": [
  {
   "cell_type": "code",
   "execution_count": 38,
   "id": "6f91883b",
   "metadata": {
    "collapsed": false,
    "jupyter": {
     "outputs_hidden": false
    },
    "pycharm": {
     "is_executing": true,
     "name": "#%%\n"
    }
   },
   "outputs": [],
   "source": [
    "import pandas as pd\n",
    "import networkx as nx\n",
    "import matplotlib.pyplot as plt\n",
    "import sys\n",
    "import math\n",
    "import time"
   ]
  },
  {
   "cell_type": "code",
   "execution_count": 39,
   "id": "01070202",
   "metadata": {
    "collapsed": false,
    "jupyter": {
     "outputs_hidden": false
    },
    "pycharm": {
     "is_executing": true,
     "name": "#%%\n"
    }
   },
   "outputs": [],
   "source": [
    "df = pd.read_csv('Flight_Data.csv')"
   ]
  },
  {
   "cell_type": "code",
   "execution_count": 40,
   "id": "ecaa427e",
   "metadata": {
    "collapsed": false,
    "jupyter": {
     "outputs_hidden": false
    },
    "pycharm": {
     "name": "#%%\n"
    }
   },
   "outputs": [],
   "source": [
    "Geographical_map = nx.Graph()"
   ]
  },
  {
   "cell_type": "code",
   "execution_count": 41,
   "id": "d5155109",
   "metadata": {
    "collapsed": false,
    "jupyter": {
     "outputs_hidden": false
    },
    "pycharm": {
     "name": "#%%\n"
    }
   },
   "outputs": [
    {
     "data": {
      "text/html": [
       "<div>\n",
       "<style scoped>\n",
       "    .dataframe tbody tr th:only-of-type {\n",
       "        vertical-align: middle;\n",
       "    }\n",
       "\n",
       "    .dataframe tbody tr th {\n",
       "        vertical-align: top;\n",
       "    }\n",
       "\n",
       "    .dataframe thead th {\n",
       "        text-align: right;\n",
       "    }\n",
       "</style>\n",
       "<table border=\"1\" class=\"dataframe\">\n",
       "  <thead>\n",
       "    <tr style=\"text-align: right;\">\n",
       "      <th></th>\n",
       "      <th>Airline</th>\n",
       "      <th>SourceAirport</th>\n",
       "      <th>DestinationAirport</th>\n",
       "      <th>SourceAirport_City</th>\n",
       "      <th>SourceAirport_Country</th>\n",
       "      <th>SourceAirport_Latitude</th>\n",
       "      <th>SourceAirport_Longitude</th>\n",
       "      <th>SourceAirport_Altitude</th>\n",
       "      <th>DestinationAirport_City</th>\n",
       "      <th>DestinationAirport_Country</th>\n",
       "      <th>DestinationAirport_Latitude</th>\n",
       "      <th>DestinationAirport_Longitude</th>\n",
       "      <th>DestinationAirport_Altitude</th>\n",
       "      <th>Distance</th>\n",
       "      <th>FlyTime</th>\n",
       "      <th>Price</th>\n",
       "    </tr>\n",
       "  </thead>\n",
       "  <tbody>\n",
       "    <tr>\n",
       "      <th>0</th>\n",
       "      <td>Pegasus Airlines</td>\n",
       "      <td>Sabiha Gökçen International Airport</td>\n",
       "      <td>Imam Khomeini International Airport</td>\n",
       "      <td>Istanbul</td>\n",
       "      <td>Turkey</td>\n",
       "      <td>40.898602</td>\n",
       "      <td>29.309200</td>\n",
       "      <td>312</td>\n",
       "      <td>Tehran</td>\n",
       "      <td>Iran</td>\n",
       "      <td>35.416100</td>\n",
       "      <td>51.152199</td>\n",
       "      <td>3305</td>\n",
       "      <td>1998.541333</td>\n",
       "      <td>2.624833</td>\n",
       "      <td>271.489760</td>\n",
       "    </tr>\n",
       "    <tr>\n",
       "      <th>1</th>\n",
       "      <td>Turkish Airlines</td>\n",
       "      <td>Atatürk International Airport</td>\n",
       "      <td>Imam Khomeini International Airport</td>\n",
       "      <td>Istanbul</td>\n",
       "      <td>Turkey</td>\n",
       "      <td>40.976898</td>\n",
       "      <td>28.814600</td>\n",
       "      <td>163</td>\n",
       "      <td>Tehran</td>\n",
       "      <td>Iran</td>\n",
       "      <td>35.416100</td>\n",
       "      <td>51.152199</td>\n",
       "      <td>3305</td>\n",
       "      <td>2040.978811</td>\n",
       "      <td>2.882362</td>\n",
       "      <td>300.589499</td>\n",
       "    </tr>\n",
       "    <tr>\n",
       "      <th>2</th>\n",
       "      <td>Emirates</td>\n",
       "      <td>Dubai International Airport</td>\n",
       "      <td>Imam Khomeini International Airport</td>\n",
       "      <td>Dubai</td>\n",
       "      <td>United Arab Emirates</td>\n",
       "      <td>25.252800</td>\n",
       "      <td>55.364399</td>\n",
       "      <td>62</td>\n",
       "      <td>Tehran</td>\n",
       "      <td>Iran</td>\n",
       "      <td>35.416100</td>\n",
       "      <td>51.152199</td>\n",
       "      <td>3305</td>\n",
       "      <td>1199.863567</td>\n",
       "      <td>1.536046</td>\n",
       "      <td>210.215879</td>\n",
       "    </tr>\n",
       "    <tr>\n",
       "      <th>3</th>\n",
       "      <td>Etihad Airways</td>\n",
       "      <td>Abu Dhabi International Airport</td>\n",
       "      <td>Imam Khomeini International Airport</td>\n",
       "      <td>Abu Dhabi</td>\n",
       "      <td>United Arab Emirates</td>\n",
       "      <td>24.433001</td>\n",
       "      <td>54.651100</td>\n",
       "      <td>88</td>\n",
       "      <td>Tehran</td>\n",
       "      <td>Iran</td>\n",
       "      <td>35.416100</td>\n",
       "      <td>51.152199</td>\n",
       "      <td>3305</td>\n",
       "      <td>1266.681453</td>\n",
       "      <td>2.144199</td>\n",
       "      <td>175.864733</td>\n",
       "    </tr>\n",
       "    <tr>\n",
       "      <th>4</th>\n",
       "      <td>Air Arabia</td>\n",
       "      <td>Sharjah International Airport</td>\n",
       "      <td>Imam Khomeini International Airport</td>\n",
       "      <td>Sharjah</td>\n",
       "      <td>United Arab Emirates</td>\n",
       "      <td>25.328600</td>\n",
       "      <td>55.517200</td>\n",
       "      <td>111</td>\n",
       "      <td>Tehran</td>\n",
       "      <td>Iran</td>\n",
       "      <td>35.416100</td>\n",
       "      <td>51.152199</td>\n",
       "      <td>3305</td>\n",
       "      <td>1196.902147</td>\n",
       "      <td>1.772627</td>\n",
       "      <td>174.332843</td>\n",
       "    </tr>\n",
       "    <tr>\n",
       "      <th>...</th>\n",
       "      <td>...</td>\n",
       "      <td>...</td>\n",
       "      <td>...</td>\n",
       "      <td>...</td>\n",
       "      <td>...</td>\n",
       "      <td>...</td>\n",
       "      <td>...</td>\n",
       "      <td>...</td>\n",
       "      <td>...</td>\n",
       "      <td>...</td>\n",
       "      <td>...</td>\n",
       "      <td>...</td>\n",
       "      <td>...</td>\n",
       "      <td>...</td>\n",
       "      <td>...</td>\n",
       "      <td>...</td>\n",
       "    </tr>\n",
       "    <tr>\n",
       "      <th>6831</th>\n",
       "      <td>Kenmore Air</td>\n",
       "      <td>Boeing Field King County International Airport</td>\n",
       "      <td>William R Fairchild International Airport</td>\n",
       "      <td>Seattle</td>\n",
       "      <td>United States</td>\n",
       "      <td>47.529999</td>\n",
       "      <td>-122.302002</td>\n",
       "      <td>21</td>\n",
       "      <td>Port Angeles</td>\n",
       "      <td>United States</td>\n",
       "      <td>48.120201</td>\n",
       "      <td>-123.500000</td>\n",
       "      <td>291</td>\n",
       "      <td>110.930397</td>\n",
       "      <td>0.161072</td>\n",
       "      <td>31.661891</td>\n",
       "    </tr>\n",
       "    <tr>\n",
       "      <th>6832</th>\n",
       "      <td>Kenmore Air</td>\n",
       "      <td>Boeing Field King County International Airport</td>\n",
       "      <td>Orcas Island Airport</td>\n",
       "      <td>Seattle</td>\n",
       "      <td>United States</td>\n",
       "      <td>47.529999</td>\n",
       "      <td>-122.302002</td>\n",
       "      <td>21</td>\n",
       "      <td>Eastsound</td>\n",
       "      <td>United States</td>\n",
       "      <td>48.708199</td>\n",
       "      <td>-122.910004</td>\n",
       "      <td>31</td>\n",
       "      <td>138.564899</td>\n",
       "      <td>0.899144</td>\n",
       "      <td>26.201671</td>\n",
       "    </tr>\n",
       "    <tr>\n",
       "      <th>6833</th>\n",
       "      <td>Kenmore Air</td>\n",
       "      <td>William R Fairchild International Airport</td>\n",
       "      <td>Boeing Field King County International Airport</td>\n",
       "      <td>Port Angeles</td>\n",
       "      <td>United States</td>\n",
       "      <td>48.120201</td>\n",
       "      <td>-123.500000</td>\n",
       "      <td>291</td>\n",
       "      <td>Seattle</td>\n",
       "      <td>United States</td>\n",
       "      <td>47.529999</td>\n",
       "      <td>-122.302002</td>\n",
       "      <td>21</td>\n",
       "      <td>110.930397</td>\n",
       "      <td>0.751768</td>\n",
       "      <td>99.285196</td>\n",
       "    </tr>\n",
       "    <tr>\n",
       "      <th>6834</th>\n",
       "      <td>Kenmore Air</td>\n",
       "      <td>Friday Harbor Airport</td>\n",
       "      <td>Boeing Field King County International Airport</td>\n",
       "      <td>Friday Harbor</td>\n",
       "      <td>United States</td>\n",
       "      <td>48.521999</td>\n",
       "      <td>-123.024002</td>\n",
       "      <td>113</td>\n",
       "      <td>Seattle</td>\n",
       "      <td>United States</td>\n",
       "      <td>47.529999</td>\n",
       "      <td>-122.302002</td>\n",
       "      <td>21</td>\n",
       "      <td>122.677708</td>\n",
       "      <td>1.119010</td>\n",
       "      <td>19.599675</td>\n",
       "    </tr>\n",
       "    <tr>\n",
       "      <th>6835</th>\n",
       "      <td>Kenmore Air</td>\n",
       "      <td>Orcas Island Airport</td>\n",
       "      <td>Friday Harbor Airport</td>\n",
       "      <td>Eastsound</td>\n",
       "      <td>United States</td>\n",
       "      <td>48.708199</td>\n",
       "      <td>-122.910004</td>\n",
       "      <td>31</td>\n",
       "      <td>Friday Harbor</td>\n",
       "      <td>United States</td>\n",
       "      <td>48.521999</td>\n",
       "      <td>-123.024002</td>\n",
       "      <td>113</td>\n",
       "      <td>22.336108</td>\n",
       "      <td>0.561618</td>\n",
       "      <td>85.342779</td>\n",
       "    </tr>\n",
       "  </tbody>\n",
       "</table>\n",
       "<p>6836 rows × 16 columns</p>\n",
       "</div>"
      ],
      "text/plain": [
       "               Airline                                   SourceAirport  \\\n",
       "0     Pegasus Airlines             Sabiha Gökçen International Airport   \n",
       "1     Turkish Airlines                   Atatürk International Airport   \n",
       "2             Emirates                     Dubai International Airport   \n",
       "3       Etihad Airways                 Abu Dhabi International Airport   \n",
       "4           Air Arabia                   Sharjah International Airport   \n",
       "...                ...                                             ...   \n",
       "6831       Kenmore Air  Boeing Field King County International Airport   \n",
       "6832       Kenmore Air  Boeing Field King County International Airport   \n",
       "6833       Kenmore Air       William R Fairchild International Airport   \n",
       "6834       Kenmore Air                           Friday Harbor Airport   \n",
       "6835       Kenmore Air                            Orcas Island Airport   \n",
       "\n",
       "                                  DestinationAirport SourceAirport_City  \\\n",
       "0                Imam Khomeini International Airport           Istanbul   \n",
       "1                Imam Khomeini International Airport           Istanbul   \n",
       "2                Imam Khomeini International Airport              Dubai   \n",
       "3                Imam Khomeini International Airport          Abu Dhabi   \n",
       "4                Imam Khomeini International Airport            Sharjah   \n",
       "...                                              ...                ...   \n",
       "6831       William R Fairchild International Airport            Seattle   \n",
       "6832                            Orcas Island Airport            Seattle   \n",
       "6833  Boeing Field King County International Airport       Port Angeles   \n",
       "6834  Boeing Field King County International Airport      Friday Harbor   \n",
       "6835                           Friday Harbor Airport          Eastsound   \n",
       "\n",
       "     SourceAirport_Country  SourceAirport_Latitude  SourceAirport_Longitude  \\\n",
       "0                   Turkey               40.898602                29.309200   \n",
       "1                   Turkey               40.976898                28.814600   \n",
       "2     United Arab Emirates               25.252800                55.364399   \n",
       "3     United Arab Emirates               24.433001                54.651100   \n",
       "4     United Arab Emirates               25.328600                55.517200   \n",
       "...                    ...                     ...                      ...   \n",
       "6831         United States               47.529999              -122.302002   \n",
       "6832         United States               47.529999              -122.302002   \n",
       "6833         United States               48.120201              -123.500000   \n",
       "6834         United States               48.521999              -123.024002   \n",
       "6835         United States               48.708199              -122.910004   \n",
       "\n",
       "      SourceAirport_Altitude DestinationAirport_City  \\\n",
       "0                        312                  Tehran   \n",
       "1                        163                  Tehran   \n",
       "2                         62                  Tehran   \n",
       "3                         88                  Tehran   \n",
       "4                        111                  Tehran   \n",
       "...                      ...                     ...   \n",
       "6831                      21            Port Angeles   \n",
       "6832                      21               Eastsound   \n",
       "6833                     291                 Seattle   \n",
       "6834                     113                 Seattle   \n",
       "6835                      31           Friday Harbor   \n",
       "\n",
       "     DestinationAirport_Country  DestinationAirport_Latitude  \\\n",
       "0                          Iran                    35.416100   \n",
       "1                          Iran                    35.416100   \n",
       "2                          Iran                    35.416100   \n",
       "3                          Iran                    35.416100   \n",
       "4                          Iran                    35.416100   \n",
       "...                         ...                          ...   \n",
       "6831              United States                    48.120201   \n",
       "6832              United States                    48.708199   \n",
       "6833              United States                    47.529999   \n",
       "6834              United States                    47.529999   \n",
       "6835              United States                    48.521999   \n",
       "\n",
       "      DestinationAirport_Longitude  DestinationAirport_Altitude     Distance  \\\n",
       "0                        51.152199                         3305  1998.541333   \n",
       "1                        51.152199                         3305  2040.978811   \n",
       "2                        51.152199                         3305  1199.863567   \n",
       "3                        51.152199                         3305  1266.681453   \n",
       "4                        51.152199                         3305  1196.902147   \n",
       "...                            ...                          ...          ...   \n",
       "6831                   -123.500000                          291   110.930397   \n",
       "6832                   -122.910004                           31   138.564899   \n",
       "6833                   -122.302002                           21   110.930397   \n",
       "6834                   -122.302002                           21   122.677708   \n",
       "6835                   -123.024002                          113    22.336108   \n",
       "\n",
       "       FlyTime       Price  \n",
       "0     2.624833  271.489760  \n",
       "1     2.882362  300.589499  \n",
       "2     1.536046  210.215879  \n",
       "3     2.144199  175.864733  \n",
       "4     1.772627  174.332843  \n",
       "...        ...         ...  \n",
       "6831  0.161072   31.661891  \n",
       "6832  0.899144   26.201671  \n",
       "6833  0.751768   99.285196  \n",
       "6834  1.119010   19.599675  \n",
       "6835  0.561618   85.342779  \n",
       "\n",
       "[6836 rows x 16 columns]"
      ]
     },
     "execution_count": 41,
     "metadata": {},
     "output_type": "execute_result"
    }
   ],
   "source": [
    "df"
   ]
  },
  {
   "cell_type": "code",
   "execution_count": 42,
   "id": "030c18a1-96c0-438b-b5c6-fb0978f839ca",
   "metadata": {
    "pycharm": {
     "name": "#%%\n"
    }
   },
   "outputs": [
    {
     "data": {
      "text/plain": [
       "Airline                                       WestJet\n",
       "SourceAirport                   Şanlıurfa GAP Airport\n",
       "DestinationAirport              Şanlıurfa GAP Airport\n",
       "SourceAirport_City                              Çorlu\n",
       "SourceAirport_Country                   United States\n",
       "SourceAirport_Latitude                      76.426102\n",
       "SourceAirport_Longitude                       61.5439\n",
       "SourceAirport_Altitude                           7820\n",
       "DestinationAirport_City                         Çorlu\n",
       "DestinationAirport_Country              United States\n",
       "DestinationAirport_Latitude                 76.426102\n",
       "DestinationAirport_Longitude                  61.5439\n",
       "DestinationAirport_Altitude                      7820\n",
       "Distance                                 13400.077028\n",
       "FlyTime                                      17.53892\n",
       "Price                                     1397.172097\n",
       "dtype: object"
      ]
     },
     "execution_count": 42,
     "metadata": {},
     "output_type": "execute_result"
    }
   ],
   "source": [
    "df.max()"
   ]
  },
  {
   "cell_type": "code",
   "execution_count": 43,
   "id": "5492e792-b920-4824-a803-9cd07a0cd741",
   "metadata": {
    "pycharm": {
     "name": "#%%\n"
    }
   },
   "outputs": [
    {
     "data": {
      "text/plain": [
       "Airline                            40-Mile Air\n",
       "SourceAirport                   Abadan Airport\n",
       "DestinationAirport              Abadan Airport\n",
       "SourceAirport_City                      Abadan\n",
       "SourceAirport_Country                   Canada\n",
       "SourceAirport_Latitude               19.721399\n",
       "SourceAirport_Longitude            -176.645996\n",
       "SourceAirport_Altitude                     -70\n",
       "DestinationAirport_City                 Abadan\n",
       "DestinationAirport_Country              Canada\n",
       "DestinationAirport_Latitude          19.721399\n",
       "DestinationAirport_Longitude       -176.645996\n",
       "DestinationAirport_Altitude                -70\n",
       "Distance                              9.151537\n",
       "FlyTime                               0.042655\n",
       "Price                                 5.866997\n",
       "dtype: object"
      ]
     },
     "execution_count": 43,
     "metadata": {},
     "output_type": "execute_result"
    }
   ],
   "source": [
    "df.min()"
   ]
  },
  {
   "cell_type": "code",
   "execution_count": 44,
   "id": "ad9f4cda",
   "metadata": {
    "collapsed": false,
    "jupyter": {
     "outputs_hidden": false
    },
    "pycharm": {
     "name": "#%%\n"
    }
   },
   "outputs": [],
   "source": [
    "dict = df.to_dict()"
   ]
  },
  {
   "cell_type": "code",
   "execution_count": 45,
   "id": "c8f36273",
   "metadata": {
    "collapsed": false,
    "jupyter": {
     "outputs_hidden": false
    },
    "pycharm": {
     "name": "#%%\n"
    }
   },
   "outputs": [],
   "source": [
    "source_airport_dict = dict['SourceAirport']\n",
    "destination_airport_dict = dict['DestinationAirport']\n",
    "distance_dict = dict['Distance']\n",
    "SourceAirport_Latitude_dict = dict['SourceAirport_Latitude']\n",
    "SourceAirport_Altitude_dict = dict['SourceAirport_Altitude']\n",
    "SourceAirport_Longitude_dict = dict['SourceAirport_Longitude']\n",
    "DestinationAirport_Latitude_dict = dict['DestinationAirport_Latitude']\n",
    "DestinationAirport_Altitude_dict = dict['DestinationAirport_Altitude']\n",
    "DestinationAirport_Longitude_dict = dict['DestinationAirport_Longitude']\n",
    "FlyTime_dict = dict['FlyTime']\n",
    "Price_dict = dict['Price']"
   ]
  },
  {
   "cell_type": "code",
   "execution_count": 46,
   "id": "b9a7bd2a",
   "metadata": {
    "collapsed": false,
    "jupyter": {
     "outputs_hidden": false
    },
    "pycharm": {
     "name": "#%%\n"
    }
   },
   "outputs": [],
   "source": [
    "for i in source_airport_dict:\n",
    "    Geographical_map.add_edge(source_airport_dict[i], destination_airport_dict[i], weight=distance_dict[i])"
   ]
  },
  {
   "cell_type": "code",
   "execution_count": 47,
   "id": "79302dfe",
   "metadata": {
    "collapsed": false,
    "jupyter": {
     "outputs_hidden": false
    },
    "pycharm": {
     "name": "#%%\n"
    }
   },
   "outputs": [
    {
     "data": {
      "image/png": "[encoded data removed]",
      "text/plain": [
       "<Figure size 640x480 with 1 Axes>"
      ]
     },
     "metadata": {},
     "output_type": "display_data"
    }
   ],
   "source": [
    "nx.draw_networkx(Geographical_map)"
   ]
  },
  {
   "cell_type": "code",
   "execution_count": 48,
   "id": "650384a5",
   "metadata": {
    "collapsed": false,
    "jupyter": {
     "outputs_hidden": false
    },
    "pycharm": {
     "name": "#%%\n"
    }
   },
   "outputs": [],
   "source": [
    "source_airport_set = set(df['SourceAirport'])\n",
    "destination_airport_set = set(df['DestinationAirport'])"
   ]
  },
  {
   "cell_type": "code",
   "execution_count": 49,
   "id": "ec32547a",
   "metadata": {
    "collapsed": false,
    "jupyter": {
     "outputs_hidden": false
    },
    "pycharm": {
     "name": "#%%\n"
    }
   },
   "outputs": [],
   "source": [
    "destination_airport_set.update(source_airport_set)"
   ]
  },
  {
   "cell_type": "code",
   "execution_count": 50,
   "id": "a795d26e",
   "metadata": {
    "collapsed": false,
    "jupyter": {
     "outputs_hidden": false
    },
    "pycharm": {
     "name": "#%%\n"
    }
   },
   "outputs": [],
   "source": [
    "nodes = list(destination_airport_set)"
   ]
  },
  {
   "cell_type": "code",
   "execution_count": 51,
   "id": "67b640dc-5a17-46db-b08a-2a5a192ca071",
   "metadata": {
    "pycharm": {
     "name": "#%%\n"
    }
   },
   "outputs": [],
   "source": [
    "parameter = []"
   ]
  },
  {
   "cell_type": "code",
   "execution_count": 52,
   "id": "40ba2bea-b74b-4846-9cf2-51f9f7d9f94d",
   "metadata": {
    "pycharm": {
     "name": "#%%\n"
    }
   },
   "outputs": [],
   "source": [
    "min_items_list = list(df.min())\n",
    "max_items_list = list(df.max())"
   ]
  },
  {
   "cell_type": "code",
   "execution_count": 53,
   "id": "632b728d-ef52-432f-9991-2680e540ede3",
   "metadata": {
    "pycharm": {
     "name": "#%%\n"
    }
   },
   "outputs": [],
   "source": [
    "for i in range(len(distance_dict)):\n",
    "    distance_dict[i] = (distance_dict[i] - min_items_list[13]) / (max_items_list[13] - min_items_list[13])\n",
    "    SourceAirport_Latitude_dict[i] = (SourceAirport_Latitude_dict[i] - min_items_list[5]) / (max_items_list[5] - min_items_list[5])\n",
    "    SourceAirport_Altitude_dict[i] = (SourceAirport_Altitude_dict[i] - min_items_list[7]) / (max_items_list[7] - min_items_list[7])\n",
    "    SourceAirport_Longitude_dict[i] = (SourceAirport_Longitude_dict[i] - min_items_list[6]) / (max_items_list[6] - min_items_list[6])\n",
    "    DestinationAirport_Latitude_dict[i] = (DestinationAirport_Latitude_dict[i] - min_items_list[10]) / (max_items_list[10] - min_items_list[10])\n",
    "    DestinationAirport_Altitude_dict[i] = (DestinationAirport_Altitude_dict[i] - min_items_list[12]) / (max_items_list[12] - min_items_list[12])\n",
    "    DestinationAirport_Longitude_dict[i] = (DestinationAirport_Longitude_dict[i] - min_items_list[11]) / (max_items_list[11] - min_items_list[11])\n",
    "    FlyTime_dict[i] = (FlyTime_dict[i] - min_items_list[14]) / (max_items_list[14] - min_items_list[14])\n",
    "    Price_dict[i] = (Price_dict[i] - min_items_list[15]) / (max_items_list[15] - min_items_list[15])    "
   ]
  },
  {
   "cell_type": "code",
   "execution_count": 54,
   "id": "e7bc83a6-05c9-4583-bb03-23273e1d8f54",
   "metadata": {
    "pycharm": {
     "name": "#%%\n"
    }
   },
   "outputs": [],
   "source": [
    "for i in DestinationAirport_Longitude_dict:\n",
    "    golabi = math.sqrt((math.pow(DestinationAirport_Latitude_dict[i] - SourceAirport_Latitude_dict[i], 2)) + \n",
    "    (math.pow(DestinationAirport_Altitude_dict[i] - SourceAirport_Altitude_dict[i], 2)) +\n",
    "    (math.pow(DestinationAirport_Longitude_dict[i] - SourceAirport_Longitude_dict[i], 2)))\n",
    "\n",
    "    parameter.append(golabi + FlyTime_dict[i] + Price_dict[i] + distance_dict[i])"
   ]
  },
  {
   "cell_type": "code",
   "execution_count": 55,
   "id": "9b41a9d7",
   "metadata": {
    "collapsed": false,
    "jupyter": {
     "outputs_hidden": false
    },
    "pycharm": {
     "name": "#%%\n"
    }
   },
   "outputs": [],
   "source": [
    "class Graph(object):\n",
    "    def __init__(self, nodes, init_graph):\n",
    "        self.nodes = nodes\n",
    "        self.graph = init_graph\n",
    "        \n",
    "    \n",
    "    def get_nodes(self):\n",
    "        \"Returns the nodes of the graph.\"\n",
    "        return self.nodes\n",
    "    \n",
    "    def get_outgoing_edges(self, node):\n",
    "        \"Returns the neighbors of a node.\"\n",
    "        connections = []\n",
    "        for out_node in self.nodes:\n",
    "            if self.graph[node].get(out_node, False) != False:\n",
    "                connections.append(out_node)\n",
    "        return connections\n",
    "    \n",
    "    def value(self, node1, node2):\n",
    "        \"Returns the value of an edge between two nodes.\"\n",
    "        return self.graph[node1][node2]"
   ]
  },
  {
   "cell_type": "code",
   "execution_count": 56,
   "id": "4840f09a",
   "metadata": {
    "collapsed": false,
    "jupyter": {
     "outputs_hidden": false
    },
    "pycharm": {
     "name": "#%%\n"
    }
   },
   "outputs": [],
   "source": [
    "init_graph = {}\n",
    "for node in nodes:\n",
    "    init_graph[node] = {}\n",
    "\n",
    "for i in source_airport_dict:\n",
    "    init_graph[source_airport_dict[i]][destination_airport_dict[i]] = parameter[i]"
   ]
  },
  {
   "cell_type": "code",
   "execution_count": 57,
   "id": "c80682af",
   "metadata": {
    "collapsed": false,
    "jupyter": {
     "outputs_hidden": false
    },
    "pycharm": {
     "name": "#%%\n"
    }
   },
   "outputs": [],
   "source": [
    "def dijkstra_algorithm(graph, start_node):\n",
    "    unvisited_nodes = list(graph.get_nodes())\n",
    "   \n",
    "    shortest_path = {}\n",
    "    \n",
    "    previous_nodes = {}\n",
    "    \n",
    "    max_value = sys.maxsize\n",
    "    for node in unvisited_nodes:\n",
    "        shortest_path[node] = max_value  \n",
    "    shortest_path[start_node] = 0\n",
    "    \n",
    "    while unvisited_nodes:\n",
    "        current_min_node = None\n",
    "        for node in unvisited_nodes:\n",
    "            if current_min_node == None:\n",
    "                current_min_node = node\n",
    "            elif shortest_path[node] < shortest_path[current_min_node]:\n",
    "                current_min_node = node\n",
    "                \n",
    "        neighbors = graph.get_outgoing_edges(current_min_node)\n",
    "        for neighbor in neighbors:\n",
    "            tentative_value = shortest_path[current_min_node] + graph.value(current_min_node, neighbor)\n",
    "            if tentative_value < shortest_path[neighbor]:\n",
    "                shortest_path[neighbor] = tentative_value\n",
    "                previous_nodes[neighbor] = current_min_node\n",
    " \n",
    "        unvisited_nodes.remove(current_min_node)\n",
    "    \n",
    "    return previous_nodes, shortest_path"
   ]
  },
  {
   "cell_type": "code",
   "execution_count": 58,
   "id": "3e5d44a1",
   "metadata": {
    "collapsed": false,
    "jupyter": {
     "outputs_hidden": false
    },
    "pycharm": {
     "name": "#%%\n"
    }
   },
   "outputs": [],
   "source": [
    "def print_result(previous_nodes, shortest_path, start_node, target_node):\n",
    "    path = []\n",
    "    node = target_node\n",
    "    \n",
    "    while node != start_node:\n",
    "        path.append(node)\n",
    "        node = previous_nodes[node]\n",
    " \n",
    "    path.append(start_node)\n",
    "    \n",
    "    print(\"We found the following best path with a value of {}.\".format(shortest_path[target_node]))\n",
    "    print(\" -> \".join(reversed(path)))"
   ]
  },
  {
   "cell_type": "code",
   "execution_count": 59,
   "id": "5ed83983",
   "metadata": {
    "collapsed": false,
    "jupyter": {
     "outputs_hidden": false
    },
    "pycharm": {
     "name": "#%%\n"
    }
   },
   "outputs": [
    {
     "name": "stdout",
     "output_type": "stream",
     "text": [
      "We found the following best path with a value of 4.033416851486795.\n",
      "Los Angeles International Airport -> Atatürk International Airport -> Imam Khomeini International Airport\n"
     ]
    }
   ],
   "source": [
    "graph = Graph(nodes, init_graph)\n",
    "previous_nodes, shortest_path = dijkstra_algorithm(graph=graph, start_node=\"Los Angeles International Airport\")\n",
    "print_result(previous_nodes, shortest_path, start_node=\"Los Angeles International Airport\", target_node=\"Imam Khomeini International Airport\")"
   ]
  },
  {
   "cell_type": "code",
   "execution_count": 60,
   "id": "ca5a6409",
   "metadata": {
    "collapsed": false,
    "jupyter": {
     "outputs_hidden": false
    },
    "pycharm": {
     "name": "#%%\n"
    }
   },
   "outputs": [],
   "source": [
    "golabi = math.sqrt((math.pow(DestinationAirport_Latitude_dict[i] - SourceAirport_Latitude_dict[i], 2)) + \n",
    "    (math.pow(DestinationAirport_Altitude_dict[i] - SourceAirport_Altitude_dict[i], 2)) +\n",
    "    (math.pow(DestinationAirport_Longitude_dict[i] - SourceAirport_Longitude_dict[i], 2)))"
   ]
  },
  {
   "cell_type": "code",
   "execution_count": 61,
   "id": "e00b4cee",
   "metadata": {
    "collapsed": false,
    "jupyter": {
     "outputs_hidden": false
    },
    "pycharm": {
     "name": "#%%\n"
    }
   },
   "outputs": [],
   "source": [
    "def h(src, des_latitude, des_longitude):\n",
    "\n",
    "    df2 = df[df['SourceAirport'] == src]\n",
    "    src_lat_list = list(set(df2['SourceAirport_Latitude']))\n",
    "    src_long_list = list(set(df2['SourceAirport_Longitude']))\n",
    "    \n",
    "    radian = math.pi / 180\n",
    "    radius = 6371\n",
    "    golabi = math.acos(math.sin(des_latitude * radian) * (math.sin(src_lat_list[0] * radian)) + (math.cos(des_latitude * radian)) * (math.cos(src_lat_list[0] * radian)) * (math.cos((des_longitude * radian) - (src_long_list[0] * radian)))) * radius \n",
    "                    \n",
    "    return golabi\n",
    "    \n",
    "def a_star_algorithm(src, des):\n",
    "    \n",
    "    open_lst = set([src])\n",
    "    closed_lst = set([])\n",
    "    \n",
    "    g = {}\n",
    "    g[src] = 0\n",
    " \n",
    "    parent = {}\n",
    "    parent[src] = src\n",
    "\n",
    "    df3 = df[df['DestinationAirport'] == des]\n",
    "    des_lat_list = list(set(df3['DestinationAirport_Latitude']))\n",
    "    des_long_list = list(set(df3['DestinationAirport_Longitude']))\n",
    "    \n",
    "    while len(open_lst) > 0:\n",
    "        n = None\n",
    "     \n",
    "        for v in open_lst:\n",
    "            df2 = df[df['SourceAirport'] == v]\n",
    "            src_lat_list = list(set(df2['SourceAirport_Latitude']))\n",
    "            src_long_list = list(set(df2['SourceAirport_Longitude']))\n",
    "            \n",
    "            if n == None or g[v] + h(v, des_lat_list[0], des_long_list[0]) < g[n] + h(n, des_lat_list[0], des_long_list[0]):\n",
    "                n = v;\n",
    "        if n == None:\n",
    "            print('Path does not exist!')\n",
    "            return None\n",
    "        if n == des:\n",
    "            path = []\n",
    " \n",
    "            while parent[n] != n:\n",
    "                path.append(n)\n",
    "                n = parent[n]\n",
    " \n",
    "            path.append(src)\n",
    "            path.reverse()\n",
    " \n",
    "            print('Path found: {}'.format(path))\n",
    "            return path\n",
    " \n",
    "        for (m, weight) in init_graph[n].items():\n",
    "            if m not in open_lst and m not in closed_lst:\n",
    "                open_lst.add(m)\n",
    "                parent[m] = n\n",
    "                g[m] = g[n] + weight\n",
    "            else:\n",
    "                if g[m] > g[n] + weight:\n",
    "                    g[m] = g[n] + weight\n",
    "                    parent[m] = n\n",
    " \n",
    "                    if m in closed_lst:\n",
    "                        closed_lst.remove(m)\n",
    "                        open_lst.add(m)\n",
    "        open_lst.remove(n)\n",
    "        closed_lst.add(n)\n",
    " \n",
    "    print('Path does not exist!')\n",
    "    return None"
   ]
  },
  {
   "cell_type": "code",
   "execution_count": 62,
   "id": "8dd61c0e",
   "metadata": {
    "collapsed": false,
    "jupyter": {
     "outputs_hidden": false
    },
    "pycharm": {
     "name": "#%%\n"
    }
   },
   "outputs": [
    {
     "name": "stdout",
     "output_type": "stream",
     "text": [
      "Path found: ['Los Angeles International Airport', 'Dubai International Airport', 'Imam Khomeini International Airport']\n"
     ]
    }
   ],
   "source": [
    "start = time.time()\n",
    "a = a_star_algorithm(\"Los Angeles International Airport\", \"Imam Khomeini International Airport\")\n",
    "end = time.time()"
   ]
  },
  {
   "cell_type": "code",
   "execution_count": 63,
   "id": "86cf176b-6439-43f5-9fa2-bac4819db924",
   "metadata": {},
   "outputs": [],
   "source": [
    "time = int((end - start)* 1000)"
   ]
  },
  {
   "cell_type": "code",
   "execution_count": 71,
   "id": "6f1e527a-9f40-49e0-ac2c-0cd42033aab8",
   "metadata": {},
   "outputs": [
    {
     "name": "stdout",
     "output_type": "stream",
     "text": [
      "\n",
      "A* Algorithm \n",
      "Execution Time: 242ms \n",
      ".-.-.-.-.-.-.-.-.-.-.-.-.-.-.-.-.-.-.-.-.-.-.-.- \n",
      "Flight #1 (Emirates): \n",
      "From: Los Angeles International Airport - Los Angeles, United States \n",
      "To: Dubai International Airport - Dubai, United Arab Emirates \n",
      "Duration: 13400.07702805104km \n",
      "Time: 17.187512155169355h \n",
      "Price: 1381.6404695519184$ \n",
      "---------------------------- \n",
      "Flight #2 (Emirates): \n",
      "From: Dubai International Airport - Dubai, United Arab Emirates \n",
      "To: Imam Khomeini International Airport - Tehran, Iran \n",
      "Duration: 1199.863567129553km \n",
      "Time: 1.536045791622942h \n",
      "Price: 210.21587863153516$ \n",
      "---------------------------- \n",
      "Total Price: []$ \n",
      "Total Duration: []km \n",
      "Total Time: []h \n",
      "A* Algorithm \n",
      "Execution Time: 242ms \n",
      ".-.-.-.-.-.-.-.-.-.-.-.-.-.-.-.-.-.-.-.-.-.-.-.- \n",
      "Flight #1 (Emirates): \n",
      "From: Los Angeles International Airport - Los Angeles, United States \n",
      "To: Dubai International Airport - Dubai, United Arab Emirates \n",
      "Duration: 13400.07702805104km \n",
      "Time: 17.187512155169355h \n",
      "Price: 1381.6404695519184$ \n",
      "---------------------------- \n",
      "Flight #2 (Emirates): \n",
      "From: Dubai International Airport - Dubai, United Arab Emirates \n",
      "To: Imam Khomeini International Airport - Tehran, Iran \n",
      "Duration: 1199.863567129553km \n",
      "Time: 1.536045791622942h \n",
      "Price: 210.21587863153516$ \n",
      "---------------------------- \n",
      "Total Price: []$ \n",
      "Total Duration: []km \n",
      "Total Time: []h \n",
      "\n"
     ]
    }
   ],
   "source": [
    "f = open(\"a_star.txt\", 'a')\n",
    "total_time = 0 \n",
    "total_price = 0\n",
    "total_duration = 0\n",
    "f.write(f\"A* Algorithm \\n\")\n",
    "f.write(f\"Execution Time: {time}ms \\n\")\n",
    "f.write(\".-.-.-.-.-.-.-.-.-.-.-.-.-.-.-.-.-.-.-.-.-.-.-.- \\n\")\n",
    "for i in range(len(a)-1):\n",
    "    df6 = df[(df['SourceAirport'] == a[i]) & (df['DestinationAirport'] == a[i+1])]\n",
    "    f.write(f\"Flight #{i+1} ({df6.iloc[0]['Airline']}): \\n\")\n",
    "    f.write(f\"From: {df6.iloc[0]['SourceAirport']} - {df6.iloc[0]['SourceAirport_City']}, {df6.iloc[0]['SourceAirport_Country']} \\n\")\n",
    "    f.write(f\"To: {df6.iloc[0]['DestinationAirport']} - {df6.iloc[0]['DestinationAirport_City']}, {df6.iloc[0]['DestinationAirport_Country']} \\n\")\n",
    "    f.write(f\"Duration: {df6.iloc[0]['Distance']}km \\n\")\n",
    "    total_duration += df6.iloc[0]['Distance']\n",
    "    f.write(f\"Time: {df6.iloc[0]['FlyTime']}h \\n\")\n",
    "    total_time += df6.iloc[0]['FlyTime']\n",
    "    f.write(f\"Price: {df6.iloc[0]['Price']}$ \\n\")\n",
    "    total_price += df6.iloc[0]['Price']\n",
    "    f.write(\"---------------------------- \\n\")\n",
    "\n",
    "    \n",
    "f.write(f\"Total Price: {total_price}$ \\n\")\n",
    "f.write(f\"Total Duration: {total_duration}km \\n\")\n",
    "f.write(f\"Total Time: {total_time}h \\n\")    \n",
    "f.close()\n",
    "\n",
    "f = open(\"a_star.txt\", \"r\")\n",
    "print(f.read())"
   ]
  },
  {
   "cell_type": "code",
   "execution_count": 65,
   "id": "4be4466f-b208-4e7a-b400-3c755f09c670",
   "metadata": {},
   "outputs": [
    {
     "data": {
      "text/plain": [
       "['Los Angeles International Airport',\n",
       " 'Dubai International Airport',\n",
       " 'Imam Khomeini International Airport']"
      ]
     },
     "execution_count": 65,
     "metadata": {},
     "output_type": "execute_result"
    }
   ],
   "source": [
    "a"
   ]
  },
  {
   "cell_type": "code",
   "execution_count": 66,
   "id": "db3c6c7c-79b4-4d62-ad4d-d1001ad7e608",
   "metadata": {},
   "outputs": [
    {
     "data": {
      "text/html": [
       "<div>\n",
       "<style scoped>\n",
       "    .dataframe tbody tr th:only-of-type {\n",
       "        vertical-align: middle;\n",
       "    }\n",
       "\n",
       "    .dataframe tbody tr th {\n",
       "        vertical-align: top;\n",
       "    }\n",
       "\n",
       "    .dataframe thead th {\n",
       "        text-align: right;\n",
       "    }\n",
       "</style>\n",
       "<table border=\"1\" class=\"dataframe\">\n",
       "  <thead>\n",
       "    <tr style=\"text-align: right;\">\n",
       "      <th></th>\n",
       "      <th>Airline</th>\n",
       "      <th>SourceAirport</th>\n",
       "      <th>DestinationAirport</th>\n",
       "      <th>SourceAirport_City</th>\n",
       "      <th>SourceAirport_Country</th>\n",
       "      <th>SourceAirport_Latitude</th>\n",
       "      <th>SourceAirport_Longitude</th>\n",
       "      <th>SourceAirport_Altitude</th>\n",
       "      <th>DestinationAirport_City</th>\n",
       "      <th>DestinationAirport_Country</th>\n",
       "      <th>DestinationAirport_Latitude</th>\n",
       "      <th>DestinationAirport_Longitude</th>\n",
       "      <th>DestinationAirport_Altitude</th>\n",
       "      <th>Distance</th>\n",
       "      <th>FlyTime</th>\n",
       "      <th>Price</th>\n",
       "    </tr>\n",
       "  </thead>\n",
       "  <tbody>\n",
       "    <tr>\n",
       "      <th>139</th>\n",
       "      <td>Emirates</td>\n",
       "      <td>Los Angeles International Airport</td>\n",
       "      <td>Dubai International Airport</td>\n",
       "      <td>Los Angeles</td>\n",
       "      <td>United States</td>\n",
       "      <td>33.942501</td>\n",
       "      <td>-118.407997</td>\n",
       "      <td>125</td>\n",
       "      <td>Dubai</td>\n",
       "      <td>United Arab Emirates</td>\n",
       "      <td>25.2528</td>\n",
       "      <td>55.364399</td>\n",
       "      <td>62</td>\n",
       "      <td>13400.077028</td>\n",
       "      <td>17.187512</td>\n",
       "      <td>1381.64047</td>\n",
       "    </tr>\n",
       "  </tbody>\n",
       "</table>\n",
       "</div>"
      ],
      "text/plain": [
       "      Airline                      SourceAirport           DestinationAirport  \\\n",
       "139  Emirates  Los Angeles International Airport  Dubai International Airport   \n",
       "\n",
       "    SourceAirport_City SourceAirport_Country  SourceAirport_Latitude  \\\n",
       "139        Los Angeles         United States               33.942501   \n",
       "\n",
       "     SourceAirport_Longitude  SourceAirport_Altitude DestinationAirport_City  \\\n",
       "139              -118.407997                     125                   Dubai   \n",
       "\n",
       "    DestinationAirport_Country  DestinationAirport_Latitude  \\\n",
       "139       United Arab Emirates                      25.2528   \n",
       "\n",
       "     DestinationAirport_Longitude  DestinationAirport_Altitude      Distance  \\\n",
       "139                     55.364399                           62  13400.077028   \n",
       "\n",
       "       FlyTime       Price  \n",
       "139  17.187512  1381.64047  "
      ]
     },
     "execution_count": 66,
     "metadata": {},
     "output_type": "execute_result"
    }
   ],
   "source": [
    "df6 = df[(df['SourceAirport'] == 'Los Angeles International Airport') & (df['DestinationAirport'] == 'Dubai International Airport')]\n",
    "df6"
   ]
  },
  {
   "cell_type": "code",
   "execution_count": 67,
   "id": "9b763ca0-d4e8-417e-8292-aa07a94df6fe",
   "metadata": {},
   "outputs": [
    {
     "name": "stdout",
     "output_type": "stream",
     "text": [
      "Los Angeles International Airport Dubai International Airport\n",
      "Dubai International Airport Imam Khomeini International Airport\n"
     ]
    }
   ],
   "source": [
    "for i in range(len(a)-1):\n",
    "    print(a[i] , a[i+1])"
   ]
  },
  {
   "cell_type": "code",
   "execution_count": 74,
   "id": "c0b22c21-54de-4688-8f84-ca699a507270",
   "metadata": {},
   "outputs": [
    {
     "data": {
      "text/plain": [
       "1"
      ]
     },
     "execution_count": 74,
     "metadata": {},
     "output_type": "execute_result"
    }
   ],
   "source": [
    "roya=0\n",
    "roya+=1\n",
    "roya"
   ]
  },
  {
   "cell_type": "code",
   "execution_count": 68,
   "id": "657f0e9e-a82e-40be-8007-8eaa5cf30248",
   "metadata": {},
   "outputs": [
    {
     "data": {
      "text/plain": [
       "'Emirates'"
      ]
     },
     "execution_count": 68,
     "metadata": {},
     "output_type": "execute_result"
    }
   ],
   "source": [
    "df6.iloc[0]['Airline']"
   ]
  },
  {
   "cell_type": "code",
   "execution_count": null,
   "id": "c5c398e7-274f-4207-a06b-10197890135f",
   "metadata": {},
   "outputs": [],
   "source": []
  },
  {
   "cell_type": "code",
   "execution_count": null,
   "id": "6bca88e8-b631-4700-af02-986482367438",
   "metadata": {},
   "outputs": [],
   "source": []
  }
 ],
 "metadata": {
  "kernelspec": {
   "display_name": "Python 3 (ipykernel)",
   "language": "python",
   "name": "python3"
  },
  "language_info": {
   "codemirror_mode": {
    "name": "ipython",
    "version": 3
   },
   "file_extension": ".py",
   "mimetype": "text/x-python",
   "name": "python",
   "nbconvert_exporter": "python",
   "pygments_lexer": "ipython3",
   "version": "3.11.5"
  }
 },
 "nbformat": 4,
 "nbformat_minor": 5
}
