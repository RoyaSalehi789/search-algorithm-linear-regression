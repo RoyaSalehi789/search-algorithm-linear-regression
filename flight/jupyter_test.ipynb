{
 "cells": [
  {
   "cell_type": "code",
   "execution_count": 1,
   "id": "453db576-0a09-4781-bfaf-b0871d2a0f6e",
   "metadata": {
    "pycharm": {
     "is_executing": true,
     "name": "#%%\n"
    }
   },
   "outputs": [],
   "source": [
    "import pandas as pd\n",
    "import networkx as nx\n",
    "import matplotlib.pyplot as plt"
   ]
  },
  {
   "cell_type": "code",
   "execution_count": 2,
   "id": "7e7360ec-df30-4916-bfd2-ccae23549b51",
   "metadata": {
    "pycharm": {
     "name": "#%%\n"
    }
   },
   "outputs": [],
   "source": [
    "df = pd.read_csv('Flight_Data.csv')"
   ]
  },
  {
   "cell_type": "code",
   "execution_count": 3,
   "id": "ab8dc3c8-32bd-4a59-a644-8349c6d18779",
   "metadata": {
    "pycharm": {
     "name": "#%%\n"
    }
   },
   "outputs": [],
   "source": [
    "Geographical_map = nx.Graph()"
   ]
  },
  {
   "cell_type": "code",
   "execution_count": 4,
   "id": "b009cdc8-a28c-45b1-85f5-9eddc4b9afd3",
   "metadata": {
    "pycharm": {
     "name": "#%%\n"
    }
   },
   "outputs": [],
   "source": [
    "df2 = df.head(20)"
   ]
  },
  {
   "cell_type": "code",
   "execution_count": 5,
   "id": "ebb876a0-ea67-4285-9082-d14fe0bc8011",
   "metadata": {
    "pycharm": {
     "name": "#%%\n"
    }
   },
   "outputs": [
    {
     "data": {
      "text/html": [
       "<div>\n",
       "<style scoped>\n",
       "    .dataframe tbody tr th:only-of-type {\n",
       "        vertical-align: middle;\n",
       "    }\n",
       "\n",
       "    .dataframe tbody tr th {\n",
       "        vertical-align: top;\n",
       "    }\n",
       "\n",
       "    .dataframe thead th {\n",
       "        text-align: right;\n",
       "    }\n",
       "</style>\n",
       "<table border=\"1\" class=\"dataframe\">\n",
       "  <thead>\n",
       "    <tr style=\"text-align: right;\">\n",
       "      <th></th>\n",
       "      <th>Airline</th>\n",
       "      <th>SourceAirport</th>\n",
       "      <th>DestinationAirport</th>\n",
       "      <th>SourceAirport_City</th>\n",
       "      <th>SourceAirport_Country</th>\n",
       "      <th>SourceAirport_Latitude</th>\n",
       "      <th>SourceAirport_Longitude</th>\n",
       "      <th>SourceAirport_Altitude</th>\n",
       "      <th>DestinationAirport_City</th>\n",
       "      <th>DestinationAirport_Country</th>\n",
       "      <th>DestinationAirport_Latitude</th>\n",
       "      <th>DestinationAirport_Longitude</th>\n",
       "      <th>DestinationAirport_Altitude</th>\n",
       "      <th>Distance</th>\n",
       "      <th>FlyTime</th>\n",
       "      <th>Price</th>\n",
       "    </tr>\n",
       "  </thead>\n",
       "  <tbody>\n",
       "    <tr>\n",
       "      <th>0</th>\n",
       "      <td>Pegasus Airlines</td>\n",
       "      <td>Sabiha Gökçen International Airport</td>\n",
       "      <td>Imam Khomeini International Airport</td>\n",
       "      <td>Istanbul</td>\n",
       "      <td>Turkey</td>\n",
       "      <td>40.898602</td>\n",
       "      <td>29.309200</td>\n",
       "      <td>312</td>\n",
       "      <td>Tehran</td>\n",
       "      <td>Iran</td>\n",
       "      <td>35.416100</td>\n",
       "      <td>51.152199</td>\n",
       "      <td>3305</td>\n",
       "      <td>1998.541333</td>\n",
       "      <td>2.982660</td>\n",
       "      <td>969.270667</td>\n",
       "    </tr>\n",
       "    <tr>\n",
       "      <th>1</th>\n",
       "      <td>Turkish Airlines</td>\n",
       "      <td>Sabiha Gökçen International Airport</td>\n",
       "      <td>Imam Khomeini International Airport</td>\n",
       "      <td>Istanbul</td>\n",
       "      <td>Turkey</td>\n",
       "      <td>40.898602</td>\n",
       "      <td>29.309200</td>\n",
       "      <td>312</td>\n",
       "      <td>Tehran</td>\n",
       "      <td>Iran</td>\n",
       "      <td>35.416100</td>\n",
       "      <td>51.152199</td>\n",
       "      <td>3305</td>\n",
       "      <td>1998.541333</td>\n",
       "      <td>2.982660</td>\n",
       "      <td>969.270667</td>\n",
       "    </tr>\n",
       "    <tr>\n",
       "      <th>2</th>\n",
       "      <td>Turkish Airlines</td>\n",
       "      <td>Atatürk International Airport</td>\n",
       "      <td>Imam Khomeini International Airport</td>\n",
       "      <td>Istanbul</td>\n",
       "      <td>Turkey</td>\n",
       "      <td>40.976898</td>\n",
       "      <td>28.814600</td>\n",
       "      <td>163</td>\n",
       "      <td>Tehran</td>\n",
       "      <td>Iran</td>\n",
       "      <td>35.416100</td>\n",
       "      <td>51.152199</td>\n",
       "      <td>3305</td>\n",
       "      <td>2040.978811</td>\n",
       "      <td>3.035377</td>\n",
       "      <td>990.489405</td>\n",
       "    </tr>\n",
       "    <tr>\n",
       "      <th>3</th>\n",
       "      <td>Emirates</td>\n",
       "      <td>Dubai International Airport</td>\n",
       "      <td>Imam Khomeini International Airport</td>\n",
       "      <td>Dubai</td>\n",
       "      <td>United Arab Emirates</td>\n",
       "      <td>25.252800</td>\n",
       "      <td>55.364399</td>\n",
       "      <td>62</td>\n",
       "      <td>Tehran</td>\n",
       "      <td>Iran</td>\n",
       "      <td>35.416100</td>\n",
       "      <td>51.152199</td>\n",
       "      <td>3305</td>\n",
       "      <td>1199.863567</td>\n",
       "      <td>1.990514</td>\n",
       "      <td>569.931784</td>\n",
       "    </tr>\n",
       "    <tr>\n",
       "      <th>4</th>\n",
       "      <td>Etihad Airways</td>\n",
       "      <td>Abu Dhabi International Airport</td>\n",
       "      <td>Imam Khomeini International Airport</td>\n",
       "      <td>Abu Dhabi</td>\n",
       "      <td>United Arab Emirates</td>\n",
       "      <td>24.433001</td>\n",
       "      <td>54.651100</td>\n",
       "      <td>88</td>\n",
       "      <td>Tehran</td>\n",
       "      <td>Iran</td>\n",
       "      <td>35.416100</td>\n",
       "      <td>51.152199</td>\n",
       "      <td>3305</td>\n",
       "      <td>1266.681453</td>\n",
       "      <td>2.073517</td>\n",
       "      <td>603.340726</td>\n",
       "    </tr>\n",
       "    <tr>\n",
       "      <th>5</th>\n",
       "      <td>Air Arabia</td>\n",
       "      <td>Sharjah International Airport</td>\n",
       "      <td>Imam Khomeini International Airport</td>\n",
       "      <td>Sharjah</td>\n",
       "      <td>United Arab Emirates</td>\n",
       "      <td>25.328600</td>\n",
       "      <td>55.517200</td>\n",
       "      <td>111</td>\n",
       "      <td>Tehran</td>\n",
       "      <td>Iran</td>\n",
       "      <td>35.416100</td>\n",
       "      <td>51.152199</td>\n",
       "      <td>3305</td>\n",
       "      <td>1196.902147</td>\n",
       "      <td>1.986835</td>\n",
       "      <td>568.451073</td>\n",
       "    </tr>\n",
       "    <tr>\n",
       "      <th>6</th>\n",
       "      <td>Qatar Airways</td>\n",
       "      <td>Hamad International Airport</td>\n",
       "      <td>Imam Khomeini International Airport</td>\n",
       "      <td>Doha</td>\n",
       "      <td>Qatar</td>\n",
       "      <td>25.273056</td>\n",
       "      <td>51.608056</td>\n",
       "      <td>13</td>\n",
       "      <td>Tehran</td>\n",
       "      <td>Iran</td>\n",
       "      <td>35.416100</td>\n",
       "      <td>51.152199</td>\n",
       "      <td>3305</td>\n",
       "      <td>1128.698504</td>\n",
       "      <td>1.902110</td>\n",
       "      <td>534.349252</td>\n",
       "    </tr>\n",
       "    <tr>\n",
       "      <th>7</th>\n",
       "      <td>Iran Air</td>\n",
       "      <td>Dubai International Airport</td>\n",
       "      <td>Imam Khomeini International Airport</td>\n",
       "      <td>Dubai</td>\n",
       "      <td>United Arab Emirates</td>\n",
       "      <td>25.252800</td>\n",
       "      <td>55.364399</td>\n",
       "      <td>62</td>\n",
       "      <td>Tehran</td>\n",
       "      <td>Iran</td>\n",
       "      <td>35.416100</td>\n",
       "      <td>51.152199</td>\n",
       "      <td>3305</td>\n",
       "      <td>1199.863567</td>\n",
       "      <td>1.990514</td>\n",
       "      <td>569.931784</td>\n",
       "    </tr>\n",
       "    <tr>\n",
       "      <th>8</th>\n",
       "      <td>Iran Air</td>\n",
       "      <td>Atatürk International Airport</td>\n",
       "      <td>Imam Khomeini International Airport</td>\n",
       "      <td>Istanbul</td>\n",
       "      <td>Turkey</td>\n",
       "      <td>40.976898</td>\n",
       "      <td>28.814600</td>\n",
       "      <td>163</td>\n",
       "      <td>Tehran</td>\n",
       "      <td>Iran</td>\n",
       "      <td>35.416100</td>\n",
       "      <td>51.152199</td>\n",
       "      <td>3305</td>\n",
       "      <td>2040.978811</td>\n",
       "      <td>3.035377</td>\n",
       "      <td>990.489405</td>\n",
       "    </tr>\n",
       "    <tr>\n",
       "      <th>9</th>\n",
       "      <td>Iran Air</td>\n",
       "      <td>Esenboğa International Airport</td>\n",
       "      <td>Imam Khomeini International Airport</td>\n",
       "      <td>Ankara</td>\n",
       "      <td>Turkey</td>\n",
       "      <td>40.128101</td>\n",
       "      <td>32.995098</td>\n",
       "      <td>3125</td>\n",
       "      <td>Tehran</td>\n",
       "      <td>Iran</td>\n",
       "      <td>35.416100</td>\n",
       "      <td>51.152199</td>\n",
       "      <td>3305</td>\n",
       "      <td>1676.121317</td>\n",
       "      <td>2.582138</td>\n",
       "      <td>808.060659</td>\n",
       "    </tr>\n",
       "    <tr>\n",
       "      <th>10</th>\n",
       "      <td>Atlasjet</td>\n",
       "      <td>Atatürk International Airport</td>\n",
       "      <td>Imam Khomeini International Airport</td>\n",
       "      <td>Istanbul</td>\n",
       "      <td>Turkey</td>\n",
       "      <td>40.976898</td>\n",
       "      <td>28.814600</td>\n",
       "      <td>163</td>\n",
       "      <td>Tehran</td>\n",
       "      <td>Iran</td>\n",
       "      <td>35.416100</td>\n",
       "      <td>51.152199</td>\n",
       "      <td>3305</td>\n",
       "      <td>2040.978811</td>\n",
       "      <td>3.035377</td>\n",
       "      <td>990.489405</td>\n",
       "    </tr>\n",
       "    <tr>\n",
       "      <th>11</th>\n",
       "      <td>Iran Aseman Airlines</td>\n",
       "      <td>Dubai International Airport</td>\n",
       "      <td>Imam Khomeini International Airport</td>\n",
       "      <td>Dubai</td>\n",
       "      <td>United Arab Emirates</td>\n",
       "      <td>25.252800</td>\n",
       "      <td>55.364399</td>\n",
       "      <td>62</td>\n",
       "      <td>Tehran</td>\n",
       "      <td>Iran</td>\n",
       "      <td>35.416100</td>\n",
       "      <td>51.152199</td>\n",
       "      <td>3305</td>\n",
       "      <td>1199.863567</td>\n",
       "      <td>1.990514</td>\n",
       "      <td>569.931784</td>\n",
       "    </tr>\n",
       "    <tr>\n",
       "      <th>12</th>\n",
       "      <td>Iran Aseman Airlines</td>\n",
       "      <td>Atatürk International Airport</td>\n",
       "      <td>Imam Khomeini International Airport</td>\n",
       "      <td>Istanbul</td>\n",
       "      <td>Turkey</td>\n",
       "      <td>40.976898</td>\n",
       "      <td>28.814600</td>\n",
       "      <td>163</td>\n",
       "      <td>Tehran</td>\n",
       "      <td>Iran</td>\n",
       "      <td>35.416100</td>\n",
       "      <td>51.152199</td>\n",
       "      <td>3305</td>\n",
       "      <td>2040.978811</td>\n",
       "      <td>3.035377</td>\n",
       "      <td>990.489405</td>\n",
       "    </tr>\n",
       "    <tr>\n",
       "      <th>13</th>\n",
       "      <td>Mahan Air</td>\n",
       "      <td>Dubai International Airport</td>\n",
       "      <td>Imam Khomeini International Airport</td>\n",
       "      <td>Dubai</td>\n",
       "      <td>United Arab Emirates</td>\n",
       "      <td>25.252800</td>\n",
       "      <td>55.364399</td>\n",
       "      <td>62</td>\n",
       "      <td>Tehran</td>\n",
       "      <td>Iran</td>\n",
       "      <td>35.416100</td>\n",
       "      <td>51.152199</td>\n",
       "      <td>3305</td>\n",
       "      <td>1199.863567</td>\n",
       "      <td>1.990514</td>\n",
       "      <td>569.931784</td>\n",
       "    </tr>\n",
       "    <tr>\n",
       "      <th>14</th>\n",
       "      <td>Mahan Air</td>\n",
       "      <td>Atatürk International Airport</td>\n",
       "      <td>Imam Khomeini International Airport</td>\n",
       "      <td>Istanbul</td>\n",
       "      <td>Turkey</td>\n",
       "      <td>40.976898</td>\n",
       "      <td>28.814600</td>\n",
       "      <td>163</td>\n",
       "      <td>Tehran</td>\n",
       "      <td>Iran</td>\n",
       "      <td>35.416100</td>\n",
       "      <td>51.152199</td>\n",
       "      <td>3305</td>\n",
       "      <td>2040.978811</td>\n",
       "      <td>3.035377</td>\n",
       "      <td>990.489405</td>\n",
       "    </tr>\n",
       "    <tr>\n",
       "      <th>15</th>\n",
       "      <td>Mahan Air</td>\n",
       "      <td>Esenboğa International Airport</td>\n",
       "      <td>Imam Khomeini International Airport</td>\n",
       "      <td>Ankara</td>\n",
       "      <td>Turkey</td>\n",
       "      <td>40.128101</td>\n",
       "      <td>32.995098</td>\n",
       "      <td>3125</td>\n",
       "      <td>Tehran</td>\n",
       "      <td>Iran</td>\n",
       "      <td>35.416100</td>\n",
       "      <td>51.152199</td>\n",
       "      <td>3305</td>\n",
       "      <td>1676.121317</td>\n",
       "      <td>2.582138</td>\n",
       "      <td>808.060659</td>\n",
       "    </tr>\n",
       "    <tr>\n",
       "      <th>16</th>\n",
       "      <td>Pegasus Airlines</td>\n",
       "      <td>Adnan Menderes International Airport</td>\n",
       "      <td>Atatürk International Airport</td>\n",
       "      <td>Izmir</td>\n",
       "      <td>Turkey</td>\n",
       "      <td>38.292400</td>\n",
       "      <td>27.157000</td>\n",
       "      <td>412</td>\n",
       "      <td>Istanbul</td>\n",
       "      <td>Turkey</td>\n",
       "      <td>40.976898</td>\n",
       "      <td>28.814600</td>\n",
       "      <td>163</td>\n",
       "      <td>330.516231</td>\n",
       "      <td>0.910579</td>\n",
       "      <td>135.258116</td>\n",
       "    </tr>\n",
       "    <tr>\n",
       "      <th>17</th>\n",
       "      <td>Turkish Airlines</td>\n",
       "      <td>Chicago O'Hare International Airport</td>\n",
       "      <td>Atatürk International Airport</td>\n",
       "      <td>Chicago</td>\n",
       "      <td>United States</td>\n",
       "      <td>41.978600</td>\n",
       "      <td>-87.904800</td>\n",
       "      <td>672</td>\n",
       "      <td>Istanbul</td>\n",
       "      <td>Turkey</td>\n",
       "      <td>40.976898</td>\n",
       "      <td>28.814600</td>\n",
       "      <td>163</td>\n",
       "      <td>8813.934348</td>\n",
       "      <td>11.448987</td>\n",
       "      <td>4376.967174</td>\n",
       "    </tr>\n",
       "    <tr>\n",
       "      <th>18</th>\n",
       "      <td>Turkish Airlines</td>\n",
       "      <td>Los Angeles International Airport</td>\n",
       "      <td>Atatürk International Airport</td>\n",
       "      <td>Los Angeles</td>\n",
       "      <td>United States</td>\n",
       "      <td>33.942501</td>\n",
       "      <td>-118.407997</td>\n",
       "      <td>125</td>\n",
       "      <td>Istanbul</td>\n",
       "      <td>Turkey</td>\n",
       "      <td>40.976898</td>\n",
       "      <td>28.814600</td>\n",
       "      <td>163</td>\n",
       "      <td>11034.235275</td>\n",
       "      <td>14.207125</td>\n",
       "      <td>5487.117637</td>\n",
       "    </tr>\n",
       "    <tr>\n",
       "      <th>19</th>\n",
       "      <td>Turkish Airlines</td>\n",
       "      <td>Dubai International Airport</td>\n",
       "      <td>Atatürk International Airport</td>\n",
       "      <td>Dubai</td>\n",
       "      <td>United Arab Emirates</td>\n",
       "      <td>25.252800</td>\n",
       "      <td>55.364399</td>\n",
       "      <td>62</td>\n",
       "      <td>Istanbul</td>\n",
       "      <td>Turkey</td>\n",
       "      <td>40.976898</td>\n",
       "      <td>28.814600</td>\n",
       "      <td>163</td>\n",
       "      <td>3008.363178</td>\n",
       "      <td>4.237097</td>\n",
       "      <td>1474.181589</td>\n",
       "    </tr>\n",
       "  </tbody>\n",
       "</table>\n",
       "</div>"
      ],
      "text/plain": [
       "                 Airline                         SourceAirport  \\\n",
       "0       Pegasus Airlines   Sabiha Gökçen International Airport   \n",
       "1       Turkish Airlines   Sabiha Gökçen International Airport   \n",
       "2       Turkish Airlines         Atatürk International Airport   \n",
       "3               Emirates           Dubai International Airport   \n",
       "4         Etihad Airways       Abu Dhabi International Airport   \n",
       "5             Air Arabia         Sharjah International Airport   \n",
       "6          Qatar Airways           Hamad International Airport   \n",
       "7               Iran Air           Dubai International Airport   \n",
       "8               Iran Air         Atatürk International Airport   \n",
       "9               Iran Air        Esenboğa International Airport   \n",
       "10              Atlasjet         Atatürk International Airport   \n",
       "11  Iran Aseman Airlines           Dubai International Airport   \n",
       "12  Iran Aseman Airlines         Atatürk International Airport   \n",
       "13             Mahan Air           Dubai International Airport   \n",
       "14             Mahan Air         Atatürk International Airport   \n",
       "15             Mahan Air        Esenboğa International Airport   \n",
       "16      Pegasus Airlines  Adnan Menderes International Airport   \n",
       "17      Turkish Airlines  Chicago O'Hare International Airport   \n",
       "18      Turkish Airlines     Los Angeles International Airport   \n",
       "19      Turkish Airlines           Dubai International Airport   \n",
       "\n",
       "                     DestinationAirport SourceAirport_City  \\\n",
       "0   Imam Khomeini International Airport           Istanbul   \n",
       "1   Imam Khomeini International Airport           Istanbul   \n",
       "2   Imam Khomeini International Airport           Istanbul   \n",
       "3   Imam Khomeini International Airport              Dubai   \n",
       "4   Imam Khomeini International Airport          Abu Dhabi   \n",
       "5   Imam Khomeini International Airport            Sharjah   \n",
       "6   Imam Khomeini International Airport               Doha   \n",
       "7   Imam Khomeini International Airport              Dubai   \n",
       "8   Imam Khomeini International Airport           Istanbul   \n",
       "9   Imam Khomeini International Airport             Ankara   \n",
       "10  Imam Khomeini International Airport           Istanbul   \n",
       "11  Imam Khomeini International Airport              Dubai   \n",
       "12  Imam Khomeini International Airport           Istanbul   \n",
       "13  Imam Khomeini International Airport              Dubai   \n",
       "14  Imam Khomeini International Airport           Istanbul   \n",
       "15  Imam Khomeini International Airport             Ankara   \n",
       "16        Atatürk International Airport              Izmir   \n",
       "17        Atatürk International Airport            Chicago   \n",
       "18        Atatürk International Airport        Los Angeles   \n",
       "19        Atatürk International Airport              Dubai   \n",
       "\n",
       "   SourceAirport_Country  SourceAirport_Latitude  SourceAirport_Longitude  \\\n",
       "0                 Turkey               40.898602                29.309200   \n",
       "1                 Turkey               40.898602                29.309200   \n",
       "2                 Turkey               40.976898                28.814600   \n",
       "3   United Arab Emirates               25.252800                55.364399   \n",
       "4   United Arab Emirates               24.433001                54.651100   \n",
       "5   United Arab Emirates               25.328600                55.517200   \n",
       "6                  Qatar               25.273056                51.608056   \n",
       "7   United Arab Emirates               25.252800                55.364399   \n",
       "8                 Turkey               40.976898                28.814600   \n",
       "9                 Turkey               40.128101                32.995098   \n",
       "10                Turkey               40.976898                28.814600   \n",
       "11  United Arab Emirates               25.252800                55.364399   \n",
       "12                Turkey               40.976898                28.814600   \n",
       "13  United Arab Emirates               25.252800                55.364399   \n",
       "14                Turkey               40.976898                28.814600   \n",
       "15                Turkey               40.128101                32.995098   \n",
       "16                Turkey               38.292400                27.157000   \n",
       "17         United States               41.978600               -87.904800   \n",
       "18         United States               33.942501              -118.407997   \n",
       "19  United Arab Emirates               25.252800                55.364399   \n",
       "\n",
       "    SourceAirport_Altitude DestinationAirport_City DestinationAirport_Country  \\\n",
       "0                      312                  Tehran                       Iran   \n",
       "1                      312                  Tehran                       Iran   \n",
       "2                      163                  Tehran                       Iran   \n",
       "3                       62                  Tehran                       Iran   \n",
       "4                       88                  Tehran                       Iran   \n",
       "5                      111                  Tehran                       Iran   \n",
       "6                       13                  Tehran                       Iran   \n",
       "7                       62                  Tehran                       Iran   \n",
       "8                      163                  Tehran                       Iran   \n",
       "9                     3125                  Tehran                       Iran   \n",
       "10                     163                  Tehran                       Iran   \n",
       "11                      62                  Tehran                       Iran   \n",
       "12                     163                  Tehran                       Iran   \n",
       "13                      62                  Tehran                       Iran   \n",
       "14                     163                  Tehran                       Iran   \n",
       "15                    3125                  Tehran                       Iran   \n",
       "16                     412                Istanbul                     Turkey   \n",
       "17                     672                Istanbul                     Turkey   \n",
       "18                     125                Istanbul                     Turkey   \n",
       "19                      62                Istanbul                     Turkey   \n",
       "\n",
       "    DestinationAirport_Latitude  DestinationAirport_Longitude  \\\n",
       "0                     35.416100                     51.152199   \n",
       "1                     35.416100                     51.152199   \n",
       "2                     35.416100                     51.152199   \n",
       "3                     35.416100                     51.152199   \n",
       "4                     35.416100                     51.152199   \n",
       "5                     35.416100                     51.152199   \n",
       "6                     35.416100                     51.152199   \n",
       "7                     35.416100                     51.152199   \n",
       "8                     35.416100                     51.152199   \n",
       "9                     35.416100                     51.152199   \n",
       "10                    35.416100                     51.152199   \n",
       "11                    35.416100                     51.152199   \n",
       "12                    35.416100                     51.152199   \n",
       "13                    35.416100                     51.152199   \n",
       "14                    35.416100                     51.152199   \n",
       "15                    35.416100                     51.152199   \n",
       "16                    40.976898                     28.814600   \n",
       "17                    40.976898                     28.814600   \n",
       "18                    40.976898                     28.814600   \n",
       "19                    40.976898                     28.814600   \n",
       "\n",
       "    DestinationAirport_Altitude      Distance    FlyTime        Price  \n",
       "0                          3305   1998.541333   2.982660   969.270667  \n",
       "1                          3305   1998.541333   2.982660   969.270667  \n",
       "2                          3305   2040.978811   3.035377   990.489405  \n",
       "3                          3305   1199.863567   1.990514   569.931784  \n",
       "4                          3305   1266.681453   2.073517   603.340726  \n",
       "5                          3305   1196.902147   1.986835   568.451073  \n",
       "6                          3305   1128.698504   1.902110   534.349252  \n",
       "7                          3305   1199.863567   1.990514   569.931784  \n",
       "8                          3305   2040.978811   3.035377   990.489405  \n",
       "9                          3305   1676.121317   2.582138   808.060659  \n",
       "10                         3305   2040.978811   3.035377   990.489405  \n",
       "11                         3305   1199.863567   1.990514   569.931784  \n",
       "12                         3305   2040.978811   3.035377   990.489405  \n",
       "13                         3305   1199.863567   1.990514   569.931784  \n",
       "14                         3305   2040.978811   3.035377   990.489405  \n",
       "15                         3305   1676.121317   2.582138   808.060659  \n",
       "16                          163    330.516231   0.910579   135.258116  \n",
       "17                          163   8813.934348  11.448987  4376.967174  \n",
       "18                          163  11034.235275  14.207125  5487.117637  \n",
       "19                          163   3008.363178   4.237097  1474.181589  "
      ]
     },
     "execution_count": 5,
     "metadata": {},
     "output_type": "execute_result"
    }
   ],
   "source": [
    "df2"
   ]
  },
  {
   "cell_type": "code",
   "execution_count": 6,
   "id": "bf3a193e-fe57-40b7-95df-635a43a69b4f",
   "metadata": {
    "pycharm": {
     "name": "#%%\n"
    }
   },
   "outputs": [],
   "source": [
    "df3 = df2.filter(items = ['SourceAirport', 'DestinationAirport', 'Distance'])"
   ]
  },
  {
   "cell_type": "code",
   "execution_count": 7,
   "id": "5dd9a3f8-593b-4111-9df4-7a8020dcacae",
   "metadata": {
    "pycharm": {
     "name": "#%%\n"
    }
   },
   "outputs": [],
   "source": [
    "dict = df3.to_dict()"
   ]
  },
  {
   "cell_type": "code",
   "execution_count": 8,
   "id": "6ce43ab1-b733-4c4f-8cb7-f1efd04fb581",
   "metadata": {
    "pycharm": {
     "name": "#%%\n"
    }
   },
   "outputs": [
    {
     "data": {
      "text/plain": [
       "{'SourceAirport': {0: 'Sabiha Gökçen International Airport',\n",
       "  1: 'Sabiha Gökçen International Airport',\n",
       "  2: 'Atatürk International Airport',\n",
       "  3: 'Dubai International Airport',\n",
       "  4: 'Abu Dhabi International Airport',\n",
       "  5: 'Sharjah International Airport',\n",
       "  6: 'Hamad International Airport',\n",
       "  7: 'Dubai International Airport',\n",
       "  8: 'Atatürk International Airport',\n",
       "  9: 'Esenboğa International Airport',\n",
       "  10: 'Atatürk International Airport',\n",
       "  11: 'Dubai International Airport',\n",
       "  12: 'Atatürk International Airport',\n",
       "  13: 'Dubai International Airport',\n",
       "  14: 'Atatürk International Airport',\n",
       "  15: 'Esenboğa International Airport',\n",
       "  16: 'Adnan Menderes International Airport',\n",
       "  17: \"Chicago O'Hare International Airport\",\n",
       "  18: 'Los Angeles International Airport',\n",
       "  19: 'Dubai International Airport'},\n",
       " 'DestinationAirport': {0: 'Imam Khomeini International Airport',\n",
       "  1: 'Imam Khomeini International Airport',\n",
       "  2: 'Imam Khomeini International Airport',\n",
       "  3: 'Imam Khomeini International Airport',\n",
       "  4: 'Imam Khomeini International Airport',\n",
       "  5: 'Imam Khomeini International Airport',\n",
       "  6: 'Imam Khomeini International Airport',\n",
       "  7: 'Imam Khomeini International Airport',\n",
       "  8: 'Imam Khomeini International Airport',\n",
       "  9: 'Imam Khomeini International Airport',\n",
       "  10: 'Imam Khomeini International Airport',\n",
       "  11: 'Imam Khomeini International Airport',\n",
       "  12: 'Imam Khomeini International Airport',\n",
       "  13: 'Imam Khomeini International Airport',\n",
       "  14: 'Imam Khomeini International Airport',\n",
       "  15: 'Imam Khomeini International Airport',\n",
       "  16: 'Atatürk International Airport',\n",
       "  17: 'Atatürk International Airport',\n",
       "  18: 'Atatürk International Airport',\n",
       "  19: 'Atatürk International Airport'},\n",
       " 'Distance': {0: 1998.5413333328268,\n",
       "  1: 1998.5413333328268,\n",
       "  2: 2040.9788105605924,\n",
       "  3: 1199.863567129553,\n",
       "  4: 1266.6814529891146,\n",
       "  5: 1196.9021466325523,\n",
       "  6: 1128.6985039169483,\n",
       "  7: 1199.863567129553,\n",
       "  8: 2040.9788105605924,\n",
       "  9: 1676.121317120518,\n",
       "  10: 2040.9788105605924,\n",
       "  11: 1199.863567129553,\n",
       "  12: 2040.9788105605924,\n",
       "  13: 1199.863567129553,\n",
       "  14: 2040.9788105605924,\n",
       "  15: 1676.121317120518,\n",
       "  16: 330.5162311808217,\n",
       "  17: 8813.934347917042,\n",
       "  18: 11034.23527495448,\n",
       "  19: 3008.3631780961928}}"
      ]
     },
     "execution_count": 8,
     "metadata": {},
     "output_type": "execute_result"
    }
   ],
   "source": [
    "dict"
   ]
  },
  {
   "cell_type": "code",
   "execution_count": 9,
   "id": "f0485772-0915-4c3d-a0a4-dd1f48ef2a20",
   "metadata": {
    "pycharm": {
     "name": "#%%\n"
    }
   },
   "outputs": [],
   "source": [
    "source_airport_dict = dict['SourceAirport']\n",
    "destination_airport_dict = dict['DestinationAirport']\n",
    "distance_dict = dict['Distance']"
   ]
  },
  {
   "cell_type": "code",
   "execution_count": 10,
   "id": "ea89e4ed-464a-4330-892a-231c7ac23b71",
   "metadata": {
    "pycharm": {
     "name": "#%%\n"
    }
   },
   "outputs": [
    {
     "data": {
      "text/plain": [
       "{0: 1998.5413333328268,\n",
       " 1: 1998.5413333328268,\n",
       " 2: 2040.9788105605924,\n",
       " 3: 1199.863567129553,\n",
       " 4: 1266.6814529891146,\n",
       " 5: 1196.9021466325523,\n",
       " 6: 1128.6985039169483,\n",
       " 7: 1199.863567129553,\n",
       " 8: 2040.9788105605924,\n",
       " 9: 1676.121317120518,\n",
       " 10: 2040.9788105605924,\n",
       " 11: 1199.863567129553,\n",
       " 12: 2040.9788105605924,\n",
       " 13: 1199.863567129553,\n",
       " 14: 2040.9788105605924,\n",
       " 15: 1676.121317120518,\n",
       " 16: 330.5162311808217,\n",
       " 17: 8813.934347917042,\n",
       " 18: 11034.23527495448,\n",
       " 19: 3008.3631780961928}"
      ]
     },
     "execution_count": 10,
     "metadata": {},
     "output_type": "execute_result"
    }
   ],
   "source": [
    "source_airport_dict\n",
    "destination_airport_dict\n",
    "distance_dict"
   ]
  },
  {
   "cell_type": "code",
   "execution_count": 11,
   "id": "9e31a336-2c2e-426d-8a51-afac4aa48d5a",
   "metadata": {
    "pycharm": {
     "name": "#%%\n"
    }
   },
   "outputs": [],
   "source": [
    "for i in source_airport_dict:\n",
    "    Geographical_map.add_edge(source_airport_dict[i], destination_airport_dict[i], weight=distance_dict[i])"
   ]
  },
  {
   "cell_type": "code",
   "execution_count": 12,
   "id": "e82e19e2",
   "metadata": {
    "collapsed": false,
    "jupyter": {
     "outputs_hidden": false
    },
    "pycharm": {
     "name": "#%%\n"
    }
   },
   "outputs": [
    {
     "data": {
      "image/png": "[encoded data removed]",
      "text/plain": [
       "<Figure size 640x480 with 1 Axes>"
      ]
     },
     "metadata": {},
     "output_type": "display_data"
    }
   ],
   "source": [
    "nx.draw_networkx(Geographical_map)\n"
   ]
  },
  {
   "cell_type": "code",
   "execution_count": 13,
   "id": "96c708ab",
   "metadata": {
    "collapsed": false,
    "jupyter": {
     "outputs_hidden": false
    },
    "pycharm": {
     "name": "#%%\n"
    }
   },
   "outputs": [],
   "source": [
    "source_airport_set = set(df3['SourceAirport'])\n",
    "destination_airport_set = set(df3['DestinationAirport'])"
   ]
  },
  {
   "cell_type": "code",
   "execution_count": 14,
   "id": "f5ada09a",
   "metadata": {
    "collapsed": false,
    "jupyter": {
     "outputs_hidden": false
    },
    "pycharm": {
     "name": "#%%\n"
    }
   },
   "outputs": [],
   "source": [
    "destination_airport_set.update(source_airport_set)"
   ]
  },
  {
   "cell_type": "code",
   "execution_count": 15,
   "id": "1ea35fc8",
   "metadata": {
    "collapsed": false,
    "jupyter": {
     "outputs_hidden": false
    },
    "pycharm": {
     "name": "#%%\n"
    }
   },
   "outputs": [
    {
     "data": {
      "text/plain": [
       "{'Abu Dhabi International Airport',\n",
       " 'Adnan Menderes International Airport',\n",
       " 'Atatürk International Airport',\n",
       " \"Chicago O'Hare International Airport\",\n",
       " 'Dubai International Airport',\n",
       " 'Esenboğa International Airport',\n",
       " 'Hamad International Airport',\n",
       " 'Imam Khomeini International Airport',\n",
       " 'Los Angeles International Airport',\n",
       " 'Sabiha Gökçen International Airport',\n",
       " 'Sharjah International Airport'}"
      ]
     },
     "execution_count": 15,
     "metadata": {},
     "output_type": "execute_result"
    }
   ],
   "source": [
    "destination_airport_set"
   ]
  },
  {
   "cell_type": "code",
   "execution_count": 16,
   "id": "aa6c0162",
   "metadata": {
    "collapsed": false,
    "jupyter": {
     "outputs_hidden": false
    },
    "pycharm": {
     "name": "#%%\n"
    }
   },
   "outputs": [],
   "source": [
    " for i in range(0, len(destination_airport_set)):\n",
    "    d = dict.fromkeys(destination_airport_set,i)"
   ]
  },
  {
   "cell_type": "code",
   "execution_count": 42,
   "id": "d4768589-dadc-4d8f-8305-56347b48c86c",
   "metadata": {},
   "outputs": [],
   "source": [
    "d = {}\n",
    "i = 0\n",
    "for item in destination_airport_set:\n",
    "    d.update({i: item})\n",
    "    i+=1"
   ]
  },
  {
   "cell_type": "code",
   "execution_count": 43,
   "id": "975ee4cf-0a7a-40f9-8c0e-f08c53aff7e7",
   "metadata": {},
   "outputs": [
    {
     "data": {
      "text/plain": [
       "{0: 'Sharjah International Airport',\n",
       " 1: 'Sabiha Gökçen International Airport',\n",
       " 2: 'Los Angeles International Airport',\n",
       " 3: 'Abu Dhabi International Airport',\n",
       " 4: 'Esenboğa International Airport',\n",
       " 5: 'Adnan Menderes International Airport',\n",
       " 6: 'Atatürk International Airport',\n",
       " 7: 'Hamad International Airport',\n",
       " 8: 'Imam Khomeini International Airport',\n",
       " 9: 'Dubai International Airport',\n",
       " 10: \"Chicago O'Hare International Airport\"}"
      ]
     },
     "execution_count": 43,
     "metadata": {},
     "output_type": "execute_result"
    }
   ],
   "source": [
    "d"
   ]
  },
  {
   "cell_type": "code",
   "execution_count": null,
   "id": "f1240356-fb25-4187-ae37-c6e9cb7b20ff",
   "metadata": {},
   "outputs": [],
   "source": []
  },
  {
   "cell_type": "code",
   "execution_count": null,
   "id": "3b1fa6c8-cbd7-49cd-82f7-8f7a56238b00",
   "metadata": {},
   "outputs": [],
   "source": []
  }
 ],
 "metadata": {
  "kernelspec": {
   "display_name": "Python 3 (ipykernel)",
   "language": "python",
   "name": "python3"
  },
  "language_info": {
   "codemirror_mode": {
    "name": "ipython",
    "version": 3
   },
   "file_extension": ".py",
   "mimetype": "text/x-python",
   "name": "python",
   "nbconvert_exporter": "python",
   "pygments_lexer": "ipython3",
   "version": "3.11.5"
  }
 },
 "nbformat": 4,
 "nbformat_minor": 5
}
