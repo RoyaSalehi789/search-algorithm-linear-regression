{
 "cells": [
  {
   "cell_type": "code",
   "execution_count": 1,
   "id": "6f91883b",
   "metadata": {
    "collapsed": false,
    "jupyter": {
     "outputs_hidden": false
    },
    "pycharm": {
     "name": "#%%\n"
    }
   },
   "outputs": [],
   "source": [
    "import pandas as pd\n",
    "import networkx as nx\n",
    "import matplotlib.pyplot as plt\n",
    "import sys\n",
    "import math"
   ]
  },
  {
   "cell_type": "code",
   "execution_count": 2,
   "id": "01070202",
   "metadata": {
    "collapsed": false,
    "jupyter": {
     "outputs_hidden": false
    },
    "pycharm": {
     "name": "#%%\n"
    }
   },
   "outputs": [],
   "source": [
    "df = pd.read_csv('Flight_Data.csv')"
   ]
  },
  {
   "cell_type": "code",
   "execution_count": 3,
   "id": "ecaa427e",
   "metadata": {
    "collapsed": false,
    "jupyter": {
     "outputs_hidden": false
    },
    "pycharm": {
     "name": "#%%\n"
    }
   },
   "outputs": [],
   "source": [
    "Geographical_map = nx.Graph()"
   ]
  },
  {
   "cell_type": "code",
   "execution_count": 4,
   "id": "f886edcf",
   "metadata": {
    "collapsed": false,
    "jupyter": {
     "outputs_hidden": false
    },
    "pycharm": {
     "name": "#%%\n"
    }
   },
   "outputs": [],
   "source": [
    "df2 = df.head(20)"
   ]
  },
  {
   "cell_type": "code",
   "execution_count": 5,
   "id": "d5155109",
   "metadata": {
    "collapsed": false,
    "jupyter": {
     "outputs_hidden": false
    },
    "pycharm": {
     "name": "#%%\n"
    }
   },
   "outputs": [
    {
     "data": {
      "text/html": [
       "<div>\n",
       "<style scoped>\n",
       "    .dataframe tbody tr th:only-of-type {\n",
       "        vertical-align: middle;\n",
       "    }\n",
       "\n",
       "    .dataframe tbody tr th {\n",
       "        vertical-align: top;\n",
       "    }\n",
       "\n",
       "    .dataframe thead th {\n",
       "        text-align: right;\n",
       "    }\n",
       "</style>\n",
       "<table border=\"1\" class=\"dataframe\">\n",
       "  <thead>\n",
       "    <tr style=\"text-align: right;\">\n",
       "      <th></th>\n",
       "      <th>Airline</th>\n",
       "      <th>SourceAirport</th>\n",
       "      <th>DestinationAirport</th>\n",
       "      <th>SourceAirport_City</th>\n",
       "      <th>SourceAirport_Country</th>\n",
       "      <th>SourceAirport_Latitude</th>\n",
       "      <th>SourceAirport_Longitude</th>\n",
       "      <th>SourceAirport_Altitude</th>\n",
       "      <th>DestinationAirport_City</th>\n",
       "      <th>DestinationAirport_Country</th>\n",
       "      <th>DestinationAirport_Latitude</th>\n",
       "      <th>DestinationAirport_Longitude</th>\n",
       "      <th>DestinationAirport_Altitude</th>\n",
       "      <th>Distance</th>\n",
       "      <th>FlyTime</th>\n",
       "      <th>Price</th>\n",
       "    </tr>\n",
       "  </thead>\n",
       "  <tbody>\n",
       "    <tr>\n",
       "      <th>0</th>\n",
       "      <td>Pegasus Airlines</td>\n",
       "      <td>Sabiha Gökçen International Airport</td>\n",
       "      <td>Imam Khomeini International Airport</td>\n",
       "      <td>Istanbul</td>\n",
       "      <td>Turkey</td>\n",
       "      <td>40.898602</td>\n",
       "      <td>29.309200</td>\n",
       "      <td>312</td>\n",
       "      <td>Tehran</td>\n",
       "      <td>Iran</td>\n",
       "      <td>35.416100</td>\n",
       "      <td>51.152199</td>\n",
       "      <td>3305</td>\n",
       "      <td>1998.541333</td>\n",
       "      <td>2.982660</td>\n",
       "      <td>969.270667</td>\n",
       "    </tr>\n",
       "    <tr>\n",
       "      <th>1</th>\n",
       "      <td>Turkish Airlines</td>\n",
       "      <td>Sabiha Gökçen International Airport</td>\n",
       "      <td>Imam Khomeini International Airport</td>\n",
       "      <td>Istanbul</td>\n",
       "      <td>Turkey</td>\n",
       "      <td>40.898602</td>\n",
       "      <td>29.309200</td>\n",
       "      <td>312</td>\n",
       "      <td>Tehran</td>\n",
       "      <td>Iran</td>\n",
       "      <td>35.416100</td>\n",
       "      <td>51.152199</td>\n",
       "      <td>3305</td>\n",
       "      <td>1998.541333</td>\n",
       "      <td>2.982660</td>\n",
       "      <td>969.270667</td>\n",
       "    </tr>\n",
       "    <tr>\n",
       "      <th>2</th>\n",
       "      <td>Turkish Airlines</td>\n",
       "      <td>Atatürk International Airport</td>\n",
       "      <td>Imam Khomeini International Airport</td>\n",
       "      <td>Istanbul</td>\n",
       "      <td>Turkey</td>\n",
       "      <td>40.976898</td>\n",
       "      <td>28.814600</td>\n",
       "      <td>163</td>\n",
       "      <td>Tehran</td>\n",
       "      <td>Iran</td>\n",
       "      <td>35.416100</td>\n",
       "      <td>51.152199</td>\n",
       "      <td>3305</td>\n",
       "      <td>2040.978811</td>\n",
       "      <td>3.035377</td>\n",
       "      <td>990.489405</td>\n",
       "    </tr>\n",
       "    <tr>\n",
       "      <th>3</th>\n",
       "      <td>Emirates</td>\n",
       "      <td>Dubai International Airport</td>\n",
       "      <td>Imam Khomeini International Airport</td>\n",
       "      <td>Dubai</td>\n",
       "      <td>United Arab Emirates</td>\n",
       "      <td>25.252800</td>\n",
       "      <td>55.364399</td>\n",
       "      <td>62</td>\n",
       "      <td>Tehran</td>\n",
       "      <td>Iran</td>\n",
       "      <td>35.416100</td>\n",
       "      <td>51.152199</td>\n",
       "      <td>3305</td>\n",
       "      <td>1199.863567</td>\n",
       "      <td>1.990514</td>\n",
       "      <td>569.931784</td>\n",
       "    </tr>\n",
       "    <tr>\n",
       "      <th>4</th>\n",
       "      <td>Etihad Airways</td>\n",
       "      <td>Abu Dhabi International Airport</td>\n",
       "      <td>Imam Khomeini International Airport</td>\n",
       "      <td>Abu Dhabi</td>\n",
       "      <td>United Arab Emirates</td>\n",
       "      <td>24.433001</td>\n",
       "      <td>54.651100</td>\n",
       "      <td>88</td>\n",
       "      <td>Tehran</td>\n",
       "      <td>Iran</td>\n",
       "      <td>35.416100</td>\n",
       "      <td>51.152199</td>\n",
       "      <td>3305</td>\n",
       "      <td>1266.681453</td>\n",
       "      <td>2.073517</td>\n",
       "      <td>603.340726</td>\n",
       "    </tr>\n",
       "    <tr>\n",
       "      <th>5</th>\n",
       "      <td>Air Arabia</td>\n",
       "      <td>Sharjah International Airport</td>\n",
       "      <td>Imam Khomeini International Airport</td>\n",
       "      <td>Sharjah</td>\n",
       "      <td>United Arab Emirates</td>\n",
       "      <td>25.328600</td>\n",
       "      <td>55.517200</td>\n",
       "      <td>111</td>\n",
       "      <td>Tehran</td>\n",
       "      <td>Iran</td>\n",
       "      <td>35.416100</td>\n",
       "      <td>51.152199</td>\n",
       "      <td>3305</td>\n",
       "      <td>1196.902147</td>\n",
       "      <td>1.986835</td>\n",
       "      <td>568.451073</td>\n",
       "    </tr>\n",
       "    <tr>\n",
       "      <th>6</th>\n",
       "      <td>Qatar Airways</td>\n",
       "      <td>Hamad International Airport</td>\n",
       "      <td>Imam Khomeini International Airport</td>\n",
       "      <td>Doha</td>\n",
       "      <td>Qatar</td>\n",
       "      <td>25.273056</td>\n",
       "      <td>51.608056</td>\n",
       "      <td>13</td>\n",
       "      <td>Tehran</td>\n",
       "      <td>Iran</td>\n",
       "      <td>35.416100</td>\n",
       "      <td>51.152199</td>\n",
       "      <td>3305</td>\n",
       "      <td>1128.698504</td>\n",
       "      <td>1.902110</td>\n",
       "      <td>534.349252</td>\n",
       "    </tr>\n",
       "    <tr>\n",
       "      <th>7</th>\n",
       "      <td>Iran Air</td>\n",
       "      <td>Dubai International Airport</td>\n",
       "      <td>Imam Khomeini International Airport</td>\n",
       "      <td>Dubai</td>\n",
       "      <td>United Arab Emirates</td>\n",
       "      <td>25.252800</td>\n",
       "      <td>55.364399</td>\n",
       "      <td>62</td>\n",
       "      <td>Tehran</td>\n",
       "      <td>Iran</td>\n",
       "      <td>35.416100</td>\n",
       "      <td>51.152199</td>\n",
       "      <td>3305</td>\n",
       "      <td>1199.863567</td>\n",
       "      <td>1.990514</td>\n",
       "      <td>569.931784</td>\n",
       "    </tr>\n",
       "    <tr>\n",
       "      <th>8</th>\n",
       "      <td>Iran Air</td>\n",
       "      <td>Atatürk International Airport</td>\n",
       "      <td>Imam Khomeini International Airport</td>\n",
       "      <td>Istanbul</td>\n",
       "      <td>Turkey</td>\n",
       "      <td>40.976898</td>\n",
       "      <td>28.814600</td>\n",
       "      <td>163</td>\n",
       "      <td>Tehran</td>\n",
       "      <td>Iran</td>\n",
       "      <td>35.416100</td>\n",
       "      <td>51.152199</td>\n",
       "      <td>3305</td>\n",
       "      <td>2040.978811</td>\n",
       "      <td>3.035377</td>\n",
       "      <td>990.489405</td>\n",
       "    </tr>\n",
       "    <tr>\n",
       "      <th>9</th>\n",
       "      <td>Iran Air</td>\n",
       "      <td>Esenboğa International Airport</td>\n",
       "      <td>Imam Khomeini International Airport</td>\n",
       "      <td>Ankara</td>\n",
       "      <td>Turkey</td>\n",
       "      <td>40.128101</td>\n",
       "      <td>32.995098</td>\n",
       "      <td>3125</td>\n",
       "      <td>Tehran</td>\n",
       "      <td>Iran</td>\n",
       "      <td>35.416100</td>\n",
       "      <td>51.152199</td>\n",
       "      <td>3305</td>\n",
       "      <td>1676.121317</td>\n",
       "      <td>2.582138</td>\n",
       "      <td>808.060659</td>\n",
       "    </tr>\n",
       "    <tr>\n",
       "      <th>10</th>\n",
       "      <td>Atlasjet</td>\n",
       "      <td>Atatürk International Airport</td>\n",
       "      <td>Imam Khomeini International Airport</td>\n",
       "      <td>Istanbul</td>\n",
       "      <td>Turkey</td>\n",
       "      <td>40.976898</td>\n",
       "      <td>28.814600</td>\n",
       "      <td>163</td>\n",
       "      <td>Tehran</td>\n",
       "      <td>Iran</td>\n",
       "      <td>35.416100</td>\n",
       "      <td>51.152199</td>\n",
       "      <td>3305</td>\n",
       "      <td>2040.978811</td>\n",
       "      <td>3.035377</td>\n",
       "      <td>990.489405</td>\n",
       "    </tr>\n",
       "    <tr>\n",
       "      <th>11</th>\n",
       "      <td>Iran Aseman Airlines</td>\n",
       "      <td>Dubai International Airport</td>\n",
       "      <td>Imam Khomeini International Airport</td>\n",
       "      <td>Dubai</td>\n",
       "      <td>United Arab Emirates</td>\n",
       "      <td>25.252800</td>\n",
       "      <td>55.364399</td>\n",
       "      <td>62</td>\n",
       "      <td>Tehran</td>\n",
       "      <td>Iran</td>\n",
       "      <td>35.416100</td>\n",
       "      <td>51.152199</td>\n",
       "      <td>3305</td>\n",
       "      <td>1199.863567</td>\n",
       "      <td>1.990514</td>\n",
       "      <td>569.931784</td>\n",
       "    </tr>\n",
       "    <tr>\n",
       "      <th>12</th>\n",
       "      <td>Iran Aseman Airlines</td>\n",
       "      <td>Atatürk International Airport</td>\n",
       "      <td>Imam Khomeini International Airport</td>\n",
       "      <td>Istanbul</td>\n",
       "      <td>Turkey</td>\n",
       "      <td>40.976898</td>\n",
       "      <td>28.814600</td>\n",
       "      <td>163</td>\n",
       "      <td>Tehran</td>\n",
       "      <td>Iran</td>\n",
       "      <td>35.416100</td>\n",
       "      <td>51.152199</td>\n",
       "      <td>3305</td>\n",
       "      <td>2040.978811</td>\n",
       "      <td>3.035377</td>\n",
       "      <td>990.489405</td>\n",
       "    </tr>\n",
       "    <tr>\n",
       "      <th>13</th>\n",
       "      <td>Mahan Air</td>\n",
       "      <td>Dubai International Airport</td>\n",
       "      <td>Imam Khomeini International Airport</td>\n",
       "      <td>Dubai</td>\n",
       "      <td>United Arab Emirates</td>\n",
       "      <td>25.252800</td>\n",
       "      <td>55.364399</td>\n",
       "      <td>62</td>\n",
       "      <td>Tehran</td>\n",
       "      <td>Iran</td>\n",
       "      <td>35.416100</td>\n",
       "      <td>51.152199</td>\n",
       "      <td>3305</td>\n",
       "      <td>1199.863567</td>\n",
       "      <td>1.990514</td>\n",
       "      <td>569.931784</td>\n",
       "    </tr>\n",
       "    <tr>\n",
       "      <th>14</th>\n",
       "      <td>Mahan Air</td>\n",
       "      <td>Atatürk International Airport</td>\n",
       "      <td>Imam Khomeini International Airport</td>\n",
       "      <td>Istanbul</td>\n",
       "      <td>Turkey</td>\n",
       "      <td>40.976898</td>\n",
       "      <td>28.814600</td>\n",
       "      <td>163</td>\n",
       "      <td>Tehran</td>\n",
       "      <td>Iran</td>\n",
       "      <td>35.416100</td>\n",
       "      <td>51.152199</td>\n",
       "      <td>3305</td>\n",
       "      <td>2040.978811</td>\n",
       "      <td>3.035377</td>\n",
       "      <td>990.489405</td>\n",
       "    </tr>\n",
       "    <tr>\n",
       "      <th>15</th>\n",
       "      <td>Mahan Air</td>\n",
       "      <td>Esenboğa International Airport</td>\n",
       "      <td>Imam Khomeini International Airport</td>\n",
       "      <td>Ankara</td>\n",
       "      <td>Turkey</td>\n",
       "      <td>40.128101</td>\n",
       "      <td>32.995098</td>\n",
       "      <td>3125</td>\n",
       "      <td>Tehran</td>\n",
       "      <td>Iran</td>\n",
       "      <td>35.416100</td>\n",
       "      <td>51.152199</td>\n",
       "      <td>3305</td>\n",
       "      <td>1676.121317</td>\n",
       "      <td>2.582138</td>\n",
       "      <td>808.060659</td>\n",
       "    </tr>\n",
       "    <tr>\n",
       "      <th>16</th>\n",
       "      <td>Pegasus Airlines</td>\n",
       "      <td>Adnan Menderes International Airport</td>\n",
       "      <td>Atatürk International Airport</td>\n",
       "      <td>Izmir</td>\n",
       "      <td>Turkey</td>\n",
       "      <td>38.292400</td>\n",
       "      <td>27.157000</td>\n",
       "      <td>412</td>\n",
       "      <td>Istanbul</td>\n",
       "      <td>Turkey</td>\n",
       "      <td>40.976898</td>\n",
       "      <td>28.814600</td>\n",
       "      <td>163</td>\n",
       "      <td>330.516231</td>\n",
       "      <td>0.910579</td>\n",
       "      <td>135.258116</td>\n",
       "    </tr>\n",
       "    <tr>\n",
       "      <th>17</th>\n",
       "      <td>Turkish Airlines</td>\n",
       "      <td>Chicago O'Hare International Airport</td>\n",
       "      <td>Atatürk International Airport</td>\n",
       "      <td>Chicago</td>\n",
       "      <td>United States</td>\n",
       "      <td>41.978600</td>\n",
       "      <td>-87.904800</td>\n",
       "      <td>672</td>\n",
       "      <td>Istanbul</td>\n",
       "      <td>Turkey</td>\n",
       "      <td>40.976898</td>\n",
       "      <td>28.814600</td>\n",
       "      <td>163</td>\n",
       "      <td>8813.934348</td>\n",
       "      <td>11.448987</td>\n",
       "      <td>4376.967174</td>\n",
       "    </tr>\n",
       "    <tr>\n",
       "      <th>18</th>\n",
       "      <td>Turkish Airlines</td>\n",
       "      <td>Los Angeles International Airport</td>\n",
       "      <td>Atatürk International Airport</td>\n",
       "      <td>Los Angeles</td>\n",
       "      <td>United States</td>\n",
       "      <td>33.942501</td>\n",
       "      <td>-118.407997</td>\n",
       "      <td>125</td>\n",
       "      <td>Istanbul</td>\n",
       "      <td>Turkey</td>\n",
       "      <td>40.976898</td>\n",
       "      <td>28.814600</td>\n",
       "      <td>163</td>\n",
       "      <td>11034.235275</td>\n",
       "      <td>14.207125</td>\n",
       "      <td>5487.117637</td>\n",
       "    </tr>\n",
       "    <tr>\n",
       "      <th>19</th>\n",
       "      <td>Turkish Airlines</td>\n",
       "      <td>Dubai International Airport</td>\n",
       "      <td>Atatürk International Airport</td>\n",
       "      <td>Dubai</td>\n",
       "      <td>United Arab Emirates</td>\n",
       "      <td>25.252800</td>\n",
       "      <td>55.364399</td>\n",
       "      <td>62</td>\n",
       "      <td>Istanbul</td>\n",
       "      <td>Turkey</td>\n",
       "      <td>40.976898</td>\n",
       "      <td>28.814600</td>\n",
       "      <td>163</td>\n",
       "      <td>3008.363178</td>\n",
       "      <td>4.237097</td>\n",
       "      <td>1474.181589</td>\n",
       "    </tr>\n",
       "  </tbody>\n",
       "</table>\n",
       "</div>"
      ],
      "text/plain": [
       "                 Airline                         SourceAirport  \\\n",
       "0       Pegasus Airlines   Sabiha Gökçen International Airport   \n",
       "1       Turkish Airlines   Sabiha Gökçen International Airport   \n",
       "2       Turkish Airlines         Atatürk International Airport   \n",
       "3               Emirates           Dubai International Airport   \n",
       "4         Etihad Airways       Abu Dhabi International Airport   \n",
       "5             Air Arabia         Sharjah International Airport   \n",
       "6          Qatar Airways           Hamad International Airport   \n",
       "7               Iran Air           Dubai International Airport   \n",
       "8               Iran Air         Atatürk International Airport   \n",
       "9               Iran Air        Esenboğa International Airport   \n",
       "10              Atlasjet         Atatürk International Airport   \n",
       "11  Iran Aseman Airlines           Dubai International Airport   \n",
       "12  Iran Aseman Airlines         Atatürk International Airport   \n",
       "13             Mahan Air           Dubai International Airport   \n",
       "14             Mahan Air         Atatürk International Airport   \n",
       "15             Mahan Air        Esenboğa International Airport   \n",
       "16      Pegasus Airlines  Adnan Menderes International Airport   \n",
       "17      Turkish Airlines  Chicago O'Hare International Airport   \n",
       "18      Turkish Airlines     Los Angeles International Airport   \n",
       "19      Turkish Airlines           Dubai International Airport   \n",
       "\n",
       "                     DestinationAirport SourceAirport_City  \\\n",
       "0   Imam Khomeini International Airport           Istanbul   \n",
       "1   Imam Khomeini International Airport           Istanbul   \n",
       "2   Imam Khomeini International Airport           Istanbul   \n",
       "3   Imam Khomeini International Airport              Dubai   \n",
       "4   Imam Khomeini International Airport          Abu Dhabi   \n",
       "5   Imam Khomeini International Airport            Sharjah   \n",
       "6   Imam Khomeini International Airport               Doha   \n",
       "7   Imam Khomeini International Airport              Dubai   \n",
       "8   Imam Khomeini International Airport           Istanbul   \n",
       "9   Imam Khomeini International Airport             Ankara   \n",
       "10  Imam Khomeini International Airport           Istanbul   \n",
       "11  Imam Khomeini International Airport              Dubai   \n",
       "12  Imam Khomeini International Airport           Istanbul   \n",
       "13  Imam Khomeini International Airport              Dubai   \n",
       "14  Imam Khomeini International Airport           Istanbul   \n",
       "15  Imam Khomeini International Airport             Ankara   \n",
       "16        Atatürk International Airport              Izmir   \n",
       "17        Atatürk International Airport            Chicago   \n",
       "18        Atatürk International Airport        Los Angeles   \n",
       "19        Atatürk International Airport              Dubai   \n",
       "\n",
       "   SourceAirport_Country  SourceAirport_Latitude  SourceAirport_Longitude  \\\n",
       "0                 Turkey               40.898602                29.309200   \n",
       "1                 Turkey               40.898602                29.309200   \n",
       "2                 Turkey               40.976898                28.814600   \n",
       "3   United Arab Emirates               25.252800                55.364399   \n",
       "4   United Arab Emirates               24.433001                54.651100   \n",
       "5   United Arab Emirates               25.328600                55.517200   \n",
       "6                  Qatar               25.273056                51.608056   \n",
       "7   United Arab Emirates               25.252800                55.364399   \n",
       "8                 Turkey               40.976898                28.814600   \n",
       "9                 Turkey               40.128101                32.995098   \n",
       "10                Turkey               40.976898                28.814600   \n",
       "11  United Arab Emirates               25.252800                55.364399   \n",
       "12                Turkey               40.976898                28.814600   \n",
       "13  United Arab Emirates               25.252800                55.364399   \n",
       "14                Turkey               40.976898                28.814600   \n",
       "15                Turkey               40.128101                32.995098   \n",
       "16                Turkey               38.292400                27.157000   \n",
       "17         United States               41.978600               -87.904800   \n",
       "18         United States               33.942501              -118.407997   \n",
       "19  United Arab Emirates               25.252800                55.364399   \n",
       "\n",
       "    SourceAirport_Altitude DestinationAirport_City DestinationAirport_Country  \\\n",
       "0                      312                  Tehran                       Iran   \n",
       "1                      312                  Tehran                       Iran   \n",
       "2                      163                  Tehran                       Iran   \n",
       "3                       62                  Tehran                       Iran   \n",
       "4                       88                  Tehran                       Iran   \n",
       "5                      111                  Tehran                       Iran   \n",
       "6                       13                  Tehran                       Iran   \n",
       "7                       62                  Tehran                       Iran   \n",
       "8                      163                  Tehran                       Iran   \n",
       "9                     3125                  Tehran                       Iran   \n",
       "10                     163                  Tehran                       Iran   \n",
       "11                      62                  Tehran                       Iran   \n",
       "12                     163                  Tehran                       Iran   \n",
       "13                      62                  Tehran                       Iran   \n",
       "14                     163                  Tehran                       Iran   \n",
       "15                    3125                  Tehran                       Iran   \n",
       "16                     412                Istanbul                     Turkey   \n",
       "17                     672                Istanbul                     Turkey   \n",
       "18                     125                Istanbul                     Turkey   \n",
       "19                      62                Istanbul                     Turkey   \n",
       "\n",
       "    DestinationAirport_Latitude  DestinationAirport_Longitude  \\\n",
       "0                     35.416100                     51.152199   \n",
       "1                     35.416100                     51.152199   \n",
       "2                     35.416100                     51.152199   \n",
       "3                     35.416100                     51.152199   \n",
       "4                     35.416100                     51.152199   \n",
       "5                     35.416100                     51.152199   \n",
       "6                     35.416100                     51.152199   \n",
       "7                     35.416100                     51.152199   \n",
       "8                     35.416100                     51.152199   \n",
       "9                     35.416100                     51.152199   \n",
       "10                    35.416100                     51.152199   \n",
       "11                    35.416100                     51.152199   \n",
       "12                    35.416100                     51.152199   \n",
       "13                    35.416100                     51.152199   \n",
       "14                    35.416100                     51.152199   \n",
       "15                    35.416100                     51.152199   \n",
       "16                    40.976898                     28.814600   \n",
       "17                    40.976898                     28.814600   \n",
       "18                    40.976898                     28.814600   \n",
       "19                    40.976898                     28.814600   \n",
       "\n",
       "    DestinationAirport_Altitude      Distance    FlyTime        Price  \n",
       "0                          3305   1998.541333   2.982660   969.270667  \n",
       "1                          3305   1998.541333   2.982660   969.270667  \n",
       "2                          3305   2040.978811   3.035377   990.489405  \n",
       "3                          3305   1199.863567   1.990514   569.931784  \n",
       "4                          3305   1266.681453   2.073517   603.340726  \n",
       "5                          3305   1196.902147   1.986835   568.451073  \n",
       "6                          3305   1128.698504   1.902110   534.349252  \n",
       "7                          3305   1199.863567   1.990514   569.931784  \n",
       "8                          3305   2040.978811   3.035377   990.489405  \n",
       "9                          3305   1676.121317   2.582138   808.060659  \n",
       "10                         3305   2040.978811   3.035377   990.489405  \n",
       "11                         3305   1199.863567   1.990514   569.931784  \n",
       "12                         3305   2040.978811   3.035377   990.489405  \n",
       "13                         3305   1199.863567   1.990514   569.931784  \n",
       "14                         3305   2040.978811   3.035377   990.489405  \n",
       "15                         3305   1676.121317   2.582138   808.060659  \n",
       "16                          163    330.516231   0.910579   135.258116  \n",
       "17                          163   8813.934348  11.448987  4376.967174  \n",
       "18                          163  11034.235275  14.207125  5487.117637  \n",
       "19                          163   3008.363178   4.237097  1474.181589  "
      ]
     },
     "execution_count": 5,
     "metadata": {},
     "output_type": "execute_result"
    }
   ],
   "source": [
    "df2"
   ]
  },
  {
   "cell_type": "code",
   "execution_count": 6,
   "id": "cca3342c",
   "metadata": {
    "collapsed": false,
    "jupyter": {
     "outputs_hidden": false
    },
    "pycharm": {
     "name": "#%%\n"
    }
   },
   "outputs": [],
   "source": [
    "df3 = df2.filter(items = ['SourceAirport', 'DestinationAirport', 'Distance'])"
   ]
  },
  {
   "cell_type": "code",
   "execution_count": 7,
   "id": "ad9f4cda",
   "metadata": {
    "collapsed": false,
    "jupyter": {
     "outputs_hidden": false
    },
    "pycharm": {
     "name": "#%%\n"
    }
   },
   "outputs": [],
   "source": [
    "dict = df3.to_dict()"
   ]
  },
  {
   "cell_type": "code",
   "execution_count": 27,
   "id": "acda291a",
   "metadata": {
    "collapsed": false,
    "jupyter": {
     "outputs_hidden": false
    },
    "pycharm": {
     "name": "#%%\n"
    }
   },
   "outputs": [
    {
     "data": {
      "text/plain": [
       "{'SourceAirport': {0: 'Sabiha Gökçen International Airport',\n",
       "  1: 'Sabiha Gökçen International Airport',\n",
       "  2: 'Atatürk International Airport',\n",
       "  3: 'Dubai International Airport',\n",
       "  4: 'Abu Dhabi International Airport',\n",
       "  5: 'Sharjah International Airport',\n",
       "  6: 'Hamad International Airport',\n",
       "  7: 'Dubai International Airport',\n",
       "  8: 'Atatürk International Airport',\n",
       "  9: 'Esenboğa International Airport',\n",
       "  10: 'Atatürk International Airport',\n",
       "  11: 'Dubai International Airport',\n",
       "  12: 'Atatürk International Airport',\n",
       "  13: 'Dubai International Airport',\n",
       "  14: 'Atatürk International Airport',\n",
       "  15: 'Esenboğa International Airport',\n",
       "  16: 'Adnan Menderes International Airport',\n",
       "  17: \"Chicago O'Hare International Airport\",\n",
       "  18: 'Los Angeles International Airport',\n",
       "  19: 'Dubai International Airport'},\n",
       " 'DestinationAirport': {0: 'Imam Khomeini International Airport',\n",
       "  1: 'Imam Khomeini International Airport',\n",
       "  2: 'Imam Khomeini International Airport',\n",
       "  3: 'Imam Khomeini International Airport',\n",
       "  4: 'Imam Khomeini International Airport',\n",
       "  5: 'Imam Khomeini International Airport',\n",
       "  6: 'Imam Khomeini International Airport',\n",
       "  7: 'Imam Khomeini International Airport',\n",
       "  8: 'Imam Khomeini International Airport',\n",
       "  9: 'Imam Khomeini International Airport',\n",
       "  10: 'Imam Khomeini International Airport',\n",
       "  11: 'Imam Khomeini International Airport',\n",
       "  12: 'Imam Khomeini International Airport',\n",
       "  13: 'Imam Khomeini International Airport',\n",
       "  14: 'Imam Khomeini International Airport',\n",
       "  15: 'Imam Khomeini International Airport',\n",
       "  16: 'Atatürk International Airport',\n",
       "  17: 'Atatürk International Airport',\n",
       "  18: 'Atatürk International Airport',\n",
       "  19: 'Atatürk International Airport'},\n",
       " 'Distance': {0: 1998.5413333328268,\n",
       "  1: 1998.5413333328268,\n",
       "  2: 2040.9788105605924,\n",
       "  3: 1199.863567129553,\n",
       "  4: 1266.6814529891146,\n",
       "  5: 1196.9021466325523,\n",
       "  6: 1128.6985039169483,\n",
       "  7: 1199.863567129553,\n",
       "  8: 2040.9788105605924,\n",
       "  9: 1676.121317120518,\n",
       "  10: 2040.9788105605924,\n",
       "  11: 1199.863567129553,\n",
       "  12: 2040.9788105605924,\n",
       "  13: 1199.863567129553,\n",
       "  14: 2040.9788105605924,\n",
       "  15: 1676.121317120518,\n",
       "  16: 330.5162311808217,\n",
       "  17: 8813.934347917042,\n",
       "  18: 11034.23527495448,\n",
       "  19: 3008.3631780961928}}"
      ]
     },
     "execution_count": 27,
     "metadata": {},
     "output_type": "execute_result"
    }
   ],
   "source": [
    "dict"
   ]
  },
  {
   "cell_type": "code",
   "execution_count": 28,
   "id": "c8f36273",
   "metadata": {
    "collapsed": false,
    "jupyter": {
     "outputs_hidden": false
    },
    "pycharm": {
     "name": "#%%\n"
    }
   },
   "outputs": [],
   "source": [
    "source_airport_dict = dict['SourceAirport']\n",
    "destination_airport_dict = dict['DestinationAirport']\n",
    "distance_dict = dict['Distance']"
   ]
  },
  {
   "cell_type": "code",
   "execution_count": 29,
   "id": "c75cb27c",
   "metadata": {
    "collapsed": false,
    "jupyter": {
     "outputs_hidden": false
    },
    "pycharm": {
     "name": "#%%\n"
    }
   },
   "outputs": [
    {
     "data": {
      "text/plain": [
       "{0: 1998.5413333328268,\n",
       " 1: 1998.5413333328268,\n",
       " 2: 2040.9788105605924,\n",
       " 3: 1199.863567129553,\n",
       " 4: 1266.6814529891146,\n",
       " 5: 1196.9021466325523,\n",
       " 6: 1128.6985039169483,\n",
       " 7: 1199.863567129553,\n",
       " 8: 2040.9788105605924,\n",
       " 9: 1676.121317120518,\n",
       " 10: 2040.9788105605924,\n",
       " 11: 1199.863567129553,\n",
       " 12: 2040.9788105605924,\n",
       " 13: 1199.863567129553,\n",
       " 14: 2040.9788105605924,\n",
       " 15: 1676.121317120518,\n",
       " 16: 330.5162311808217,\n",
       " 17: 8813.934347917042,\n",
       " 18: 11034.23527495448,\n",
       " 19: 3008.3631780961928}"
      ]
     },
     "execution_count": 29,
     "metadata": {},
     "output_type": "execute_result"
    }
   ],
   "source": [
    "source_airport_dict\n",
    "destination_airport_dict\n",
    "distance_dict"
   ]
  },
  {
   "cell_type": "code",
   "execution_count": 30,
   "id": "b9a7bd2a",
   "metadata": {
    "collapsed": false,
    "jupyter": {
     "outputs_hidden": false
    },
    "pycharm": {
     "name": "#%%\n"
    }
   },
   "outputs": [],
   "source": [
    "for i in source_airport_dict:\n",
    "    Geographical_map.add_edge(source_airport_dict[i], destination_airport_dict[i], weight=distance_dict[i])"
   ]
  },
  {
   "cell_type": "code",
   "execution_count": 31,
   "id": "79302dfe",
   "metadata": {
    "collapsed": false,
    "jupyter": {
     "outputs_hidden": false
    },
    "pycharm": {
     "name": "#%%\n"
    }
   },
   "outputs": [
    {
     "data": {
      "image/png": "[encoded data removed]",
      "text/plain": [
       "<Figure size 640x480 with 1 Axes>"
      ]
     },
     "metadata": {},
     "output_type": "display_data"
    }
   ],
   "source": [
    "nx.draw_networkx(Geographical_map)\n"
   ]
  },
  {
   "cell_type": "code",
   "execution_count": 32,
   "id": "650384a5",
   "metadata": {
    "collapsed": false,
    "jupyter": {
     "outputs_hidden": false
    },
    "pycharm": {
     "name": "#%%\n"
    }
   },
   "outputs": [],
   "source": [
    "source_airport_set = set(df3['SourceAirport'])\n",
    "destination_airport_set = set(df3['DestinationAirport'])"
   ]
  },
  {
   "cell_type": "code",
   "execution_count": 33,
   "id": "ec32547a",
   "metadata": {
    "collapsed": false,
    "jupyter": {
     "outputs_hidden": false
    },
    "pycharm": {
     "name": "#%%\n"
    }
   },
   "outputs": [],
   "source": [
    "destination_airport_set.update(source_airport_set)"
   ]
  },
  {
   "cell_type": "code",
   "execution_count": 34,
   "id": "736564ea",
   "metadata": {
    "collapsed": false,
    "jupyter": {
     "outputs_hidden": false
    },
    "pycharm": {
     "name": "#%%\n"
    }
   },
   "outputs": [
    {
     "data": {
      "text/plain": [
       "{'Abu Dhabi International Airport',\n",
       " 'Adnan Menderes International Airport',\n",
       " 'Atatürk International Airport',\n",
       " \"Chicago O'Hare International Airport\",\n",
       " 'Dubai International Airport',\n",
       " 'Esenboğa International Airport',\n",
       " 'Hamad International Airport',\n",
       " 'Imam Khomeini International Airport',\n",
       " 'Los Angeles International Airport',\n",
       " 'Sabiha Gökçen International Airport',\n",
       " 'Sharjah International Airport'}"
      ]
     },
     "execution_count": 34,
     "metadata": {},
     "output_type": "execute_result"
    }
   ],
   "source": [
    "destination_airport_set"
   ]
  },
  {
   "cell_type": "code",
   "execution_count": 35,
   "id": "6b276ec3",
   "metadata": {
    "collapsed": false,
    "jupyter": {
     "outputs_hidden": false
    },
    "pycharm": {
     "name": "#%%\n"
    }
   },
   "outputs": [],
   "source": [
    " for i in range(0, len(destination_airport_set)):\n",
    "    d = dict.fromkeys(destination_airport_set,i)"
   ]
  },
  {
   "cell_type": "code",
   "execution_count": null,
   "id": "2cf8c81b",
   "metadata": {
    "collapsed": false,
    "jupyter": {
     "outputs_hidden": false
    },
    "pycharm": {
     "name": "#%%\n"
    }
   },
   "outputs": [],
   "source": []
  },
  {
   "cell_type": "code",
   "execution_count": 36,
   "id": "a795d26e",
   "metadata": {
    "collapsed": false,
    "jupyter": {
     "outputs_hidden": false
    },
    "pycharm": {
     "name": "#%%\n"
    }
   },
   "outputs": [],
   "source": [
    "nodes = list(destination_airport_set)"
   ]
  },
  {
   "cell_type": "code",
   "execution_count": 37,
   "id": "69f65e62",
   "metadata": {
    "collapsed": false,
    "jupyter": {
     "outputs_hidden": false
    },
    "pycharm": {
     "name": "#%%\n"
    }
   },
   "outputs": [
    {
     "data": {
      "text/plain": [
       "['Imam Khomeini International Airport',\n",
       " 'Esenboğa International Airport',\n",
       " 'Atatürk International Airport',\n",
       " 'Abu Dhabi International Airport',\n",
       " 'Sharjah International Airport',\n",
       " 'Sabiha Gökçen International Airport',\n",
       " 'Los Angeles International Airport',\n",
       " \"Chicago O'Hare International Airport\",\n",
       " 'Adnan Menderes International Airport',\n",
       " 'Hamad International Airport',\n",
       " 'Dubai International Airport']"
      ]
     },
     "execution_count": 37,
     "metadata": {},
     "output_type": "execute_result"
    }
   ],
   "source": [
    "nodes"
   ]
  },
  {
   "cell_type": "code",
   "execution_count": 38,
   "id": "0e66d620",
   "metadata": {
    "collapsed": false,
    "jupyter": {
     "outputs_hidden": false
    },
    "pycharm": {
     "name": "#%%\n"
    }
   },
   "outputs": [],
   "source": [
    "init_graph = {}\n",
    "for node in nodes:\n",
    "    init_graph[node] = {}\n",
    "\n",
    "for i in source_airport_dict:\n",
    "    init_graph[source_airport_dict[i]][destination_airport_dict[i]] = distance_dict[i]"
   ]
  },
  {
   "cell_type": "code",
   "execution_count": 39,
   "id": "d69937af",
   "metadata": {
    "collapsed": false,
    "jupyter": {
     "outputs_hidden": false
    },
    "pycharm": {
     "name": "#%%\n"
    }
   },
   "outputs": [
    {
     "data": {
      "text/plain": [
       "{'Imam Khomeini International Airport': {},\n",
       " 'Esenboğa International Airport': {'Imam Khomeini International Airport': 1676.121317120518},\n",
       " 'Atatürk International Airport': {'Imam Khomeini International Airport': 2040.9788105605924},\n",
       " 'Abu Dhabi International Airport': {'Imam Khomeini International Airport': 1266.6814529891146},\n",
       " 'Sharjah International Airport': {'Imam Khomeini International Airport': 1196.9021466325523},\n",
       " 'Sabiha Gökçen International Airport': {'Imam Khomeini International Airport': 1998.5413333328268},\n",
       " 'Los Angeles International Airport': {'Atatürk International Airport': 11034.23527495448},\n",
       " \"Chicago O'Hare International Airport\": {'Atatürk International Airport': 8813.934347917042},\n",
       " 'Adnan Menderes International Airport': {'Atatürk International Airport': 330.5162311808217},\n",
       " 'Hamad International Airport': {'Imam Khomeini International Airport': 1128.6985039169483},\n",
       " 'Dubai International Airport': {'Imam Khomeini International Airport': 1199.863567129553,\n",
       "  'Atatürk International Airport': 3008.3631780961928}}"
      ]
     },
     "execution_count": 39,
     "metadata": {},
     "output_type": "execute_result"
    }
   ],
   "source": [
    "init_graph"
   ]
  },
  {
   "cell_type": "code",
   "execution_count": 40,
   "id": "3b1fa6c8-cbd7-49cd-82f7-8f7a56238b00",
   "metadata": {
    "pycharm": {
     "name": "#%%\n"
    }
   },
   "outputs": [],
   "source": [
    "class Graph(object):\n",
    "    def __init__(self, nodes, init_graph):\n",
    "        self.nodes = nodes\n",
    "        self.graph = init_graph\n",
    "    \n",
    "    def get_nodes(self):\n",
    "        \"Returns the nodes of the graph.\"\n",
    "        return self.nodes\n",
    "    \n",
    "    def get_outgoing_edges(self, node):\n",
    "        \"Returns the neighbors of a node.\"\n",
    "        connections = []\n",
    "        for out_node in self.nodes:\n",
    "            if self.graph[node].get(out_node, False) != False:\n",
    "                connections.append(out_node)\n",
    "        return connections\n",
    "    \n",
    "    def value(self, node1, node2):\n",
    "        \"Returns the value of an edge between two nodes.\"\n",
    "        return self.graph[node1][node2]"
   ]
  },
  {
   "cell_type": "code",
   "execution_count": 41,
   "id": "fa0a7fec-1dc3-4e79-9341-5e7c4759a692",
   "metadata": {},
   "outputs": [
    {
     "ename": "NameError",
     "evalue": "name 'print_result' is not defined",
     "output_type": "error",
     "traceback": [
      "\u001b[1;31m---------------------------------------------------------------------------\u001b[0m",
      "\u001b[1;31mNameError\u001b[0m                                 Traceback (most recent call last)",
      "Cell \u001b[1;32mIn[41], line 3\u001b[0m\n\u001b[0;32m      1\u001b[0m graph \u001b[38;5;241m=\u001b[39m Graph(nodes, init_graph)\n\u001b[0;32m      2\u001b[0m previous_nodes, shortest_path \u001b[38;5;241m=\u001b[39m dijkstra_algorithm(graph\u001b[38;5;241m=\u001b[39mgraph, start_node\u001b[38;5;241m=\u001b[39m\u001b[38;5;124m\"\u001b[39m\u001b[38;5;124mLos Angeles International Airport\u001b[39m\u001b[38;5;124m\"\u001b[39m)\n\u001b[1;32m----> 3\u001b[0m \u001b[43mprint_result\u001b[49m(previous_nodes, shortest_path, start_node\u001b[38;5;241m=\u001b[39m\u001b[38;5;124m\"\u001b[39m\u001b[38;5;124mLos Angeles International Airport\u001b[39m\u001b[38;5;124m\"\u001b[39m, target_node\u001b[38;5;241m=\u001b[39m\u001b[38;5;124m\"\u001b[39m\u001b[38;5;124mImam Khomeini International Airport\u001b[39m\u001b[38;5;124m\"\u001b[39m)\n",
      "\u001b[1;31mNameError\u001b[0m: name 'print_result' is not defined"
     ]
    }
   ],
   "source": [
    "graph = Graph(nodes, init_graph)\n",
    "previous_nodes, shortest_path = dijkstra_algorithm(graph=graph, start_node=\"Los Angeles International Airport\")\n",
    "print_result(previous_nodes, shortest_path, start_node=\"Los Angeles International Airport\", target_node=\"Imam Khomeini International Airport\")"
   ]
  },
  {
   "cell_type": "code",
   "execution_count": 42,
   "id": "97f52707-5243-4fab-8c33-24032db02b58",
   "metadata": {},
   "outputs": [],
   "source": [
    "def dijkstra_algorithm(graph, start_node):\n",
    "    unvisited_nodes = list(graph.get_nodes())\n",
    "   \n",
    "    shortest_path = {}\n",
    "    \n",
    "    previous_nodes = {}\n",
    "    \n",
    "    max_value = sys.maxsize\n",
    "    for node in unvisited_nodes:\n",
    "        shortest_path[node] = max_value  \n",
    "    shortest_path[start_node] = 0\n",
    "    \n",
    "    while unvisited_nodes:\n",
    "        current_min_node = None\n",
    "        for node in unvisited_nodes:\n",
    "            if current_min_node == None:\n",
    "                current_min_node = node\n",
    "            elif shortest_path[node] < shortest_path[current_min_node]:\n",
    "                current_min_node = node\n",
    "                \n",
    "        neighbors = graph.get_outgoing_edges(current_min_node)\n",
    "        for neighbor in neighbors:\n",
    "            tentative_value = shortest_path[current_min_node] + graph.value(current_min_node, neighbor)\n",
    "            if tentative_value < shortest_path[neighbor]:\n",
    "                shortest_path[neighbor] = tentative_value\n",
    "                previous_nodes[neighbor] = current_min_node\n",
    " \n",
    "        unvisited_nodes.remove(current_min_node)\n",
    "    \n",
    "    return previous_nodes, shortest_path"
   ]
  },
  {
   "cell_type": "code",
   "execution_count": 43,
   "id": "74a955e9-fd8d-4943-a00f-654d4a7740bf",
   "metadata": {},
   "outputs": [],
   "source": [
    "def print_result(previous_nodes, shortest_path, start_node, target_node):\n",
    "    path = []\n",
    "    node = target_node\n",
    "    \n",
    "    while node != start_node:\n",
    "        path.append(node)\n",
    "        node = previous_nodes[node]\n",
    " \n",
    "    path.append(start_node)\n",
    "    \n",
    "    print(\"We found the following best path with a value of {}.\".format(shortest_path[target_node]))\n",
    "    print(\" -> \".join(reversed(path)))"
   ]
  },
  {
   "cell_type": "code",
   "execution_count": 44,
   "id": "5309c565-d285-42a0-8110-e0a693f74818",
   "metadata": {},
   "outputs": [
    {
     "data": {
      "text/plain": [
       "{'Atatürk International Airport': 'Los Angeles International Airport',\n",
       " 'Imam Khomeini International Airport': 'Atatürk International Airport'}"
      ]
     },
     "execution_count": 44,
     "metadata": {},
     "output_type": "execute_result"
    }
   ],
   "source": [
    "previous_nodes"
   ]
  },
  {
   "cell_type": "code",
   "execution_count": null,
   "id": "6a26e4c9-1cd8-4c44-a97b-bb59a36f598f",
   "metadata": {},
   "outputs": [],
   "source": []
  },
  {
   "cell_type": "code",
   "execution_count": null,
   "id": "77b2d9df-c870-481c-9c31-cfca5fff2dd4",
   "metadata": {},
   "outputs": [],
   "source": []
  },
  {
   "cell_type": "code",
   "execution_count": null,
   "id": "4c7e1d90-4fa5-4534-85ec-f501b4bffbd8",
   "metadata": {},
   "outputs": [],
   "source": []
  },
  {
   "cell_type": "code",
   "execution_count": null,
   "id": "162eec8c-88c7-4cf8-b885-4aacfe6cf650",
   "metadata": {},
   "outputs": [],
   "source": []
  }
 ],
 "metadata": {
  "kernelspec": {
   "display_name": "Python 3 (ipykernel)",
   "language": "python",
   "name": "python3"
  },
  "language_info": {
   "codemirror_mode": {
    "name": "ipython",
    "version": 3
   },
   "file_extension": ".py",
   "mimetype": "text/x-python",
   "name": "python",
   "nbconvert_exporter": "python",
   "pygments_lexer": "ipython3",
   "version": "3.11.5"
  }
 },
 "nbformat": 4,
 "nbformat_minor": 5
}
